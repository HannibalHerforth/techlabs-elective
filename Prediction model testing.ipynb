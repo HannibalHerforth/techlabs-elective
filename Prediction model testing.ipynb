{
 "cells": [
  {
   "cell_type": "code",
   "execution_count": 49,
   "metadata": {
    "scrolled": true
   },
   "outputs": [
    {
     "name": "stdout",
     "output_type": "stream",
     "text": [
      "Requirement already satisfied: keras in c:\\users\\lukas\\appdata\\roaming\\python\\python38\\site-packages (2.4.3)\n",
      "Requirement already satisfied: pyyaml in c:\\users\\lukas\\anaconda3\\lib\\site-packages (from keras) (5.3.1)\n",
      "Requirement already satisfied: numpy>=1.9.1 in c:\\users\\lukas\\anaconda3\\lib\\site-packages (from keras) (1.19.5)\n",
      "Requirement already satisfied: scipy>=0.14 in c:\\users\\lukas\\anaconda3\\lib\\site-packages (from keras) (1.5.0)\n",
      "Requirement already satisfied: h5py in c:\\users\\lukas\\anaconda3\\lib\\site-packages (from keras) (2.10.0)\n",
      "Requirement already satisfied: six in c:\\users\\lukas\\anaconda3\\lib\\site-packages (from h5py->keras) (1.15.0)\n"
     ]
    },
    {
     "data": {
      "text/html": [
       "<div>\n",
       "<style scoped>\n",
       "    .dataframe tbody tr th:only-of-type {\n",
       "        vertical-align: middle;\n",
       "    }\n",
       "\n",
       "    .dataframe tbody tr th {\n",
       "        vertical-align: top;\n",
       "    }\n",
       "\n",
       "    .dataframe thead th {\n",
       "        text-align: right;\n",
       "    }\n",
       "</style>\n",
       "<table border=\"1\" class=\"dataframe\">\n",
       "  <thead>\n",
       "    <tr style=\"text-align: right;\">\n",
       "      <th></th>\n",
       "      <th>sold.price</th>\n",
       "      <th>zip.code</th>\n",
       "      <th>overview</th>\n",
       "      <th>type</th>\n",
       "      <th>year.built</th>\n",
       "      <th>num.beds</th>\n",
       "      <th>num.baths</th>\n",
       "      <th>living.area</th>\n",
       "      <th>lot.area</th>\n",
       "      <th>masterbedroom.length</th>\n",
       "      <th>masterbedroom.width</th>\n",
       "      <th>kitchen.length</th>\n",
       "      <th>kitchen.width</th>\n",
       "      <th>rand</th>\n",
       "    </tr>\n",
       "  </thead>\n",
       "  <tbody>\n",
       "    <tr>\n",
       "      <th>0</th>\n",
       "      <td>3000000.0</td>\n",
       "      <td>2108</td>\n",
       "      <td>\\n          Property Overview - Beacon Hill gr...</td>\n",
       "      <td>Condo/Townhome/Row Home/Co-Op</td>\n",
       "      <td>1899</td>\n",
       "      <td>2</td>\n",
       "      <td>1.5</td>\n",
       "      <td>2352</td>\n",
       "      <td>NaN</td>\n",
       "      <td>15.0</td>\n",
       "      <td>15.0</td>\n",
       "      <td>12.0</td>\n",
       "      <td>10.0</td>\n",
       "      <td>0.001732</td>\n",
       "    </tr>\n",
       "    <tr>\n",
       "      <th>1</th>\n",
       "      <td>1150000.0</td>\n",
       "      <td>2476</td>\n",
       "      <td>\\n          Property Overview - Quality builde...</td>\n",
       "      <td>Single Family Home</td>\n",
       "      <td>1959</td>\n",
       "      <td>4</td>\n",
       "      <td>3.5</td>\n",
       "      <td>2713</td>\n",
       "      <td>6890.00</td>\n",
       "      <td>17.0</td>\n",
       "      <td>11.0</td>\n",
       "      <td>25.0</td>\n",
       "      <td>12.0</td>\n",
       "      <td>0.003026</td>\n",
       "    </tr>\n",
       "    <tr>\n",
       "      <th>2</th>\n",
       "      <td>1095000.0</td>\n",
       "      <td>1890</td>\n",
       "      <td>\\n          Property Overview - This surprisin...</td>\n",
       "      <td>Single Family Home</td>\n",
       "      <td>1960</td>\n",
       "      <td>4</td>\n",
       "      <td>3.5</td>\n",
       "      <td>2821</td>\n",
       "      <td>0.36</td>\n",
       "      <td>20.0</td>\n",
       "      <td>19.0</td>\n",
       "      <td>25.0</td>\n",
       "      <td>16.0</td>\n",
       "      <td>0.004115</td>\n",
       "    </tr>\n",
       "    <tr>\n",
       "      <th>3</th>\n",
       "      <td>689000.0</td>\n",
       "      <td>2118</td>\n",
       "      <td>\\n          Property Overview - Sound End Styl...</td>\n",
       "      <td>Condo/Townhome/Row Home/Co-Op</td>\n",
       "      <td>1855</td>\n",
       "      <td>1</td>\n",
       "      <td>1.0</td>\n",
       "      <td>595</td>\n",
       "      <td>NaN</td>\n",
       "      <td>13.0</td>\n",
       "      <td>12.0</td>\n",
       "      <td>8.0</td>\n",
       "      <td>8.0</td>\n",
       "      <td>0.004413</td>\n",
       "    </tr>\n",
       "    <tr>\n",
       "      <th>4</th>\n",
       "      <td>842700.0</td>\n",
       "      <td>2492</td>\n",
       "      <td>\\n          Property Overview - Welcome to thi...</td>\n",
       "      <td>Single Family Home</td>\n",
       "      <td>1974</td>\n",
       "      <td>3</td>\n",
       "      <td>2.0</td>\n",
       "      <td>1476</td>\n",
       "      <td>0.23</td>\n",
       "      <td>11.0</td>\n",
       "      <td>15.0</td>\n",
       "      <td>11.0</td>\n",
       "      <td>12.0</td>\n",
       "      <td>0.013653</td>\n",
       "    </tr>\n",
       "    <tr>\n",
       "      <th>5</th>\n",
       "      <td>300000.0</td>\n",
       "      <td>2467</td>\n",
       "      <td>\\n          Property Overview - This is a grea...</td>\n",
       "      <td>Condo/Townhome/Row Home/Co-Op</td>\n",
       "      <td>1955</td>\n",
       "      <td>2</td>\n",
       "      <td>1.0</td>\n",
       "      <td>780</td>\n",
       "      <td>NaN</td>\n",
       "      <td>12.0</td>\n",
       "      <td>12.0</td>\n",
       "      <td>13.0</td>\n",
       "      <td>9.0</td>\n",
       "      <td>0.014122</td>\n",
       "    </tr>\n",
       "    <tr>\n",
       "      <th>6</th>\n",
       "      <td>840000.0</td>\n",
       "      <td>2130</td>\n",
       "      <td>\\n          Property Overview - This beautiful...</td>\n",
       "      <td>Condo/Townhome/Row Home/Co-Op</td>\n",
       "      <td>1910</td>\n",
       "      <td>3</td>\n",
       "      <td>2.0</td>\n",
       "      <td>1133</td>\n",
       "      <td>1133.00</td>\n",
       "      <td>14.0</td>\n",
       "      <td>11.0</td>\n",
       "      <td>12.0</td>\n",
       "      <td>12.0</td>\n",
       "      <td>0.015632</td>\n",
       "    </tr>\n",
       "    <tr>\n",
       "      <th>7</th>\n",
       "      <td>751000.0</td>\n",
       "      <td>2472</td>\n",
       "      <td>\\n          Property Overview - Immaculate 3 b...</td>\n",
       "      <td>Single Family Home</td>\n",
       "      <td>1950</td>\n",
       "      <td>3</td>\n",
       "      <td>2.5</td>\n",
       "      <td>2003</td>\n",
       "      <td>5000.00</td>\n",
       "      <td>15.0</td>\n",
       "      <td>15.0</td>\n",
       "      <td>11.0</td>\n",
       "      <td>13.0</td>\n",
       "      <td>0.022707</td>\n",
       "    </tr>\n",
       "    <tr>\n",
       "      <th>8</th>\n",
       "      <td>730000.0</td>\n",
       "      <td>1945</td>\n",
       "      <td>\\n          Property Overview - Multiple Offer...</td>\n",
       "      <td>Single Family Home</td>\n",
       "      <td>1935</td>\n",
       "      <td>5</td>\n",
       "      <td>2.5</td>\n",
       "      <td>2967</td>\n",
       "      <td>7565.00</td>\n",
       "      <td>22.0</td>\n",
       "      <td>13.0</td>\n",
       "      <td>23.0</td>\n",
       "      <td>16.0</td>\n",
       "      <td>0.023967</td>\n",
       "    </tr>\n",
       "    <tr>\n",
       "      <th>9</th>\n",
       "      <td>580000.0</td>\n",
       "      <td>2128</td>\n",
       "      <td>\\n          Property Overview - Multiple offer...</td>\n",
       "      <td>Condo/Townhome/Row Home/Co-Op</td>\n",
       "      <td>2012</td>\n",
       "      <td>3</td>\n",
       "      <td>2.0</td>\n",
       "      <td>1417</td>\n",
       "      <td>NaN</td>\n",
       "      <td>15.0</td>\n",
       "      <td>14.0</td>\n",
       "      <td>12.0</td>\n",
       "      <td>17.0</td>\n",
       "      <td>0.025222</td>\n",
       "    </tr>\n",
       "  </tbody>\n",
       "</table>\n",
       "</div>"
      ],
      "text/plain": [
       "   sold.price  zip.code                                           overview  \\\n",
       "0   3000000.0      2108  \\n          Property Overview - Beacon Hill gr...   \n",
       "1   1150000.0      2476  \\n          Property Overview - Quality builde...   \n",
       "2   1095000.0      1890  \\n          Property Overview - This surprisin...   \n",
       "3    689000.0      2118  \\n          Property Overview - Sound End Styl...   \n",
       "4    842700.0      2492  \\n          Property Overview - Welcome to thi...   \n",
       "5    300000.0      2467  \\n          Property Overview - This is a grea...   \n",
       "6    840000.0      2130  \\n          Property Overview - This beautiful...   \n",
       "7    751000.0      2472  \\n          Property Overview - Immaculate 3 b...   \n",
       "8    730000.0      1945  \\n          Property Overview - Multiple Offer...   \n",
       "9    580000.0      2128  \\n          Property Overview - Multiple offer...   \n",
       "\n",
       "                            type  year.built  num.beds  num.baths  \\\n",
       "0  Condo/Townhome/Row Home/Co-Op        1899         2        1.5   \n",
       "1             Single Family Home        1959         4        3.5   \n",
       "2             Single Family Home        1960         4        3.5   \n",
       "3  Condo/Townhome/Row Home/Co-Op        1855         1        1.0   \n",
       "4             Single Family Home        1974         3        2.0   \n",
       "5  Condo/Townhome/Row Home/Co-Op        1955         2        1.0   \n",
       "6  Condo/Townhome/Row Home/Co-Op        1910         3        2.0   \n",
       "7             Single Family Home        1950         3        2.5   \n",
       "8             Single Family Home        1935         5        2.5   \n",
       "9  Condo/Townhome/Row Home/Co-Op        2012         3        2.0   \n",
       "\n",
       "   living.area  lot.area  masterbedroom.length  masterbedroom.width  \\\n",
       "0         2352       NaN                  15.0                 15.0   \n",
       "1         2713   6890.00                  17.0                 11.0   \n",
       "2         2821      0.36                  20.0                 19.0   \n",
       "3          595       NaN                  13.0                 12.0   \n",
       "4         1476      0.23                  11.0                 15.0   \n",
       "5          780       NaN                  12.0                 12.0   \n",
       "6         1133   1133.00                  14.0                 11.0   \n",
       "7         2003   5000.00                  15.0                 15.0   \n",
       "8         2967   7565.00                  22.0                 13.0   \n",
       "9         1417       NaN                  15.0                 14.0   \n",
       "\n",
       "   kitchen.length  kitchen.width      rand  \n",
       "0            12.0           10.0  0.001732  \n",
       "1            25.0           12.0  0.003026  \n",
       "2            25.0           16.0  0.004115  \n",
       "3             8.0            8.0  0.004413  \n",
       "4            11.0           12.0  0.013653  \n",
       "5            13.0            9.0  0.014122  \n",
       "6            12.0           12.0  0.015632  \n",
       "7            11.0           13.0  0.022707  \n",
       "8            23.0           16.0  0.023967  \n",
       "9            12.0           17.0  0.025222  "
      ]
     },
     "execution_count": 49,
     "metadata": {},
     "output_type": "execute_result"
    }
   ],
   "source": [
    "import pandas as pd\n",
    "import numpy as np\n",
    "import matplotlib.pyplot as plt\n",
    "import seaborn as sns\n",
    "!pip install keras\n",
    "from sklearn.linear_model import LinearRegression\n",
    "from sklearn.model_selection import cross_val_score\n",
    "from sklearn.model_selection import train_test_split\n",
    "from sklearn.metrics import confusion_matrix, classification_report\n",
    "from sklearn.decomposition import PCA\n",
    "from sklearn.preprocessing import MinMaxScaler\n",
    "from sklearn.pipeline import make_pipeline\n",
    "sns.set(color_codes=True)\n",
    "df = pd.read_excel(\"../techlabs-elective/realtor.spring.2020.xlsx\")\n",
    "df.head(10)"
   ]
  },
  {
   "cell_type": "code",
   "execution_count": 50,
   "metadata": {},
   "outputs": [],
   "source": [
    "df['sold.price'] = df['sold.price'].fillna((df['sold.price'].mean()))"
   ]
  },
  {
   "cell_type": "code",
   "execution_count": null,
   "metadata": {},
   "outputs": [],
   "source": []
  },
  {
   "cell_type": "code",
   "execution_count": 51,
   "metadata": {},
   "outputs": [
    {
     "data": {
      "text/html": [
       "<div>\n",
       "<style scoped>\n",
       "    .dataframe tbody tr th:only-of-type {\n",
       "        vertical-align: middle;\n",
       "    }\n",
       "\n",
       "    .dataframe tbody tr th {\n",
       "        vertical-align: top;\n",
       "    }\n",
       "\n",
       "    .dataframe thead th {\n",
       "        text-align: right;\n",
       "    }\n",
       "</style>\n",
       "<table border=\"1\" class=\"dataframe\">\n",
       "  <thead>\n",
       "    <tr style=\"text-align: right;\">\n",
       "      <th></th>\n",
       "      <th>sold.price</th>\n",
       "      <th>zip.code</th>\n",
       "      <th>year.built</th>\n",
       "      <th>num.beds</th>\n",
       "      <th>num.baths</th>\n",
       "      <th>living.area</th>\n",
       "      <th>masterbedroom.length</th>\n",
       "      <th>masterbedroom.width</th>\n",
       "      <th>kitchen.length</th>\n",
       "      <th>kitchen.width</th>\n",
       "      <th>rand</th>\n",
       "    </tr>\n",
       "  </thead>\n",
       "  <tbody>\n",
       "    <tr>\n",
       "      <th>0</th>\n",
       "      <td>3000000.0</td>\n",
       "      <td>2108</td>\n",
       "      <td>1899</td>\n",
       "      <td>2</td>\n",
       "      <td>1.5</td>\n",
       "      <td>2352</td>\n",
       "      <td>15.0</td>\n",
       "      <td>15.0</td>\n",
       "      <td>12.0</td>\n",
       "      <td>10.0</td>\n",
       "      <td>0.001732</td>\n",
       "    </tr>\n",
       "    <tr>\n",
       "      <th>1</th>\n",
       "      <td>1150000.0</td>\n",
       "      <td>2476</td>\n",
       "      <td>1959</td>\n",
       "      <td>4</td>\n",
       "      <td>3.5</td>\n",
       "      <td>2713</td>\n",
       "      <td>17.0</td>\n",
       "      <td>11.0</td>\n",
       "      <td>25.0</td>\n",
       "      <td>12.0</td>\n",
       "      <td>0.003026</td>\n",
       "    </tr>\n",
       "    <tr>\n",
       "      <th>2</th>\n",
       "      <td>1095000.0</td>\n",
       "      <td>1890</td>\n",
       "      <td>1960</td>\n",
       "      <td>4</td>\n",
       "      <td>3.5</td>\n",
       "      <td>2821</td>\n",
       "      <td>20.0</td>\n",
       "      <td>19.0</td>\n",
       "      <td>25.0</td>\n",
       "      <td>16.0</td>\n",
       "      <td>0.004115</td>\n",
       "    </tr>\n",
       "    <tr>\n",
       "      <th>3</th>\n",
       "      <td>689000.0</td>\n",
       "      <td>2118</td>\n",
       "      <td>1855</td>\n",
       "      <td>1</td>\n",
       "      <td>1.0</td>\n",
       "      <td>595</td>\n",
       "      <td>13.0</td>\n",
       "      <td>12.0</td>\n",
       "      <td>8.0</td>\n",
       "      <td>8.0</td>\n",
       "      <td>0.004413</td>\n",
       "    </tr>\n",
       "    <tr>\n",
       "      <th>4</th>\n",
       "      <td>842700.0</td>\n",
       "      <td>2492</td>\n",
       "      <td>1974</td>\n",
       "      <td>3</td>\n",
       "      <td>2.0</td>\n",
       "      <td>1476</td>\n",
       "      <td>11.0</td>\n",
       "      <td>15.0</td>\n",
       "      <td>11.0</td>\n",
       "      <td>12.0</td>\n",
       "      <td>0.013653</td>\n",
       "    </tr>\n",
       "  </tbody>\n",
       "</table>\n",
       "</div>"
      ],
      "text/plain": [
       "   sold.price  zip.code  year.built  num.beds  num.baths  living.area  \\\n",
       "0   3000000.0      2108        1899         2        1.5         2352   \n",
       "1   1150000.0      2476        1959         4        3.5         2713   \n",
       "2   1095000.0      1890        1960         4        3.5         2821   \n",
       "3    689000.0      2118        1855         1        1.0          595   \n",
       "4    842700.0      2492        1974         3        2.0         1476   \n",
       "\n",
       "   masterbedroom.length  masterbedroom.width  kitchen.length  kitchen.width  \\\n",
       "0                  15.0                 15.0            12.0           10.0   \n",
       "1                  17.0                 11.0            25.0           12.0   \n",
       "2                  20.0                 19.0            25.0           16.0   \n",
       "3                  13.0                 12.0             8.0            8.0   \n",
       "4                  11.0                 15.0            11.0           12.0   \n",
       "\n",
       "       rand  \n",
       "0  0.001732  \n",
       "1  0.003026  \n",
       "2  0.004115  \n",
       "3  0.004413  \n",
       "4  0.013653  "
      ]
     },
     "execution_count": 51,
     "metadata": {},
     "output_type": "execute_result"
    }
   ],
   "source": [
    "df.drop(df.columns[[2,3,8]], axis=1, inplace=True)\n",
    "df.head()"
   ]
  },
  {
   "cell_type": "code",
   "execution_count": 253,
   "metadata": {},
   "outputs": [],
   "source": [
    "# Create scaler: scaler\n",
    "scaler = MinMaxScaler()"
   ]
  },
  {
   "cell_type": "code",
   "execution_count": 254,
   "metadata": {},
   "outputs": [],
   "source": [
    "# Create a PCA instance: pca\n",
    "pca = PCA()"
   ]
  },
  {
   "cell_type": "code",
   "execution_count": 255,
   "metadata": {},
   "outputs": [],
   "source": [
    "# Create pipeline: pipeline\n",
    "pipeline = make_pipeline(scaler, pca)"
   ]
  },
  {
   "cell_type": "code",
   "execution_count": 256,
   "metadata": {},
   "outputs": [
    {
     "data": {
      "text/plain": [
       "Pipeline(steps=[('minmaxscaler', MinMaxScaler()), ('pca', PCA())])"
      ]
     },
     "execution_count": 256,
     "metadata": {},
     "output_type": "execute_result"
    }
   ],
   "source": [
    "# Fit the pipeline to 'df'\n",
    "pipeline.fit(df)"
   ]
  },
  {
   "cell_type": "code",
   "execution_count": 257,
   "metadata": {
    "scrolled": true
   },
   "outputs": [
    {
     "data": {
      "image/png": "[encoded data removed]",
      "text/plain": [
       "<Figure size 432x288 with 1 Axes>"
      ]
     },
     "metadata": {},
     "output_type": "display_data"
    }
   ],
   "source": [
    "# Plot the explained variances\n",
    "features = range(pca.n_components_)\n",
    "plt.bar(features, pca.explained_variance_)\n",
    "plt.xlabel('PCA feature')\n",
    "plt.ylabel('variance')\n",
    "plt.xticks(features)\n",
    "plt.show()\n"
   ]
  },
  {
   "cell_type": "code",
   "execution_count": 234,
   "metadata": {},
   "outputs": [
    {
     "name": "stdout",
     "output_type": "stream",
     "text": [
      "(566, 6)\n"
     ]
    }
   ],
   "source": [
    "# Create a PCA model with 6 components: pca\n",
    "pca = PCA(n_components=6)\n",
    "\n",
    "# Fit the PCA instance to df\n",
    "pca.fit(df)\n",
    "\n",
    "# Transform df: df\n",
    "df2 = pca.transform(df)\n",
    "\n",
    "# Print the shape of pca_features\n",
    "print(pca_features.shape)"
   ]
  },
  {
   "cell_type": "code",
   "execution_count": 52,
   "metadata": {},
   "outputs": [
    {
     "data": {
      "text/html": [
       "<div>\n",
       "<style scoped>\n",
       "    .dataframe tbody tr th:only-of-type {\n",
       "        vertical-align: middle;\n",
       "    }\n",
       "\n",
       "    .dataframe tbody tr th {\n",
       "        vertical-align: top;\n",
       "    }\n",
       "\n",
       "    .dataframe thead th {\n",
       "        text-align: right;\n",
       "    }\n",
       "</style>\n",
       "<table border=\"1\" class=\"dataframe\">\n",
       "  <thead>\n",
       "    <tr style=\"text-align: right;\">\n",
       "      <th></th>\n",
       "      <th>sold.price</th>\n",
       "      <th>zip.code</th>\n",
       "      <th>year.built</th>\n",
       "      <th>num.beds</th>\n",
       "      <th>num.baths</th>\n",
       "      <th>living.area</th>\n",
       "    </tr>\n",
       "  </thead>\n",
       "  <tbody>\n",
       "    <tr>\n",
       "      <th>0</th>\n",
       "      <td>3000000.0</td>\n",
       "      <td>2108</td>\n",
       "      <td>1899</td>\n",
       "      <td>2</td>\n",
       "      <td>1.5</td>\n",
       "      <td>2352</td>\n",
       "    </tr>\n",
       "    <tr>\n",
       "      <th>1</th>\n",
       "      <td>1150000.0</td>\n",
       "      <td>2476</td>\n",
       "      <td>1959</td>\n",
       "      <td>4</td>\n",
       "      <td>3.5</td>\n",
       "      <td>2713</td>\n",
       "    </tr>\n",
       "    <tr>\n",
       "      <th>2</th>\n",
       "      <td>1095000.0</td>\n",
       "      <td>1890</td>\n",
       "      <td>1960</td>\n",
       "      <td>4</td>\n",
       "      <td>3.5</td>\n",
       "      <td>2821</td>\n",
       "    </tr>\n",
       "    <tr>\n",
       "      <th>3</th>\n",
       "      <td>689000.0</td>\n",
       "      <td>2118</td>\n",
       "      <td>1855</td>\n",
       "      <td>1</td>\n",
       "      <td>1.0</td>\n",
       "      <td>595</td>\n",
       "    </tr>\n",
       "    <tr>\n",
       "      <th>4</th>\n",
       "      <td>842700.0</td>\n",
       "      <td>2492</td>\n",
       "      <td>1974</td>\n",
       "      <td>3</td>\n",
       "      <td>2.0</td>\n",
       "      <td>1476</td>\n",
       "    </tr>\n",
       "  </tbody>\n",
       "</table>\n",
       "</div>"
      ],
      "text/plain": [
       "   sold.price  zip.code  year.built  num.beds  num.baths  living.area\n",
       "0   3000000.0      2108        1899         2        1.5         2352\n",
       "1   1150000.0      2476        1959         4        3.5         2713\n",
       "2   1095000.0      1890        1960         4        3.5         2821\n",
       "3    689000.0      2118        1855         1        1.0          595\n",
       "4    842700.0      2492        1974         3        2.0         1476"
      ]
     },
     "execution_count": 52,
     "metadata": {},
     "output_type": "execute_result"
    }
   ],
   "source": [
    "df.drop(df.columns[[6, 7, 8, 9,10]], axis=1, inplace=True)\n",
    "df.head()"
   ]
  },
  {
   "cell_type": "code",
   "execution_count": 53,
   "metadata": {},
   "outputs": [
    {
     "name": "stdout",
     "output_type": "stream",
     "text": [
      "<class 'pandas.core.frame.DataFrame'>\n",
      "RangeIndex: 566 entries, 0 to 565\n",
      "Data columns (total 6 columns):\n",
      " #   Column       Non-Null Count  Dtype  \n",
      "---  ------       --------------  -----  \n",
      " 0   sold.price   566 non-null    float64\n",
      " 1   zip.code     566 non-null    int64  \n",
      " 2   year.built   566 non-null    int64  \n",
      " 3   num.beds     566 non-null    int64  \n",
      " 4   num.baths    566 non-null    float64\n",
      " 5   living.area  566 non-null    int64  \n",
      "dtypes: float64(2), int64(4)\n",
      "memory usage: 26.7 KB\n"
     ]
    }
   ],
   "source": [
    "df.info()"
   ]
  },
  {
   "cell_type": "code",
   "execution_count": null,
   "metadata": {},
   "outputs": [],
   "source": []
  },
  {
   "cell_type": "code",
   "execution_count": 54,
   "metadata": {},
   "outputs": [],
   "source": [
    "y=df['sold.price'].values\n",
    "X=df.drop('sold.price', axis=1).values"
   ]
  },
  {
   "cell_type": "code",
   "execution_count": 6,
   "metadata": {},
   "outputs": [],
   "source": [
    "from sklearn.preprocessing import MinMaxScaler\n",
    "scaler =MinMaxScaler()\n",
    "X_scale = scaler.fit_transform(X)"
   ]
  },
  {
   "cell_type": "code",
   "execution_count": 7,
   "metadata": {},
   "outputs": [],
   "source": [
    "#create training and test sets \n",
    "X_train, X_test_and_val, y_train, y_test_and_val = train_test_split(X_scale, y, test_size = 0.3, random_state=42)"
   ]
  },
  {
   "cell_type": "code",
   "execution_count": 8,
   "metadata": {},
   "outputs": [],
   "source": [
    "#import gradientboosting\n",
    "from sklearn import ensemble\n",
    "clf = ensemble.GradientBoostingRegressor(n_estimators = 500, max_depth = 3, min_samples_split = 2,\n",
    "          learning_rate = 0.1, loss = 'ls')"
   ]
  },
  {
   "cell_type": "code",
   "execution_count": 9,
   "metadata": {},
   "outputs": [
    {
     "data": {
      "text/plain": [
       "GradientBoostingRegressor(n_estimators=500)"
      ]
     },
     "execution_count": 9,
     "metadata": {},
     "output_type": "execute_result"
    }
   ],
   "source": [
    "#fit the data\n",
    "clf.fit(X_train, y_train)"
   ]
  },
  {
   "cell_type": "code",
   "execution_count": 306,
   "metadata": {},
   "outputs": [
    {
     "data": {
      "text/plain": [
       "0.41912784560256067"
      ]
     },
     "execution_count": 306,
     "metadata": {},
     "output_type": "execute_result"
    }
   ],
   "source": [
    "#test the accuracy\n",
    "clf.score(X_test,y_test)"
   ]
  },
  {
   "cell_type": "code",
   "execution_count": 293,
   "metadata": {},
   "outputs": [],
   "source": [
    "#create val and test set\n",
    "X_val, X_test, y_val, y_test = train_test_split(X_test_and_val, y_test_and_val, test_size = 0.5) \n"
   ]
  },
  {
   "cell_type": "code",
   "execution_count": 123,
   "metadata": {},
   "outputs": [
    {
     "name": "stdout",
     "output_type": "stream",
     "text": [
      "(396, 5) (85, 5) (85, 5) (396,) (85,) (85,)\n"
     ]
    }
   ],
   "source": [
    "print(X_train.shape, X_val.shape, X_test.shape, y_train.shape, y_val.shape, y_test.shape)"
   ]
  },
  {
   "cell_type": "code",
   "execution_count": 55,
   "metadata": {},
   "outputs": [],
   "source": [
    "from sklearn.neural_network import MLPClassifier\n",
    "from sklearn.datasets import make_classification"
   ]
  },
  {
   "cell_type": "code",
   "execution_count": 56,
   "metadata": {},
   "outputs": [],
   "source": [
    "X, y = make_classification(n_samples=100, random_state=42)\n",
    "X_train, X_test, y_train, y_test = train_test_split(X, y, stratify=y,\n",
    "                                                    random_state=42)"
   ]
  },
  {
   "cell_type": "code",
   "execution_count": 81,
   "metadata": {},
   "outputs": [
    {
     "name": "stderr",
     "output_type": "stream",
     "text": [
      "C:\\Users\\Lukas\\anaconda3\\lib\\site-packages\\sklearn\\neural_network\\_multilayer_perceptron.py:582: ConvergenceWarning: Stochastic Optimizer: Maximum iterations (300) reached and the optimization hasn't converged yet.\n",
      "  warnings.warn(\n"
     ]
    },
    {
     "data": {
      "text/plain": [
       "array([[0.0687831 , 0.9312169 ],\n",
       "       [0.11100859, 0.88899141],\n",
       "       [0.04910201, 0.95089799],\n",
       "       [0.8464881 , 0.1535119 ],\n",
       "       [0.03875396, 0.96124604],\n",
       "       [0.8151489 , 0.1848511 ],\n",
       "       [0.89694092, 0.10305908],\n",
       "       [0.04444284, 0.95555716],\n",
       "       [0.04194248, 0.95805752],\n",
       "       [0.03775189, 0.96224811],\n",
       "       [0.88662797, 0.11337203],\n",
       "       [0.12810745, 0.87189255],\n",
       "       [0.77271686, 0.22728314],\n",
       "       [0.94391995, 0.05608005],\n",
       "       [0.76572994, 0.23427006],\n",
       "       [0.93571507, 0.06428493],\n",
       "       [0.65750002, 0.34249998],\n",
       "       [0.26346573, 0.73653427],\n",
       "       [0.99550362, 0.00449638],\n",
       "       [0.97890212, 0.02109788],\n",
       "       [0.95945505, 0.04054495],\n",
       "       [0.98380252, 0.01619748],\n",
       "       [0.86446393, 0.13553607],\n",
       "       [0.99623677, 0.00376323],\n",
       "       [0.01036135, 0.98963865]])"
      ]
     },
     "execution_count": 81,
     "metadata": {},
     "output_type": "execute_result"
    }
   ],
   "source": [
    "clf = MLPClassifier(hidden_layer_sizes=(20,), random_state=42, max_iter=300).fit(X_train, y_train)\n",
    "clf.predict_proba(X_test)"
   ]
  },
  {
   "cell_type": "code",
   "execution_count": 63,
   "metadata": {},
   "outputs": [
    {
     "data": {
      "text/plain": [
       "array([1, 1, 1, 0, 1, 0, 0, 1, 1, 1, 0, 1, 0, 0, 0, 0, 1, 1, 0, 0, 0, 0,\n",
       "       0, 0, 1])"
      ]
     },
     "execution_count": 63,
     "metadata": {},
     "output_type": "execute_result"
    }
   ],
   "source": [
    "clf.predict(X_test)"
   ]
  },
  {
   "cell_type": "code",
   "execution_count": 82,
   "metadata": {},
   "outputs": [
    {
     "data": {
      "text/plain": [
       "0.92"
      ]
     },
     "execution_count": 82,
     "metadata": {},
     "output_type": "execute_result"
    }
   ],
   "source": [
    "clf.score(X_test, y_test)"
   ]
  },
  {
   "cell_type": "code",
   "execution_count": 83,
   "metadata": {},
   "outputs": [
    {
     "ename": "TypeError",
     "evalue": "'MLPClassifier' object is not callable",
     "output_type": "error",
     "traceback": [
      "\u001b[1;31m---------------------------------------------------------------------------\u001b[0m",
      "\u001b[1;31mTypeError\u001b[0m                                 Traceback (most recent call last)",
      "\u001b[1;32m<ipython-input-83-e9db6185bcd2>\u001b[0m in \u001b[0;36m<module>\u001b[1;34m\u001b[0m\n\u001b[1;32m----> 1\u001b[1;33m \u001b[0mprint\u001b[0m\u001b[1;33m(\u001b[0m\u001b[0mclf\u001b[0m\u001b[1;33m(\u001b[0m\u001b[1;36m2\u001b[0m\u001b[1;33m)\u001b[0m\u001b[1;33m)\u001b[0m\u001b[1;33m\u001b[0m\u001b[1;33m\u001b[0m\u001b[0m\n\u001b[0m",
      "\u001b[1;31mTypeError\u001b[0m: 'MLPClassifier' object is not callable"
     ]
    }
   ],
   "source": [
    "print(clf(2))"
   ]
  },
  {
   "cell_type": "code",
   "execution_count": null,
   "metadata": {},
   "outputs": [],
   "source": []
  }
 ],
 "metadata": {
  "kernelspec": {
   "display_name": "Python 3",
   "language": "python",
   "name": "python3"
  },
  "language_info": {
   "codemirror_mode": {
    "name": "ipython",
    "version": 3
   },
   "file_extension": ".py",
   "mimetype": "text/x-python",
   "name": "python",
   "nbconvert_exporter": "python",
   "pygments_lexer": "ipython3",
   "version": "3.8.3"
  }
 },
 "nbformat": 4,
 "nbformat_minor": 4
}
