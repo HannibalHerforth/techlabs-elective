{
 "cells": [
  {
   "cell_type": "code",
   "execution_count": 112,
   "metadata": {
    "scrolled": true
   },
   "outputs": [
    {
     "name": "stdout",
     "output_type": "stream",
     "text": [
      "Requirement already satisfied: keras in c:\\users\\lukas\\appdata\\roaming\\python\\python38\\site-packages (2.4.3)\n",
      "Requirement already satisfied: numpy>=1.9.1 in c:\\users\\lukas\\anaconda3\\lib\\site-packages (from keras) (1.19.5)\n",
      "Requirement already satisfied: pyyaml in c:\\users\\lukas\\anaconda3\\lib\\site-packages (from keras) (5.3.1)\n",
      "Requirement already satisfied: h5py in c:\\users\\lukas\\anaconda3\\lib\\site-packages (from keras) (2.10.0)\n",
      "Requirement already satisfied: scipy>=0.14 in c:\\users\\lukas\\anaconda3\\lib\\site-packages (from keras) (1.5.0)\n",
      "Requirement already satisfied: six in c:\\users\\lukas\\anaconda3\\lib\\site-packages (from h5py->keras) (1.15.0)\n"
     ]
    },
    {
     "data": {
      "text/html": [
       "<div>\n",
       "<style scoped>\n",
       "    .dataframe tbody tr th:only-of-type {\n",
       "        vertical-align: middle;\n",
       "    }\n",
       "\n",
       "    .dataframe tbody tr th {\n",
       "        vertical-align: top;\n",
       "    }\n",
       "\n",
       "    .dataframe thead th {\n",
       "        text-align: right;\n",
       "    }\n",
       "</style>\n",
       "<table border=\"1\" class=\"dataframe\">\n",
       "  <thead>\n",
       "    <tr style=\"text-align: right;\">\n",
       "      <th></th>\n",
       "      <th>sold.price</th>\n",
       "      <th>zip.code</th>\n",
       "      <th>overview</th>\n",
       "      <th>type</th>\n",
       "      <th>year.built</th>\n",
       "      <th>num.beds</th>\n",
       "      <th>num.baths</th>\n",
       "      <th>living.area</th>\n",
       "      <th>lot.area</th>\n",
       "      <th>masterbedroom.length</th>\n",
       "      <th>masterbedroom.width</th>\n",
       "      <th>kitchen.length</th>\n",
       "      <th>kitchen.width</th>\n",
       "      <th>rand</th>\n",
       "    </tr>\n",
       "  </thead>\n",
       "  <tbody>\n",
       "    <tr>\n",
       "      <th>0</th>\n",
       "      <td>3000000.0</td>\n",
       "      <td>2108</td>\n",
       "      <td>\\n          Property Overview - Beacon Hill gr...</td>\n",
       "      <td>Condo/Townhome/Row Home/Co-Op</td>\n",
       "      <td>1899</td>\n",
       "      <td>2</td>\n",
       "      <td>1.5</td>\n",
       "      <td>2352</td>\n",
       "      <td>NaN</td>\n",
       "      <td>15.0</td>\n",
       "      <td>15.0</td>\n",
       "      <td>12.0</td>\n",
       "      <td>10.0</td>\n",
       "      <td>0.001732</td>\n",
       "    </tr>\n",
       "    <tr>\n",
       "      <th>1</th>\n",
       "      <td>1150000.0</td>\n",
       "      <td>2476</td>\n",
       "      <td>\\n          Property Overview - Quality builde...</td>\n",
       "      <td>Single Family Home</td>\n",
       "      <td>1959</td>\n",
       "      <td>4</td>\n",
       "      <td>3.5</td>\n",
       "      <td>2713</td>\n",
       "      <td>6890.00</td>\n",
       "      <td>17.0</td>\n",
       "      <td>11.0</td>\n",
       "      <td>25.0</td>\n",
       "      <td>12.0</td>\n",
       "      <td>0.003026</td>\n",
       "    </tr>\n",
       "    <tr>\n",
       "      <th>2</th>\n",
       "      <td>1095000.0</td>\n",
       "      <td>1890</td>\n",
       "      <td>\\n          Property Overview - This surprisin...</td>\n",
       "      <td>Single Family Home</td>\n",
       "      <td>1960</td>\n",
       "      <td>4</td>\n",
       "      <td>3.5</td>\n",
       "      <td>2821</td>\n",
       "      <td>0.36</td>\n",
       "      <td>20.0</td>\n",
       "      <td>19.0</td>\n",
       "      <td>25.0</td>\n",
       "      <td>16.0</td>\n",
       "      <td>0.004115</td>\n",
       "    </tr>\n",
       "    <tr>\n",
       "      <th>3</th>\n",
       "      <td>689000.0</td>\n",
       "      <td>2118</td>\n",
       "      <td>\\n          Property Overview - Sound End Styl...</td>\n",
       "      <td>Condo/Townhome/Row Home/Co-Op</td>\n",
       "      <td>1855</td>\n",
       "      <td>1</td>\n",
       "      <td>1.0</td>\n",
       "      <td>595</td>\n",
       "      <td>NaN</td>\n",
       "      <td>13.0</td>\n",
       "      <td>12.0</td>\n",
       "      <td>8.0</td>\n",
       "      <td>8.0</td>\n",
       "      <td>0.004413</td>\n",
       "    </tr>\n",
       "    <tr>\n",
       "      <th>4</th>\n",
       "      <td>842700.0</td>\n",
       "      <td>2492</td>\n",
       "      <td>\\n          Property Overview - Welcome to thi...</td>\n",
       "      <td>Single Family Home</td>\n",
       "      <td>1974</td>\n",
       "      <td>3</td>\n",
       "      <td>2.0</td>\n",
       "      <td>1476</td>\n",
       "      <td>0.23</td>\n",
       "      <td>11.0</td>\n",
       "      <td>15.0</td>\n",
       "      <td>11.0</td>\n",
       "      <td>12.0</td>\n",
       "      <td>0.013653</td>\n",
       "    </tr>\n",
       "    <tr>\n",
       "      <th>5</th>\n",
       "      <td>300000.0</td>\n",
       "      <td>2467</td>\n",
       "      <td>\\n          Property Overview - This is a grea...</td>\n",
       "      <td>Condo/Townhome/Row Home/Co-Op</td>\n",
       "      <td>1955</td>\n",
       "      <td>2</td>\n",
       "      <td>1.0</td>\n",
       "      <td>780</td>\n",
       "      <td>NaN</td>\n",
       "      <td>12.0</td>\n",
       "      <td>12.0</td>\n",
       "      <td>13.0</td>\n",
       "      <td>9.0</td>\n",
       "      <td>0.014122</td>\n",
       "    </tr>\n",
       "    <tr>\n",
       "      <th>6</th>\n",
       "      <td>840000.0</td>\n",
       "      <td>2130</td>\n",
       "      <td>\\n          Property Overview - This beautiful...</td>\n",
       "      <td>Condo/Townhome/Row Home/Co-Op</td>\n",
       "      <td>1910</td>\n",
       "      <td>3</td>\n",
       "      <td>2.0</td>\n",
       "      <td>1133</td>\n",
       "      <td>1133.00</td>\n",
       "      <td>14.0</td>\n",
       "      <td>11.0</td>\n",
       "      <td>12.0</td>\n",
       "      <td>12.0</td>\n",
       "      <td>0.015632</td>\n",
       "    </tr>\n",
       "    <tr>\n",
       "      <th>7</th>\n",
       "      <td>751000.0</td>\n",
       "      <td>2472</td>\n",
       "      <td>\\n          Property Overview - Immaculate 3 b...</td>\n",
       "      <td>Single Family Home</td>\n",
       "      <td>1950</td>\n",
       "      <td>3</td>\n",
       "      <td>2.5</td>\n",
       "      <td>2003</td>\n",
       "      <td>5000.00</td>\n",
       "      <td>15.0</td>\n",
       "      <td>15.0</td>\n",
       "      <td>11.0</td>\n",
       "      <td>13.0</td>\n",
       "      <td>0.022707</td>\n",
       "    </tr>\n",
       "    <tr>\n",
       "      <th>8</th>\n",
       "      <td>730000.0</td>\n",
       "      <td>1945</td>\n",
       "      <td>\\n          Property Overview - Multiple Offer...</td>\n",
       "      <td>Single Family Home</td>\n",
       "      <td>1935</td>\n",
       "      <td>5</td>\n",
       "      <td>2.5</td>\n",
       "      <td>2967</td>\n",
       "      <td>7565.00</td>\n",
       "      <td>22.0</td>\n",
       "      <td>13.0</td>\n",
       "      <td>23.0</td>\n",
       "      <td>16.0</td>\n",
       "      <td>0.023967</td>\n",
       "    </tr>\n",
       "    <tr>\n",
       "      <th>9</th>\n",
       "      <td>580000.0</td>\n",
       "      <td>2128</td>\n",
       "      <td>\\n          Property Overview - Multiple offer...</td>\n",
       "      <td>Condo/Townhome/Row Home/Co-Op</td>\n",
       "      <td>2012</td>\n",
       "      <td>3</td>\n",
       "      <td>2.0</td>\n",
       "      <td>1417</td>\n",
       "      <td>NaN</td>\n",
       "      <td>15.0</td>\n",
       "      <td>14.0</td>\n",
       "      <td>12.0</td>\n",
       "      <td>17.0</td>\n",
       "      <td>0.025222</td>\n",
       "    </tr>\n",
       "  </tbody>\n",
       "</table>\n",
       "</div>"
      ],
      "text/plain": [
       "   sold.price  zip.code                                           overview  \\\n",
       "0   3000000.0      2108  \\n          Property Overview - Beacon Hill gr...   \n",
       "1   1150000.0      2476  \\n          Property Overview - Quality builde...   \n",
       "2   1095000.0      1890  \\n          Property Overview - This surprisin...   \n",
       "3    689000.0      2118  \\n          Property Overview - Sound End Styl...   \n",
       "4    842700.0      2492  \\n          Property Overview - Welcome to thi...   \n",
       "5    300000.0      2467  \\n          Property Overview - This is a grea...   \n",
       "6    840000.0      2130  \\n          Property Overview - This beautiful...   \n",
       "7    751000.0      2472  \\n          Property Overview - Immaculate 3 b...   \n",
       "8    730000.0      1945  \\n          Property Overview - Multiple Offer...   \n",
       "9    580000.0      2128  \\n          Property Overview - Multiple offer...   \n",
       "\n",
       "                            type  year.built  num.beds  num.baths  \\\n",
       "0  Condo/Townhome/Row Home/Co-Op        1899         2        1.5   \n",
       "1             Single Family Home        1959         4        3.5   \n",
       "2             Single Family Home        1960         4        3.5   \n",
       "3  Condo/Townhome/Row Home/Co-Op        1855         1        1.0   \n",
       "4             Single Family Home        1974         3        2.0   \n",
       "5  Condo/Townhome/Row Home/Co-Op        1955         2        1.0   \n",
       "6  Condo/Townhome/Row Home/Co-Op        1910         3        2.0   \n",
       "7             Single Family Home        1950         3        2.5   \n",
       "8             Single Family Home        1935         5        2.5   \n",
       "9  Condo/Townhome/Row Home/Co-Op        2012         3        2.0   \n",
       "\n",
       "   living.area  lot.area  masterbedroom.length  masterbedroom.width  \\\n",
       "0         2352       NaN                  15.0                 15.0   \n",
       "1         2713   6890.00                  17.0                 11.0   \n",
       "2         2821      0.36                  20.0                 19.0   \n",
       "3          595       NaN                  13.0                 12.0   \n",
       "4         1476      0.23                  11.0                 15.0   \n",
       "5          780       NaN                  12.0                 12.0   \n",
       "6         1133   1133.00                  14.0                 11.0   \n",
       "7         2003   5000.00                  15.0                 15.0   \n",
       "8         2967   7565.00                  22.0                 13.0   \n",
       "9         1417       NaN                  15.0                 14.0   \n",
       "\n",
       "   kitchen.length  kitchen.width      rand  \n",
       "0            12.0           10.0  0.001732  \n",
       "1            25.0           12.0  0.003026  \n",
       "2            25.0           16.0  0.004115  \n",
       "3             8.0            8.0  0.004413  \n",
       "4            11.0           12.0  0.013653  \n",
       "5            13.0            9.0  0.014122  \n",
       "6            12.0           12.0  0.015632  \n",
       "7            11.0           13.0  0.022707  \n",
       "8            23.0           16.0  0.023967  \n",
       "9            12.0           17.0  0.025222  "
      ]
     },
     "execution_count": 112,
     "metadata": {},
     "output_type": "execute_result"
    }
   ],
   "source": [
    "import pandas as pd\n",
    "import numpy as np\n",
    "import matplotlib.pyplot as plt\n",
    "import seaborn as sns\n",
    "!pip install keras\n",
    "import json\n",
    "from sklearn.linear_model import LinearRegression\n",
    "from sklearn.model_selection import cross_val_score\n",
    "from sklearn.model_selection import train_test_split\n",
    "from sklearn.linear_model import LogisticRegression\n",
    "from sklearn.metrics import confusion_matrix, classification_report\n",
    "from sklearn.preprocessing import MinMaxScaler\n",
    "sns.set(color_codes=True)\n",
    "df = pd.read_excel(\"../techlabs-elective/realtor.spring.2020.xlsx\")\n",
    "df.head(10)"
   ]
  },
  {
   "cell_type": "code",
   "execution_count": 91,
   "metadata": {
    "scrolled": true
   },
   "outputs": [
    {
     "data": {
      "text/html": [
       "<div>\n",
       "<style scoped>\n",
       "    .dataframe tbody tr th:only-of-type {\n",
       "        vertical-align: middle;\n",
       "    }\n",
       "\n",
       "    .dataframe tbody tr th {\n",
       "        vertical-align: top;\n",
       "    }\n",
       "\n",
       "    .dataframe thead th {\n",
       "        text-align: right;\n",
       "    }\n",
       "</style>\n",
       "<table border=\"1\" class=\"dataframe\">\n",
       "  <thead>\n",
       "    <tr style=\"text-align: right;\">\n",
       "      <th></th>\n",
       "      <th>sold.price</th>\n",
       "      <th>zip.code</th>\n",
       "      <th>year.built</th>\n",
       "      <th>num.beds</th>\n",
       "      <th>num.baths</th>\n",
       "      <th>living.area</th>\n",
       "      <th>lot.area</th>\n",
       "      <th>masterbedroom.length</th>\n",
       "      <th>masterbedroom.width</th>\n",
       "      <th>kitchen.length</th>\n",
       "      <th>kitchen.width</th>\n",
       "      <th>rand</th>\n",
       "    </tr>\n",
       "  </thead>\n",
       "  <tbody>\n",
       "    <tr>\n",
       "      <th>count</th>\n",
       "      <td>5.500000e+02</td>\n",
       "      <td>566.000000</td>\n",
       "      <td>566.000000</td>\n",
       "      <td>566.000000</td>\n",
       "      <td>566.000000</td>\n",
       "      <td>566.000000</td>\n",
       "      <td>268.000000</td>\n",
       "      <td>566.000000</td>\n",
       "      <td>566.000000</td>\n",
       "      <td>566.000000</td>\n",
       "      <td>566.000000</td>\n",
       "      <td>566.000000</td>\n",
       "    </tr>\n",
       "    <tr>\n",
       "      <th>mean</th>\n",
       "      <td>7.858710e+05</td>\n",
       "      <td>2138.909894</td>\n",
       "      <td>1937.653710</td>\n",
       "      <td>2.660777</td>\n",
       "      <td>1.835689</td>\n",
       "      <td>1551.920495</td>\n",
       "      <td>2680.015410</td>\n",
       "      <td>14.743516</td>\n",
       "      <td>13.141343</td>\n",
       "      <td>13.263198</td>\n",
       "      <td>11.426378</td>\n",
       "      <td>0.516508</td>\n",
       "    </tr>\n",
       "    <tr>\n",
       "      <th>std</th>\n",
       "      <td>5.637090e+05</td>\n",
       "      <td>116.886257</td>\n",
       "      <td>48.165903</td>\n",
       "      <td>1.048277</td>\n",
       "      <td>0.847400</td>\n",
       "      <td>891.972413</td>\n",
       "      <td>2633.832448</td>\n",
       "      <td>3.543703</td>\n",
       "      <td>2.820309</td>\n",
       "      <td>4.083784</td>\n",
       "      <td>3.276509</td>\n",
       "      <td>0.289633</td>\n",
       "    </tr>\n",
       "    <tr>\n",
       "      <th>min</th>\n",
       "      <td>1.600000e+05</td>\n",
       "      <td>1730.000000</td>\n",
       "      <td>1725.000000</td>\n",
       "      <td>1.000000</td>\n",
       "      <td>1.000000</td>\n",
       "      <td>410.000000</td>\n",
       "      <td>0.230000</td>\n",
       "      <td>8.000000</td>\n",
       "      <td>6.000000</td>\n",
       "      <td>5.000000</td>\n",
       "      <td>5.000000</td>\n",
       "      <td>0.001732</td>\n",
       "    </tr>\n",
       "    <tr>\n",
       "      <th>25%</th>\n",
       "      <td>4.900000e+05</td>\n",
       "      <td>2124.000000</td>\n",
       "      <td>1900.000000</td>\n",
       "      <td>2.000000</td>\n",
       "      <td>1.000000</td>\n",
       "      <td>1007.250000</td>\n",
       "      <td>707.000000</td>\n",
       "      <td>12.000000</td>\n",
       "      <td>11.000000</td>\n",
       "      <td>10.000000</td>\n",
       "      <td>9.000000</td>\n",
       "      <td>0.252851</td>\n",
       "    </tr>\n",
       "    <tr>\n",
       "      <th>50%</th>\n",
       "      <td>6.430000e+05</td>\n",
       "      <td>2130.000000</td>\n",
       "      <td>1921.000000</td>\n",
       "      <td>3.000000</td>\n",
       "      <td>2.000000</td>\n",
       "      <td>1297.000000</td>\n",
       "      <td>1299.000000</td>\n",
       "      <td>14.000000</td>\n",
       "      <td>12.415000</td>\n",
       "      <td>13.000000</td>\n",
       "      <td>11.000000</td>\n",
       "      <td>0.529830</td>\n",
       "    </tr>\n",
       "    <tr>\n",
       "      <th>75%</th>\n",
       "      <td>8.400000e+05</td>\n",
       "      <td>2132.000000</td>\n",
       "      <td>1976.750000</td>\n",
       "      <td>3.000000</td>\n",
       "      <td>2.000000</td>\n",
       "      <td>1849.750000</td>\n",
       "      <td>5000.000000</td>\n",
       "      <td>16.000000</td>\n",
       "      <td>14.000000</td>\n",
       "      <td>15.000000</td>\n",
       "      <td>13.000000</td>\n",
       "      <td>0.770276</td>\n",
       "    </tr>\n",
       "    <tr>\n",
       "      <th>max</th>\n",
       "      <td>6.700000e+06</td>\n",
       "      <td>2494.000000</td>\n",
       "      <td>2019.000000</td>\n",
       "      <td>7.000000</td>\n",
       "      <td>6.000000</td>\n",
       "      <td>6537.000000</td>\n",
       "      <td>9583.000000</td>\n",
       "      <td>36.000000</td>\n",
       "      <td>29.000000</td>\n",
       "      <td>34.000000</td>\n",
       "      <td>26.000000</td>\n",
       "      <td>0.997843</td>\n",
       "    </tr>\n",
       "  </tbody>\n",
       "</table>\n",
       "</div>"
      ],
      "text/plain": [
       "         sold.price     zip.code   year.built    num.beds   num.baths  \\\n",
       "count  5.500000e+02   566.000000   566.000000  566.000000  566.000000   \n",
       "mean   7.858710e+05  2138.909894  1937.653710    2.660777    1.835689   \n",
       "std    5.637090e+05   116.886257    48.165903    1.048277    0.847400   \n",
       "min    1.600000e+05  1730.000000  1725.000000    1.000000    1.000000   \n",
       "25%    4.900000e+05  2124.000000  1900.000000    2.000000    1.000000   \n",
       "50%    6.430000e+05  2130.000000  1921.000000    3.000000    2.000000   \n",
       "75%    8.400000e+05  2132.000000  1976.750000    3.000000    2.000000   \n",
       "max    6.700000e+06  2494.000000  2019.000000    7.000000    6.000000   \n",
       "\n",
       "       living.area     lot.area  masterbedroom.length  masterbedroom.width  \\\n",
       "count   566.000000   268.000000            566.000000           566.000000   \n",
       "mean   1551.920495  2680.015410             14.743516            13.141343   \n",
       "std     891.972413  2633.832448              3.543703             2.820309   \n",
       "min     410.000000     0.230000              8.000000             6.000000   \n",
       "25%    1007.250000   707.000000             12.000000            11.000000   \n",
       "50%    1297.000000  1299.000000             14.000000            12.415000   \n",
       "75%    1849.750000  5000.000000             16.000000            14.000000   \n",
       "max    6537.000000  9583.000000             36.000000            29.000000   \n",
       "\n",
       "       kitchen.length  kitchen.width        rand  \n",
       "count      566.000000     566.000000  566.000000  \n",
       "mean        13.263198      11.426378    0.516508  \n",
       "std          4.083784       3.276509    0.289633  \n",
       "min          5.000000       5.000000    0.001732  \n",
       "25%         10.000000       9.000000    0.252851  \n",
       "50%         13.000000      11.000000    0.529830  \n",
       "75%         15.000000      13.000000    0.770276  \n",
       "max         34.000000      26.000000    0.997843  "
      ]
     },
     "execution_count": 91,
     "metadata": {},
     "output_type": "execute_result"
    }
   ],
   "source": [
    "df.describe()\n"
   ]
  },
  {
   "cell_type": "code",
   "execution_count": 3,
   "metadata": {},
   "outputs": [
    {
     "name": "stdout",
     "output_type": "stream",
     "text": [
      "<class 'pandas.core.frame.DataFrame'>\n",
      "RangeIndex: 566 entries, 0 to 565\n",
      "Data columns (total 14 columns):\n",
      " #   Column                Non-Null Count  Dtype  \n",
      "---  ------                --------------  -----  \n",
      " 0   sold.price            550 non-null    float64\n",
      " 1   zip.code              566 non-null    int64  \n",
      " 2   overview              566 non-null    object \n",
      " 3   type                  566 non-null    object \n",
      " 4   year.built            566 non-null    int64  \n",
      " 5   num.beds              566 non-null    int64  \n",
      " 6   num.baths             566 non-null    float64\n",
      " 7   living.area           566 non-null    int64  \n",
      " 8   lot.area              268 non-null    float64\n",
      " 9   masterbedroom.length  566 non-null    float64\n",
      " 10  masterbedroom.width   566 non-null    float64\n",
      " 11  kitchen.length        566 non-null    float64\n",
      " 12  kitchen.width         566 non-null    float64\n",
      " 13  rand                  566 non-null    float64\n",
      "dtypes: float64(8), int64(4), object(2)\n",
      "memory usage: 62.0+ KB\n"
     ]
    }
   ],
   "source": [
    "df.info()"
   ]
  },
  {
   "cell_type": "code",
   "execution_count": 58,
   "metadata": {
    "scrolled": true
   },
   "outputs": [
    {
     "data": {
      "text/html": [
       "<div>\n",
       "<style scoped>\n",
       "    .dataframe tbody tr th:only-of-type {\n",
       "        vertical-align: middle;\n",
       "    }\n",
       "\n",
       "    .dataframe tbody tr th {\n",
       "        vertical-align: top;\n",
       "    }\n",
       "\n",
       "    .dataframe thead th {\n",
       "        text-align: right;\n",
       "    }\n",
       "</style>\n",
       "<table border=\"1\" class=\"dataframe\">\n",
       "  <thead>\n",
       "    <tr style=\"text-align: right;\">\n",
       "      <th></th>\n",
       "      <th>sold.price</th>\n",
       "      <th>zip.code</th>\n",
       "      <th>year.built</th>\n",
       "      <th>num.beds</th>\n",
       "      <th>num.baths</th>\n",
       "      <th>living.area</th>\n",
       "      <th>lot.area</th>\n",
       "      <th>masterbedroom.length</th>\n",
       "      <th>masterbedroom.width</th>\n",
       "      <th>kitchen.length</th>\n",
       "      <th>kitchen.width</th>\n",
       "      <th>rand</th>\n",
       "    </tr>\n",
       "  </thead>\n",
       "  <tbody>\n",
       "    <tr>\n",
       "      <th>sold.price</th>\n",
       "      <td>1.000000</td>\n",
       "      <td>0.105761</td>\n",
       "      <td>-0.038248</td>\n",
       "      <td>0.365549</td>\n",
       "      <td>0.586637</td>\n",
       "      <td>0.608972</td>\n",
       "      <td>-0.136665</td>\n",
       "      <td>0.272642</td>\n",
       "      <td>0.364221</td>\n",
       "      <td>0.142907</td>\n",
       "      <td>0.123579</td>\n",
       "      <td>0.040459</td>\n",
       "    </tr>\n",
       "    <tr>\n",
       "      <th>zip.code</th>\n",
       "      <td>0.105761</td>\n",
       "      <td>1.000000</td>\n",
       "      <td>-0.001838</td>\n",
       "      <td>0.093165</td>\n",
       "      <td>0.135127</td>\n",
       "      <td>0.133452</td>\n",
       "      <td>0.001942</td>\n",
       "      <td>0.088436</td>\n",
       "      <td>0.082734</td>\n",
       "      <td>0.037911</td>\n",
       "      <td>-0.001571</td>\n",
       "      <td>-0.061418</td>\n",
       "    </tr>\n",
       "    <tr>\n",
       "      <th>year.built</th>\n",
       "      <td>-0.038248</td>\n",
       "      <td>-0.001838</td>\n",
       "      <td>1.000000</td>\n",
       "      <td>0.016493</td>\n",
       "      <td>0.213447</td>\n",
       "      <td>0.118654</td>\n",
       "      <td>-0.033867</td>\n",
       "      <td>0.097843</td>\n",
       "      <td>0.144678</td>\n",
       "      <td>-0.012121</td>\n",
       "      <td>0.073516</td>\n",
       "      <td>0.003257</td>\n",
       "    </tr>\n",
       "    <tr>\n",
       "      <th>num.beds</th>\n",
       "      <td>0.365549</td>\n",
       "      <td>0.093165</td>\n",
       "      <td>0.016493</td>\n",
       "      <td>1.000000</td>\n",
       "      <td>0.630515</td>\n",
       "      <td>0.779764</td>\n",
       "      <td>0.234472</td>\n",
       "      <td>0.236122</td>\n",
       "      <td>0.287139</td>\n",
       "      <td>0.307283</td>\n",
       "      <td>0.311860</td>\n",
       "      <td>-0.023947</td>\n",
       "    </tr>\n",
       "    <tr>\n",
       "      <th>num.baths</th>\n",
       "      <td>0.586637</td>\n",
       "      <td>0.135127</td>\n",
       "      <td>0.213447</td>\n",
       "      <td>0.630515</td>\n",
       "      <td>1.000000</td>\n",
       "      <td>0.806117</td>\n",
       "      <td>-0.050603</td>\n",
       "      <td>0.346406</td>\n",
       "      <td>0.406436</td>\n",
       "      <td>0.311682</td>\n",
       "      <td>0.313565</td>\n",
       "      <td>0.031538</td>\n",
       "    </tr>\n",
       "    <tr>\n",
       "      <th>living.area</th>\n",
       "      <td>0.608972</td>\n",
       "      <td>0.133452</td>\n",
       "      <td>0.118654</td>\n",
       "      <td>0.779764</td>\n",
       "      <td>0.806117</td>\n",
       "      <td>1.000000</td>\n",
       "      <td>0.006187</td>\n",
       "      <td>0.407422</td>\n",
       "      <td>0.473938</td>\n",
       "      <td>0.376574</td>\n",
       "      <td>0.376289</td>\n",
       "      <td>0.009879</td>\n",
       "    </tr>\n",
       "    <tr>\n",
       "      <th>lot.area</th>\n",
       "      <td>-0.136665</td>\n",
       "      <td>0.001942</td>\n",
       "      <td>-0.033867</td>\n",
       "      <td>0.234472</td>\n",
       "      <td>-0.050603</td>\n",
       "      <td>0.006187</td>\n",
       "      <td>1.000000</td>\n",
       "      <td>-0.030497</td>\n",
       "      <td>-0.064725</td>\n",
       "      <td>-0.033112</td>\n",
       "      <td>0.062658</td>\n",
       "      <td>0.099040</td>\n",
       "    </tr>\n",
       "    <tr>\n",
       "      <th>masterbedroom.length</th>\n",
       "      <td>0.272642</td>\n",
       "      <td>0.088436</td>\n",
       "      <td>0.097843</td>\n",
       "      <td>0.236122</td>\n",
       "      <td>0.346406</td>\n",
       "      <td>0.407422</td>\n",
       "      <td>-0.030497</td>\n",
       "      <td>1.000000</td>\n",
       "      <td>0.143000</td>\n",
       "      <td>0.225887</td>\n",
       "      <td>0.158815</td>\n",
       "      <td>0.042012</td>\n",
       "    </tr>\n",
       "    <tr>\n",
       "      <th>masterbedroom.width</th>\n",
       "      <td>0.364221</td>\n",
       "      <td>0.082734</td>\n",
       "      <td>0.144678</td>\n",
       "      <td>0.287139</td>\n",
       "      <td>0.406436</td>\n",
       "      <td>0.473938</td>\n",
       "      <td>-0.064725</td>\n",
       "      <td>0.143000</td>\n",
       "      <td>1.000000</td>\n",
       "      <td>0.103536</td>\n",
       "      <td>0.219367</td>\n",
       "      <td>0.014108</td>\n",
       "    </tr>\n",
       "    <tr>\n",
       "      <th>kitchen.length</th>\n",
       "      <td>0.142907</td>\n",
       "      <td>0.037911</td>\n",
       "      <td>-0.012121</td>\n",
       "      <td>0.307283</td>\n",
       "      <td>0.311682</td>\n",
       "      <td>0.376574</td>\n",
       "      <td>-0.033112</td>\n",
       "      <td>0.225887</td>\n",
       "      <td>0.103536</td>\n",
       "      <td>1.000000</td>\n",
       "      <td>0.323506</td>\n",
       "      <td>-0.061353</td>\n",
       "    </tr>\n",
       "    <tr>\n",
       "      <th>kitchen.width</th>\n",
       "      <td>0.123579</td>\n",
       "      <td>-0.001571</td>\n",
       "      <td>0.073516</td>\n",
       "      <td>0.311860</td>\n",
       "      <td>0.313565</td>\n",
       "      <td>0.376289</td>\n",
       "      <td>0.062658</td>\n",
       "      <td>0.158815</td>\n",
       "      <td>0.219367</td>\n",
       "      <td>0.323506</td>\n",
       "      <td>1.000000</td>\n",
       "      <td>-0.015092</td>\n",
       "    </tr>\n",
       "    <tr>\n",
       "      <th>rand</th>\n",
       "      <td>0.040459</td>\n",
       "      <td>-0.061418</td>\n",
       "      <td>0.003257</td>\n",
       "      <td>-0.023947</td>\n",
       "      <td>0.031538</td>\n",
       "      <td>0.009879</td>\n",
       "      <td>0.099040</td>\n",
       "      <td>0.042012</td>\n",
       "      <td>0.014108</td>\n",
       "      <td>-0.061353</td>\n",
       "      <td>-0.015092</td>\n",
       "      <td>1.000000</td>\n",
       "    </tr>\n",
       "  </tbody>\n",
       "</table>\n",
       "</div>"
      ],
      "text/plain": [
       "                      sold.price  zip.code  year.built  num.beds  num.baths  \\\n",
       "sold.price              1.000000  0.105761   -0.038248  0.365549   0.586637   \n",
       "zip.code                0.105761  1.000000   -0.001838  0.093165   0.135127   \n",
       "year.built             -0.038248 -0.001838    1.000000  0.016493   0.213447   \n",
       "num.beds                0.365549  0.093165    0.016493  1.000000   0.630515   \n",
       "num.baths               0.586637  0.135127    0.213447  0.630515   1.000000   \n",
       "living.area             0.608972  0.133452    0.118654  0.779764   0.806117   \n",
       "lot.area               -0.136665  0.001942   -0.033867  0.234472  -0.050603   \n",
       "masterbedroom.length    0.272642  0.088436    0.097843  0.236122   0.346406   \n",
       "masterbedroom.width     0.364221  0.082734    0.144678  0.287139   0.406436   \n",
       "kitchen.length          0.142907  0.037911   -0.012121  0.307283   0.311682   \n",
       "kitchen.width           0.123579 -0.001571    0.073516  0.311860   0.313565   \n",
       "rand                    0.040459 -0.061418    0.003257 -0.023947   0.031538   \n",
       "\n",
       "                      living.area  lot.area  masterbedroom.length  \\\n",
       "sold.price               0.608972 -0.136665              0.272642   \n",
       "zip.code                 0.133452  0.001942              0.088436   \n",
       "year.built               0.118654 -0.033867              0.097843   \n",
       "num.beds                 0.779764  0.234472              0.236122   \n",
       "num.baths                0.806117 -0.050603              0.346406   \n",
       "living.area              1.000000  0.006187              0.407422   \n",
       "lot.area                 0.006187  1.000000             -0.030497   \n",
       "masterbedroom.length     0.407422 -0.030497              1.000000   \n",
       "masterbedroom.width      0.473938 -0.064725              0.143000   \n",
       "kitchen.length           0.376574 -0.033112              0.225887   \n",
       "kitchen.width            0.376289  0.062658              0.158815   \n",
       "rand                     0.009879  0.099040              0.042012   \n",
       "\n",
       "                      masterbedroom.width  kitchen.length  kitchen.width  \\\n",
       "sold.price                       0.364221        0.142907       0.123579   \n",
       "zip.code                         0.082734        0.037911      -0.001571   \n",
       "year.built                       0.144678       -0.012121       0.073516   \n",
       "num.beds                         0.287139        0.307283       0.311860   \n",
       "num.baths                        0.406436        0.311682       0.313565   \n",
       "living.area                      0.473938        0.376574       0.376289   \n",
       "lot.area                        -0.064725       -0.033112       0.062658   \n",
       "masterbedroom.length             0.143000        0.225887       0.158815   \n",
       "masterbedroom.width              1.000000        0.103536       0.219367   \n",
       "kitchen.length                   0.103536        1.000000       0.323506   \n",
       "kitchen.width                    0.219367        0.323506       1.000000   \n",
       "rand                             0.014108       -0.061353      -0.015092   \n",
       "\n",
       "                          rand  \n",
       "sold.price            0.040459  \n",
       "zip.code             -0.061418  \n",
       "year.built            0.003257  \n",
       "num.beds             -0.023947  \n",
       "num.baths             0.031538  \n",
       "living.area           0.009879  \n",
       "lot.area              0.099040  \n",
       "masterbedroom.length  0.042012  \n",
       "masterbedroom.width   0.014108  \n",
       "kitchen.length       -0.061353  \n",
       "kitchen.width        -0.015092  \n",
       "rand                  1.000000  "
      ]
     },
     "execution_count": 58,
     "metadata": {},
     "output_type": "execute_result"
    }
   ],
   "source": [
    "df.corr()\n"
   ]
  },
  {
   "cell_type": "code",
   "execution_count": 113,
   "metadata": {},
   "outputs": [
    {
     "data": {
      "text/html": [
       "<div>\n",
       "<style scoped>\n",
       "    .dataframe tbody tr th:only-of-type {\n",
       "        vertical-align: middle;\n",
       "    }\n",
       "\n",
       "    .dataframe tbody tr th {\n",
       "        vertical-align: top;\n",
       "    }\n",
       "\n",
       "    .dataframe thead th {\n",
       "        text-align: right;\n",
       "    }\n",
       "</style>\n",
       "<table border=\"1\" class=\"dataframe\">\n",
       "  <thead>\n",
       "    <tr style=\"text-align: right;\">\n",
       "      <th></th>\n",
       "      <th>sold.price</th>\n",
       "      <th>zip.code</th>\n",
       "      <th>year.built</th>\n",
       "      <th>num.beds</th>\n",
       "      <th>num.baths</th>\n",
       "      <th>living.area</th>\n",
       "    </tr>\n",
       "  </thead>\n",
       "  <tbody>\n",
       "    <tr>\n",
       "      <th>0</th>\n",
       "      <td>3000000.0</td>\n",
       "      <td>2108</td>\n",
       "      <td>1899</td>\n",
       "      <td>2</td>\n",
       "      <td>1.5</td>\n",
       "      <td>2352</td>\n",
       "    </tr>\n",
       "    <tr>\n",
       "      <th>1</th>\n",
       "      <td>1150000.0</td>\n",
       "      <td>2476</td>\n",
       "      <td>1959</td>\n",
       "      <td>4</td>\n",
       "      <td>3.5</td>\n",
       "      <td>2713</td>\n",
       "    </tr>\n",
       "    <tr>\n",
       "      <th>2</th>\n",
       "      <td>1095000.0</td>\n",
       "      <td>1890</td>\n",
       "      <td>1960</td>\n",
       "      <td>4</td>\n",
       "      <td>3.5</td>\n",
       "      <td>2821</td>\n",
       "    </tr>\n",
       "    <tr>\n",
       "      <th>3</th>\n",
       "      <td>689000.0</td>\n",
       "      <td>2118</td>\n",
       "      <td>1855</td>\n",
       "      <td>1</td>\n",
       "      <td>1.0</td>\n",
       "      <td>595</td>\n",
       "    </tr>\n",
       "    <tr>\n",
       "      <th>4</th>\n",
       "      <td>842700.0</td>\n",
       "      <td>2492</td>\n",
       "      <td>1974</td>\n",
       "      <td>3</td>\n",
       "      <td>2.0</td>\n",
       "      <td>1476</td>\n",
       "    </tr>\n",
       "  </tbody>\n",
       "</table>\n",
       "</div>"
      ],
      "text/plain": [
       "   sold.price  zip.code  year.built  num.beds  num.baths  living.area\n",
       "0   3000000.0      2108        1899         2        1.5         2352\n",
       "1   1150000.0      2476        1959         4        3.5         2713\n",
       "2   1095000.0      1890        1960         4        3.5         2821\n",
       "3    689000.0      2118        1855         1        1.0          595\n",
       "4    842700.0      2492        1974         3        2.0         1476"
      ]
     },
     "execution_count": 113,
     "metadata": {},
     "output_type": "execute_result"
    }
   ],
   "source": [
    "df.drop(df.columns[[2,3,8,9,10,11,12,13]], axis=1, inplace=True)\n",
    "df.head()\n"
   ]
  },
  {
   "cell_type": "code",
   "execution_count": 114,
   "metadata": {},
   "outputs": [],
   "source": [
    "df['sold.price'] = df['sold.price'].fillna((df['sold.price'].mean()))"
   ]
  },
  {
   "cell_type": "code",
   "execution_count": 6,
   "metadata": {},
   "outputs": [
    {
     "data": {
      "text/plain": [
       "sold.price     785870.967273\n",
       "zip.code         2134.000000\n",
       "year.built       1989.000000\n",
       "num.beds            1.000000\n",
       "num.baths           1.000000\n",
       "living.area       771.000000\n",
       "Name: 115, dtype: float64"
      ]
     },
     "execution_count": 6,
     "metadata": {},
     "output_type": "execute_result"
    }
   ],
   "source": [
    "df.iloc[115]"
   ]
  },
  {
   "cell_type": "code",
   "execution_count": 44,
   "metadata": {},
   "outputs": [],
   "source": [
    "heatmap1_data = pd.pivot_table(df, values='sold.price', \n",
    "                     index=['num.baths'], \n",
    "                     columns='living.area')"
   ]
  },
  {
   "cell_type": "code",
   "execution_count": 8,
   "metadata": {},
   "outputs": [
    {
     "data": {
      "text/plain": [
       "<matplotlib.axes._subplots.AxesSubplot at 0x2158ac7a220>"
      ]
     },
     "execution_count": 8,
     "metadata": {},
     "output_type": "execute_result"
    },
    {
     "data": {
      "image/png": "[encoded data removed]",
      "text/plain": [
       "<Figure size 432x288 with 2 Axes>"
      ]
     },
     "metadata": {},
     "output_type": "display_data"
    }
   ],
   "source": [
    "sns.heatmap(heatmap1_data, cmap=\"YlGnBu\")"
   ]
  },
  {
   "cell_type": "code",
   "execution_count": 45,
   "metadata": {},
   "outputs": [
    {
     "data": {
      "text/plain": [
       "<matplotlib.axes._subplots.AxesSubplot at 0x2158b004eb0>"
      ]
     },
     "execution_count": 45,
     "metadata": {},
     "output_type": "execute_result"
    },
    {
     "data": {
      "image/png": "[encoded data removed]",
      "text/plain": [
       "<Figure size 432x288 with 1 Axes>"
      ]
     },
     "metadata": {},
     "output_type": "display_data"
    }
   ],
   "source": [
    "sns.distplot(df['living.area'])"
   ]
  },
  {
   "cell_type": "code",
   "execution_count": 10,
   "metadata": {},
   "outputs": [
    {
     "data": {
      "text/plain": [
       "<matplotlib.axes._subplots.AxesSubplot at 0x2158ae3e790>"
      ]
     },
     "execution_count": 10,
     "metadata": {},
     "output_type": "execute_result"
    },
    {
     "data": {
      "image/png": "[encoded data removed]",
      "text/plain": [
       "<Figure size 432x288 with 1 Axes>"
      ]
     },
     "metadata": {},
     "output_type": "display_data"
    }
   ],
   "source": [
    "sns.distplot(df['num.baths'])"
   ]
  },
  {
   "cell_type": "code",
   "execution_count": 152,
   "metadata": {},
   "outputs": [
    {
     "data": {
      "text/plain": [
       "(array([415., 112.,  24.,   6.,   2.,   6.,   0.,   0.,   0.,   1.]),\n",
       " array([ 160000.,  814000., 1468000., 2122000., 2776000., 3430000.,\n",
       "        4084000., 4738000., 5392000., 6046000., 6700000.]),\n",
       " <a list of 10 Patch objects>)"
      ]
     },
     "execution_count": 152,
     "metadata": {},
     "output_type": "execute_result"
    },
    {
     "data": {
      "image/png": "[encoded data removed]",
      "text/plain": [
       "<Figure size 432x288 with 1 Axes>"
      ]
     },
     "metadata": {},
     "output_type": "display_data"
    }
   ],
   "source": [
    "plt.hist(df[\"sold.price\"].dropna())"
   ]
  },
  {
   "cell_type": "code",
   "execution_count": 136,
   "metadata": {},
   "outputs": [
    {
     "ename": "AttributeError",
     "evalue": "'DataFrame' object has no attribute 'type'",
     "output_type": "error",
     "traceback": [
      "\u001b[1;31m---------------------------------------------------------------------------\u001b[0m",
      "\u001b[1;31mAttributeError\u001b[0m                            Traceback (most recent call last)",
      "\u001b[1;32m<ipython-input-136-df89a9fee351>\u001b[0m in \u001b[0;36m<module>\u001b[1;34m\u001b[0m\n\u001b[1;32m----> 1\u001b[1;33m \u001b[0mdf\u001b[0m\u001b[1;33m.\u001b[0m\u001b[0mtype\u001b[0m \u001b[1;33m>\u001b[0m \u001b[1;36m0\u001b[0m\u001b[1;33m\u001b[0m\u001b[1;33m\u001b[0m\u001b[0m\n\u001b[0m",
      "\u001b[1;32m~\\anaconda3\\lib\\site-packages\\pandas\\core\\generic.py\u001b[0m in \u001b[0;36m__getattr__\u001b[1;34m(self, name)\u001b[0m\n\u001b[0;32m   5272\u001b[0m             \u001b[1;32mif\u001b[0m \u001b[0mself\u001b[0m\u001b[1;33m.\u001b[0m\u001b[0m_info_axis\u001b[0m\u001b[1;33m.\u001b[0m\u001b[0m_can_hold_identifiers_and_holds_name\u001b[0m\u001b[1;33m(\u001b[0m\u001b[0mname\u001b[0m\u001b[1;33m)\u001b[0m\u001b[1;33m:\u001b[0m\u001b[1;33m\u001b[0m\u001b[1;33m\u001b[0m\u001b[0m\n\u001b[0;32m   5273\u001b[0m                 \u001b[1;32mreturn\u001b[0m \u001b[0mself\u001b[0m\u001b[1;33m[\u001b[0m\u001b[0mname\u001b[0m\u001b[1;33m]\u001b[0m\u001b[1;33m\u001b[0m\u001b[1;33m\u001b[0m\u001b[0m\n\u001b[1;32m-> 5274\u001b[1;33m             \u001b[1;32mreturn\u001b[0m \u001b[0mobject\u001b[0m\u001b[1;33m.\u001b[0m\u001b[0m__getattribute__\u001b[0m\u001b[1;33m(\u001b[0m\u001b[0mself\u001b[0m\u001b[1;33m,\u001b[0m \u001b[0mname\u001b[0m\u001b[1;33m)\u001b[0m\u001b[1;33m\u001b[0m\u001b[1;33m\u001b[0m\u001b[0m\n\u001b[0m\u001b[0;32m   5275\u001b[0m \u001b[1;33m\u001b[0m\u001b[0m\n\u001b[0;32m   5276\u001b[0m     \u001b[1;32mdef\u001b[0m \u001b[0m__setattr__\u001b[0m\u001b[1;33m(\u001b[0m\u001b[0mself\u001b[0m\u001b[1;33m,\u001b[0m \u001b[0mname\u001b[0m\u001b[1;33m:\u001b[0m \u001b[0mstr\u001b[0m\u001b[1;33m,\u001b[0m \u001b[0mvalue\u001b[0m\u001b[1;33m)\u001b[0m \u001b[1;33m->\u001b[0m \u001b[1;32mNone\u001b[0m\u001b[1;33m:\u001b[0m\u001b[1;33m\u001b[0m\u001b[1;33m\u001b[0m\u001b[0m\n",
      "\u001b[1;31mAttributeError\u001b[0m: 'DataFrame' object has no attribute 'type'"
     ]
    }
   ],
   "source": [
    "df.type > 0"
   ]
  },
  {
   "cell_type": "code",
   "execution_count": null,
   "metadata": {},
   "outputs": [],
   "source": [
    "df.info()\n"
   ]
  },
  {
   "cell_type": "code",
   "execution_count": null,
   "metadata": {},
   "outputs": [],
   "source": [
    "sns.distplot(df['sold.price'])"
   ]
  },
  {
   "cell_type": "code",
   "execution_count": 68,
   "metadata": {},
   "outputs": [
    {
     "data": {
      "text/plain": [
       "count    5.660000e+02\n",
       "mean     7.858710e+05\n",
       "std      5.556699e+05\n",
       "min      1.600000e+05\n",
       "25%      4.950000e+05\n",
       "50%      6.500000e+05\n",
       "75%      8.290000e+05\n",
       "max      6.700000e+06\n",
       "Name: sold.price, dtype: float64"
      ]
     },
     "execution_count": 68,
     "metadata": {},
     "output_type": "execute_result"
    }
   ],
   "source": [
    "df['sold.price'].describe()"
   ]
  },
  {
   "cell_type": "code",
   "execution_count": 138,
   "metadata": {},
   "outputs": [
    {
     "data": {
      "image/png": "[encoded data removed]",
      "text/plain": [
       "<Figure size 432x288 with 1 Axes>"
      ]
     },
     "metadata": {},
     "output_type": "display_data"
    }
   ],
   "source": [
    "df['sold.price'].value_counts(normalize=True).plot.barh()\n",
    "plt.show()"
   ]
  },
  {
   "cell_type": "code",
   "execution_count": 107,
   "metadata": {},
   "outputs": [
    {
     "data": {
      "image/png": "[encoded data removed]",
      "text/plain": [
       "<Figure size 432x288 with 2 Axes>"
      ]
     },
     "metadata": {},
     "output_type": "display_data"
    }
   ],
   "source": [
    "sns.heatmap(df[['sold.price','living.area','num.baths', 'zip.code', 'num.beds']].corr(), annot=True, cmap = 'Reds')\n",
    "plt.show()"
   ]
  },
  {
   "cell_type": "code",
   "execution_count": 139,
   "metadata": {},
   "outputs": [
    {
     "data": {
      "image/png": "[encoded data removed]",
      "text/plain": [
       "<Figure size 432x288 with 1 Axes>"
      ]
     },
     "metadata": {},
     "output_type": "display_data"
    }
   ],
   "source": [
    "df.groupby('sold.price').mean().plot.bar()\n",
    "plt.show()"
   ]
  },
  {
   "cell_type": "code",
   "execution_count": 43,
   "metadata": {},
   "outputs": [
    {
     "name": "stderr",
     "output_type": "stream",
     "text": [
      "*c* argument looks like a single numeric RGB or RGBA sequence, which should be avoided as value-mapping will have precedence in case its length matches with *x* & *y*.  Please use the *color* keyword-argument or provide a 2-D array with a single row if you intend to specify the same RGB or RGBA value for all points.\n"
     ]
    },
    {
     "data": {
      "image/png": "[encoded data removed]",
      "text/plain": [
       "<Figure size 432x288 with 1 Axes>"
      ]
     },
     "metadata": {},
     "output_type": "display_data"
    }
   ],
   "source": [
    "df.plot.scatter(x='living.area', y='sold.price')\n",
    "plt.show()"
   ]
  },
  {
   "cell_type": "code",
   "execution_count": 115,
   "metadata": {},
   "outputs": [
    {
     "name": "stderr",
     "output_type": "stream",
     "text": [
      "*c* argument looks like a single numeric RGB or RGBA sequence, which should be avoided as value-mapping will have precedence in case its length matches with *x* & *y*.  Please use the *color* keyword-argument or provide a 2-D array with a single row if you intend to specify the same RGB or RGBA value for all points.\n"
     ]
    },
    {
     "data": {
      "image/png": "[encoded data removed]",
      "text/plain": [
       "<Figure size 432x288 with 1 Axes>"
      ]
     },
     "metadata": {},
     "output_type": "display_data"
    }
   ],
   "source": [
    "#drop outliers\n",
    "indexNames = df[df['sold.price'] > 3500000 ].index\n",
    "df.drop(indexNames , inplace=True)\n",
    "df.plot.scatter(x='living.area', y='sold.price')\n",
    "plt.show()"
   ]
  },
  {
   "cell_type": "code",
   "execution_count": 141,
   "metadata": {},
   "outputs": [
    {
     "name": "stderr",
     "output_type": "stream",
     "text": [
      "*c* argument looks like a single numeric RGB or RGBA sequence, which should be avoided as value-mapping will have precedence in case its length matches with *x* & *y*.  Please use the *color* keyword-argument or provide a 2-D array with a single row if you intend to specify the same RGB or RGBA value for all points.\n"
     ]
    },
    {
     "data": {
      "image/png": "[encoded data removed]",
      "text/plain": [
       "<Figure size 432x288 with 1 Axes>"
      ]
     },
     "metadata": {},
     "output_type": "display_data"
    }
   ],
   "source": [
    "df.plot.scatter(x='num.baths', y='sold.price')\n",
    "plt.show()"
   ]
  },
  {
   "cell_type": "code",
   "execution_count": 35,
   "metadata": {},
   "outputs": [
    {
     "ename": "AttributeError",
     "evalue": "'numpy.ndarray' object has no attribute 'corr'",
     "output_type": "error",
     "traceback": [
      "\u001b[1;31m---------------------------------------------------------------------------\u001b[0m",
      "\u001b[1;31mAttributeError\u001b[0m                            Traceback (most recent call last)",
      "\u001b[1;32m<ipython-input-35-bfc8d156b4f7>\u001b[0m in \u001b[0;36m<module>\u001b[1;34m\u001b[0m\n\u001b[1;32m----> 1\u001b[1;33m \u001b[0msns\u001b[0m\u001b[1;33m.\u001b[0m\u001b[0mheatmap\u001b[0m\u001b[1;33m(\u001b[0m\u001b[0mdf\u001b[0m\u001b[1;33m.\u001b[0m\u001b[0mcorr\u001b[0m\u001b[1;33m(\u001b[0m\u001b[1;33m)\u001b[0m\u001b[1;33m,\u001b[0m \u001b[0mannot\u001b[0m\u001b[1;33m=\u001b[0m\u001b[1;32mTrue\u001b[0m\u001b[1;33m,\u001b[0m \u001b[0mcmap\u001b[0m \u001b[1;33m=\u001b[0m \u001b[1;34m'Reds'\u001b[0m\u001b[1;33m)\u001b[0m\u001b[1;33m\u001b[0m\u001b[1;33m\u001b[0m\u001b[0m\n\u001b[0m\u001b[0;32m      2\u001b[0m \u001b[0mplt\u001b[0m\u001b[1;33m.\u001b[0m\u001b[0mshow\u001b[0m\u001b[1;33m(\u001b[0m\u001b[1;33m)\u001b[0m\u001b[1;33m\u001b[0m\u001b[1;33m\u001b[0m\u001b[0m\n\u001b[0;32m      3\u001b[0m \u001b[0mtype\u001b[0m\u001b[1;33m(\u001b[0m\u001b[0mdf\u001b[0m\u001b[1;33m)\u001b[0m\u001b[1;33m\u001b[0m\u001b[1;33m\u001b[0m\u001b[0m\n",
      "\u001b[1;31mAttributeError\u001b[0m: 'numpy.ndarray' object has no attribute 'corr'"
     ]
    }
   ],
   "source": [
    "sns.heatmap(df.corr(), annot=True, cmap = 'Reds')\n",
    "plt.show()\n",
    "type(df)"
   ]
  },
  {
   "cell_type": "code",
   "execution_count": 53,
   "metadata": {},
   "outputs": [
    {
     "ename": "AttributeError",
     "evalue": "'DataFrame' object has no attribute 'as_matrix'",
     "output_type": "error",
     "traceback": [
      "\u001b[1;31m---------------------------------------------------------------------------\u001b[0m",
      "\u001b[1;31mAttributeError\u001b[0m                            Traceback (most recent call last)",
      "\u001b[1;32m<ipython-input-53-1f7f4adf857d>\u001b[0m in \u001b[0;36m<module>\u001b[1;34m\u001b[0m\n\u001b[1;32m----> 1\u001b[1;33m \u001b[0mdf\u001b[0m \u001b[1;33m=\u001b[0m \u001b[0mdf\u001b[0m\u001b[1;33m.\u001b[0m\u001b[0mas_matrix\u001b[0m\u001b[1;33m(\u001b[0m\u001b[1;33m)\u001b[0m\u001b[1;33m\u001b[0m\u001b[1;33m\u001b[0m\u001b[0m\n\u001b[0m",
      "\u001b[1;32m~\\anaconda3\\lib\\site-packages\\pandas\\core\\generic.py\u001b[0m in \u001b[0;36m__getattr__\u001b[1;34m(self, name)\u001b[0m\n\u001b[0;32m   5272\u001b[0m             \u001b[1;32mif\u001b[0m \u001b[0mself\u001b[0m\u001b[1;33m.\u001b[0m\u001b[0m_info_axis\u001b[0m\u001b[1;33m.\u001b[0m\u001b[0m_can_hold_identifiers_and_holds_name\u001b[0m\u001b[1;33m(\u001b[0m\u001b[0mname\u001b[0m\u001b[1;33m)\u001b[0m\u001b[1;33m:\u001b[0m\u001b[1;33m\u001b[0m\u001b[1;33m\u001b[0m\u001b[0m\n\u001b[0;32m   5273\u001b[0m                 \u001b[1;32mreturn\u001b[0m \u001b[0mself\u001b[0m\u001b[1;33m[\u001b[0m\u001b[0mname\u001b[0m\u001b[1;33m]\u001b[0m\u001b[1;33m\u001b[0m\u001b[1;33m\u001b[0m\u001b[0m\n\u001b[1;32m-> 5274\u001b[1;33m             \u001b[1;32mreturn\u001b[0m \u001b[0mobject\u001b[0m\u001b[1;33m.\u001b[0m\u001b[0m__getattribute__\u001b[0m\u001b[1;33m(\u001b[0m\u001b[0mself\u001b[0m\u001b[1;33m,\u001b[0m \u001b[0mname\u001b[0m\u001b[1;33m)\u001b[0m\u001b[1;33m\u001b[0m\u001b[1;33m\u001b[0m\u001b[0m\n\u001b[0m\u001b[0;32m   5275\u001b[0m \u001b[1;33m\u001b[0m\u001b[0m\n\u001b[0;32m   5276\u001b[0m     \u001b[1;32mdef\u001b[0m \u001b[0m__setattr__\u001b[0m\u001b[1;33m(\u001b[0m\u001b[0mself\u001b[0m\u001b[1;33m,\u001b[0m \u001b[0mname\u001b[0m\u001b[1;33m:\u001b[0m \u001b[0mstr\u001b[0m\u001b[1;33m,\u001b[0m \u001b[0mvalue\u001b[0m\u001b[1;33m)\u001b[0m \u001b[1;33m->\u001b[0m \u001b[1;32mNone\u001b[0m\u001b[1;33m:\u001b[0m\u001b[1;33m\u001b[0m\u001b[1;33m\u001b[0m\u001b[0m\n",
      "\u001b[1;31mAttributeError\u001b[0m: 'DataFrame' object has no attribute 'as_matrix'"
     ]
    }
   ],
   "source": [
    "df = df.as_matrix()"
   ]
  },
  {
   "cell_type": "code",
   "execution_count": 116,
   "metadata": {},
   "outputs": [
    {
     "name": "stdout",
     "output_type": "stream",
     "text": [
      "[[8.63221884e-01 4.94764398e-01 5.91836735e-01 1.66666667e-01\n",
      "  1.00000000e-01 3.30609465e-01]\n",
      " [3.00911854e-01 9.76439791e-01 7.95918367e-01 5.00000000e-01\n",
      "  5.00000000e-01 3.92066735e-01]\n",
      " [2.84194529e-01 2.09424084e-01 7.99319728e-01 5.00000000e-01\n",
      "  5.00000000e-01 4.10452843e-01]\n",
      " ...\n",
      " [1.56838906e-01 5.24869110e-01 4.59183673e-01 3.33333333e-01\n",
      "  3.00000000e-01 1.55260470e-01]\n",
      " [2.08206687e-01 5.23560209e-01 7.14285714e-01 3.33333333e-01\n",
      "  3.00000000e-01 2.43956418e-01]\n",
      " [9.87841945e-02 5.05235602e-01 5.61224490e-01 0.00000000e+00\n",
      "  0.00000000e+00 1.70241743e-04]]\n"
     ]
    },
    {
     "data": {
      "text/plain": [
       "numpy.ndarray"
      ]
     },
     "execution_count": 116,
     "metadata": {},
     "output_type": "execute_result"
    }
   ],
   "source": [
    "#scale Dataframe\n",
    "Scaler = MinMaxScaler()\n",
    "df = Scaler.fit_transform(df)\n",
    "print(df)\n",
    "type(df)\n"
   ]
  },
  {
   "cell_type": "code",
   "execution_count": 117,
   "metadata": {},
   "outputs": [
    {
     "name": "stdout",
     "output_type": "stream",
     "text": [
      "     sold.price  zip.code  year.built  num.beds  num.baths  living.area\n",
      "0      0.863222  0.494764    0.591837  0.166667        0.1     0.330609\n",
      "1      0.300912  0.976440    0.795918  0.500000        0.5     0.392067\n",
      "2      0.284195  0.209424    0.799320  0.500000        0.5     0.410453\n",
      "3      0.160790  0.507853    0.442177  0.000000        0.0     0.031495\n",
      "4      0.207508  0.997382    0.846939  0.333333        0.2     0.181478\n",
      "..          ...       ...         ...       ...        ...          ...\n",
      "555    0.124164  0.600785    0.819728  0.666667        0.5     0.454375\n",
      "556    0.151976  0.523560    0.663265  0.166667        0.0     0.109465\n",
      "557    0.156839  0.524869    0.459184  0.333333        0.3     0.155260\n",
      "558    0.208207  0.523560    0.714286  0.333333        0.3     0.243956\n",
      "559    0.098784  0.505236    0.561224  0.000000        0.0     0.000170\n",
      "\n",
      "[560 rows x 6 columns]\n"
     ]
    }
   ],
   "source": [
    "df_new = pd.DataFrame(df)\n",
    "df_new.rename(columns = {0:'sold.price', 1:'zip.code', 2:'year.built', 3:'num.beds', 4:'num.baths', 5:'living.area'}, inplace = True)\n",
    "\n",
    "print(df_new)"
   ]
  },
  {
   "cell_type": "code",
   "execution_count": 76,
   "metadata": {},
   "outputs": [],
   "source": [
    "df_new.to_json('temp.json', orient='records', lines=True)\n",
    "df_new.to_json('temp.json.gz', orient='records', lines=True, compression='gzip')\n",
    "df_new.to_json(\"../techlabs-elective/test.JSON\")"
   ]
  },
  {
   "cell_type": "code",
   "execution_count": 110,
   "metadata": {},
   "outputs": [],
   "source": [
    "#Define X and y\n",
    "y = df_new['sold.price'].values\n",
    "X = df_new.drop('sold.price', axis=1).values"
   ]
  },
  {
   "cell_type": "code",
   "execution_count": 111,
   "metadata": {},
   "outputs": [
    {
     "data": {
      "text/plain": [
       "(75, 20)"
      ]
     },
     "execution_count": 111,
     "metadata": {},
     "output_type": "execute_result"
    }
   ],
   "source": [
    "X_train.shape"
   ]
  },
  {
   "cell_type": "code",
   "execution_count": 98,
   "metadata": {},
   "outputs": [
    {
     "ename": "ValueError",
     "evalue": "Index data must be 1-dimensional",
     "output_type": "error",
     "traceback": [
      "\u001b[1;31m---------------------------------------------------------------------------\u001b[0m",
      "\u001b[1;31mValueError\u001b[0m                                Traceback (most recent call last)",
      "\u001b[1;32m<ipython-input-98-db2208bb4e46>\u001b[0m in \u001b[0;36m<module>\u001b[1;34m\u001b[0m\n\u001b[1;32m----> 1\u001b[1;33m \u001b[0mdf_new\u001b[0m\u001b[1;33m.\u001b[0m\u001b[0mplot\u001b[0m\u001b[1;33m.\u001b[0m\u001b[0mscatter\u001b[0m\u001b[1;33m(\u001b[0m\u001b[0mX\u001b[0m\u001b[1;33m,\u001b[0m \u001b[0my\u001b[0m\u001b[1;33m)\u001b[0m\u001b[1;33m\u001b[0m\u001b[1;33m\u001b[0m\u001b[0m\n\u001b[0m\u001b[0;32m      2\u001b[0m \u001b[0mplt\u001b[0m\u001b[1;33m.\u001b[0m\u001b[0mshow\u001b[0m\u001b[1;33m(\u001b[0m\u001b[1;33m)\u001b[0m\u001b[1;33m\u001b[0m\u001b[1;33m\u001b[0m\u001b[0m\n",
      "\u001b[1;32m~\\anaconda3\\lib\\site-packages\\pandas\\plotting\\_core.py\u001b[0m in \u001b[0;36mscatter\u001b[1;34m(self, x, y, s, c, **kwargs)\u001b[0m\n\u001b[0;32m   1497\u001b[0m             ...                       colormap='viridis')\n\u001b[0;32m   1498\u001b[0m         \"\"\"\n\u001b[1;32m-> 1499\u001b[1;33m         \u001b[1;32mreturn\u001b[0m \u001b[0mself\u001b[0m\u001b[1;33m(\u001b[0m\u001b[0mkind\u001b[0m\u001b[1;33m=\u001b[0m\u001b[1;34m\"scatter\"\u001b[0m\u001b[1;33m,\u001b[0m \u001b[0mx\u001b[0m\u001b[1;33m=\u001b[0m\u001b[0mx\u001b[0m\u001b[1;33m,\u001b[0m \u001b[0my\u001b[0m\u001b[1;33m=\u001b[0m\u001b[0my\u001b[0m\u001b[1;33m,\u001b[0m \u001b[0ms\u001b[0m\u001b[1;33m=\u001b[0m\u001b[0ms\u001b[0m\u001b[1;33m,\u001b[0m \u001b[0mc\u001b[0m\u001b[1;33m=\u001b[0m\u001b[0mc\u001b[0m\u001b[1;33m,\u001b[0m \u001b[1;33m**\u001b[0m\u001b[0mkwargs\u001b[0m\u001b[1;33m)\u001b[0m\u001b[1;33m\u001b[0m\u001b[1;33m\u001b[0m\u001b[0m\n\u001b[0m\u001b[0;32m   1500\u001b[0m \u001b[1;33m\u001b[0m\u001b[0m\n\u001b[0;32m   1501\u001b[0m     \u001b[1;32mdef\u001b[0m \u001b[0mhexbin\u001b[0m\u001b[1;33m(\u001b[0m\u001b[0mself\u001b[0m\u001b[1;33m,\u001b[0m \u001b[0mx\u001b[0m\u001b[1;33m,\u001b[0m \u001b[0my\u001b[0m\u001b[1;33m,\u001b[0m \u001b[0mC\u001b[0m\u001b[1;33m=\u001b[0m\u001b[1;32mNone\u001b[0m\u001b[1;33m,\u001b[0m \u001b[0mreduce_C_function\u001b[0m\u001b[1;33m=\u001b[0m\u001b[1;32mNone\u001b[0m\u001b[1;33m,\u001b[0m \u001b[0mgridsize\u001b[0m\u001b[1;33m=\u001b[0m\u001b[1;32mNone\u001b[0m\u001b[1;33m,\u001b[0m \u001b[1;33m**\u001b[0m\u001b[0mkwargs\u001b[0m\u001b[1;33m)\u001b[0m\u001b[1;33m:\u001b[0m\u001b[1;33m\u001b[0m\u001b[1;33m\u001b[0m\u001b[0m\n",
      "\u001b[1;32m~\\anaconda3\\lib\\site-packages\\pandas\\plotting\\_core.py\u001b[0m in \u001b[0;36m__call__\u001b[1;34m(self, *args, **kwargs)\u001b[0m\n\u001b[0;32m    790\u001b[0m         \u001b[1;32mif\u001b[0m \u001b[0mkind\u001b[0m \u001b[1;32min\u001b[0m \u001b[0mself\u001b[0m\u001b[1;33m.\u001b[0m\u001b[0m_dataframe_kinds\u001b[0m\u001b[1;33m:\u001b[0m\u001b[1;33m\u001b[0m\u001b[1;33m\u001b[0m\u001b[0m\n\u001b[0;32m    791\u001b[0m             \u001b[1;32mif\u001b[0m \u001b[0misinstance\u001b[0m\u001b[1;33m(\u001b[0m\u001b[0mdata\u001b[0m\u001b[1;33m,\u001b[0m \u001b[0mABCDataFrame\u001b[0m\u001b[1;33m)\u001b[0m\u001b[1;33m:\u001b[0m\u001b[1;33m\u001b[0m\u001b[1;33m\u001b[0m\u001b[0m\n\u001b[1;32m--> 792\u001b[1;33m                 \u001b[1;32mreturn\u001b[0m \u001b[0mplot_backend\u001b[0m\u001b[1;33m.\u001b[0m\u001b[0mplot\u001b[0m\u001b[1;33m(\u001b[0m\u001b[0mdata\u001b[0m\u001b[1;33m,\u001b[0m \u001b[0mx\u001b[0m\u001b[1;33m=\u001b[0m\u001b[0mx\u001b[0m\u001b[1;33m,\u001b[0m \u001b[0my\u001b[0m\u001b[1;33m=\u001b[0m\u001b[0my\u001b[0m\u001b[1;33m,\u001b[0m \u001b[0mkind\u001b[0m\u001b[1;33m=\u001b[0m\u001b[0mkind\u001b[0m\u001b[1;33m,\u001b[0m \u001b[1;33m**\u001b[0m\u001b[0mkwargs\u001b[0m\u001b[1;33m)\u001b[0m\u001b[1;33m\u001b[0m\u001b[1;33m\u001b[0m\u001b[0m\n\u001b[0m\u001b[0;32m    793\u001b[0m             \u001b[1;32melse\u001b[0m\u001b[1;33m:\u001b[0m\u001b[1;33m\u001b[0m\u001b[1;33m\u001b[0m\u001b[0m\n\u001b[0;32m    794\u001b[0m                 \u001b[1;32mraise\u001b[0m \u001b[0mValueError\u001b[0m\u001b[1;33m(\u001b[0m\u001b[1;34mf\"plot kind {kind} can only be used for data frames\"\u001b[0m\u001b[1;33m)\u001b[0m\u001b[1;33m\u001b[0m\u001b[1;33m\u001b[0m\u001b[0m\n",
      "\u001b[1;32m~\\anaconda3\\lib\\site-packages\\pandas\\plotting\\_matplotlib\\__init__.py\u001b[0m in \u001b[0;36mplot\u001b[1;34m(data, kind, **kwargs)\u001b[0m\n\u001b[0;32m     59\u001b[0m             \u001b[0mkwargs\u001b[0m\u001b[1;33m[\u001b[0m\u001b[1;34m\"ax\"\u001b[0m\u001b[1;33m]\u001b[0m \u001b[1;33m=\u001b[0m \u001b[0mgetattr\u001b[0m\u001b[1;33m(\u001b[0m\u001b[0max\u001b[0m\u001b[1;33m,\u001b[0m \u001b[1;34m\"left_ax\"\u001b[0m\u001b[1;33m,\u001b[0m \u001b[0max\u001b[0m\u001b[1;33m)\u001b[0m\u001b[1;33m\u001b[0m\u001b[1;33m\u001b[0m\u001b[0m\n\u001b[0;32m     60\u001b[0m     \u001b[0mplot_obj\u001b[0m \u001b[1;33m=\u001b[0m \u001b[0mPLOT_CLASSES\u001b[0m\u001b[1;33m[\u001b[0m\u001b[0mkind\u001b[0m\u001b[1;33m]\u001b[0m\u001b[1;33m(\u001b[0m\u001b[0mdata\u001b[0m\u001b[1;33m,\u001b[0m \u001b[1;33m**\u001b[0m\u001b[0mkwargs\u001b[0m\u001b[1;33m)\u001b[0m\u001b[1;33m\u001b[0m\u001b[1;33m\u001b[0m\u001b[0m\n\u001b[1;32m---> 61\u001b[1;33m     \u001b[0mplot_obj\u001b[0m\u001b[1;33m.\u001b[0m\u001b[0mgenerate\u001b[0m\u001b[1;33m(\u001b[0m\u001b[1;33m)\u001b[0m\u001b[1;33m\u001b[0m\u001b[1;33m\u001b[0m\u001b[0m\n\u001b[0m\u001b[0;32m     62\u001b[0m     \u001b[0mplot_obj\u001b[0m\u001b[1;33m.\u001b[0m\u001b[0mdraw\u001b[0m\u001b[1;33m(\u001b[0m\u001b[1;33m)\u001b[0m\u001b[1;33m\u001b[0m\u001b[1;33m\u001b[0m\u001b[0m\n\u001b[0;32m     63\u001b[0m     \u001b[1;32mreturn\u001b[0m \u001b[0mplot_obj\u001b[0m\u001b[1;33m.\u001b[0m\u001b[0mresult\u001b[0m\u001b[1;33m\u001b[0m\u001b[1;33m\u001b[0m\u001b[0m\n",
      "\u001b[1;32m~\\anaconda3\\lib\\site-packages\\pandas\\plotting\\_matplotlib\\core.py\u001b[0m in \u001b[0;36mgenerate\u001b[1;34m(self)\u001b[0m\n\u001b[0;32m    261\u001b[0m         \u001b[0mself\u001b[0m\u001b[1;33m.\u001b[0m\u001b[0m_compute_plot_data\u001b[0m\u001b[1;33m(\u001b[0m\u001b[1;33m)\u001b[0m\u001b[1;33m\u001b[0m\u001b[1;33m\u001b[0m\u001b[0m\n\u001b[0;32m    262\u001b[0m         \u001b[0mself\u001b[0m\u001b[1;33m.\u001b[0m\u001b[0m_setup_subplots\u001b[0m\u001b[1;33m(\u001b[0m\u001b[1;33m)\u001b[0m\u001b[1;33m\u001b[0m\u001b[1;33m\u001b[0m\u001b[0m\n\u001b[1;32m--> 263\u001b[1;33m         \u001b[0mself\u001b[0m\u001b[1;33m.\u001b[0m\u001b[0m_make_plot\u001b[0m\u001b[1;33m(\u001b[0m\u001b[1;33m)\u001b[0m\u001b[1;33m\u001b[0m\u001b[1;33m\u001b[0m\u001b[0m\n\u001b[0m\u001b[0;32m    264\u001b[0m         \u001b[0mself\u001b[0m\u001b[1;33m.\u001b[0m\u001b[0m_add_table\u001b[0m\u001b[1;33m(\u001b[0m\u001b[1;33m)\u001b[0m\u001b[1;33m\u001b[0m\u001b[1;33m\u001b[0m\u001b[0m\n\u001b[0;32m    265\u001b[0m         \u001b[0mself\u001b[0m\u001b[1;33m.\u001b[0m\u001b[0m_make_legend\u001b[0m\u001b[1;33m(\u001b[0m\u001b[1;33m)\u001b[0m\u001b[1;33m\u001b[0m\u001b[1;33m\u001b[0m\u001b[0m\n",
      "\u001b[1;32m~\\anaconda3\\lib\\site-packages\\pandas\\plotting\\_matplotlib\\core.py\u001b[0m in \u001b[0;36m_make_plot\u001b[1;34m(self)\u001b[0m\n\u001b[0;32m    968\u001b[0m             \u001b[0mlabel\u001b[0m \u001b[1;33m=\u001b[0m \u001b[1;32mNone\u001b[0m\u001b[1;33m\u001b[0m\u001b[1;33m\u001b[0m\u001b[0m\n\u001b[0;32m    969\u001b[0m         scatter = ax.scatter(\n\u001b[1;32m--> 970\u001b[1;33m             \u001b[0mdata\u001b[0m\u001b[1;33m[\u001b[0m\u001b[0mx\u001b[0m\u001b[1;33m]\u001b[0m\u001b[1;33m.\u001b[0m\u001b[0mvalues\u001b[0m\u001b[1;33m,\u001b[0m\u001b[1;33m\u001b[0m\u001b[1;33m\u001b[0m\u001b[0m\n\u001b[0m\u001b[0;32m    971\u001b[0m             \u001b[0mdata\u001b[0m\u001b[1;33m[\u001b[0m\u001b[0my\u001b[0m\u001b[1;33m]\u001b[0m\u001b[1;33m.\u001b[0m\u001b[0mvalues\u001b[0m\u001b[1;33m,\u001b[0m\u001b[1;33m\u001b[0m\u001b[1;33m\u001b[0m\u001b[0m\n\u001b[0;32m    972\u001b[0m             \u001b[0mc\u001b[0m\u001b[1;33m=\u001b[0m\u001b[0mc_values\u001b[0m\u001b[1;33m,\u001b[0m\u001b[1;33m\u001b[0m\u001b[1;33m\u001b[0m\u001b[0m\n",
      "\u001b[1;32m~\\anaconda3\\lib\\site-packages\\pandas\\core\\frame.py\u001b[0m in \u001b[0;36m__getitem__\u001b[1;34m(self, key)\u001b[0m\n\u001b[0;32m   2804\u001b[0m             \u001b[1;32mif\u001b[0m \u001b[0mis_iterator\u001b[0m\u001b[1;33m(\u001b[0m\u001b[0mkey\u001b[0m\u001b[1;33m)\u001b[0m\u001b[1;33m:\u001b[0m\u001b[1;33m\u001b[0m\u001b[1;33m\u001b[0m\u001b[0m\n\u001b[0;32m   2805\u001b[0m                 \u001b[0mkey\u001b[0m \u001b[1;33m=\u001b[0m \u001b[0mlist\u001b[0m\u001b[1;33m(\u001b[0m\u001b[0mkey\u001b[0m\u001b[1;33m)\u001b[0m\u001b[1;33m\u001b[0m\u001b[1;33m\u001b[0m\u001b[0m\n\u001b[1;32m-> 2806\u001b[1;33m             \u001b[0mindexer\u001b[0m \u001b[1;33m=\u001b[0m \u001b[0mself\u001b[0m\u001b[1;33m.\u001b[0m\u001b[0mloc\u001b[0m\u001b[1;33m.\u001b[0m\u001b[0m_get_listlike_indexer\u001b[0m\u001b[1;33m(\u001b[0m\u001b[0mkey\u001b[0m\u001b[1;33m,\u001b[0m \u001b[0maxis\u001b[0m\u001b[1;33m=\u001b[0m\u001b[1;36m1\u001b[0m\u001b[1;33m,\u001b[0m \u001b[0mraise_missing\u001b[0m\u001b[1;33m=\u001b[0m\u001b[1;32mTrue\u001b[0m\u001b[1;33m)\u001b[0m\u001b[1;33m[\u001b[0m\u001b[1;36m1\u001b[0m\u001b[1;33m]\u001b[0m\u001b[1;33m\u001b[0m\u001b[1;33m\u001b[0m\u001b[0m\n\u001b[0m\u001b[0;32m   2807\u001b[0m \u001b[1;33m\u001b[0m\u001b[0m\n\u001b[0;32m   2808\u001b[0m         \u001b[1;31m# take() does not accept boolean indexers\u001b[0m\u001b[1;33m\u001b[0m\u001b[1;33m\u001b[0m\u001b[1;33m\u001b[0m\u001b[0m\n",
      "\u001b[1;32m~\\anaconda3\\lib\\site-packages\\pandas\\core\\indexing.py\u001b[0m in \u001b[0;36m_get_listlike_indexer\u001b[1;34m(self, key, axis, raise_missing)\u001b[0m\n\u001b[0;32m   1545\u001b[0m             \u001b[1;32mif\u001b[0m \u001b[0mlen\u001b[0m\u001b[1;33m(\u001b[0m\u001b[0max\u001b[0m\u001b[1;33m)\u001b[0m \u001b[1;32mor\u001b[0m \u001b[1;32mnot\u001b[0m \u001b[0mlen\u001b[0m\u001b[1;33m(\u001b[0m\u001b[0mkey\u001b[0m\u001b[1;33m)\u001b[0m\u001b[1;33m:\u001b[0m\u001b[1;33m\u001b[0m\u001b[1;33m\u001b[0m\u001b[0m\n\u001b[0;32m   1546\u001b[0m                 \u001b[0mkey\u001b[0m \u001b[1;33m=\u001b[0m \u001b[0mself\u001b[0m\u001b[1;33m.\u001b[0m\u001b[0m_convert_for_reindex\u001b[0m\u001b[1;33m(\u001b[0m\u001b[0mkey\u001b[0m\u001b[1;33m,\u001b[0m \u001b[0maxis\u001b[0m\u001b[1;33m)\u001b[0m\u001b[1;33m\u001b[0m\u001b[1;33m\u001b[0m\u001b[0m\n\u001b[1;32m-> 1547\u001b[1;33m             \u001b[0mindexer\u001b[0m \u001b[1;33m=\u001b[0m \u001b[0max\u001b[0m\u001b[1;33m.\u001b[0m\u001b[0mget_indexer_for\u001b[0m\u001b[1;33m(\u001b[0m\u001b[0mkey\u001b[0m\u001b[1;33m)\u001b[0m\u001b[1;33m\u001b[0m\u001b[1;33m\u001b[0m\u001b[0m\n\u001b[0m\u001b[0;32m   1548\u001b[0m             \u001b[0mkeyarr\u001b[0m \u001b[1;33m=\u001b[0m \u001b[0max\u001b[0m\u001b[1;33m.\u001b[0m\u001b[0mreindex\u001b[0m\u001b[1;33m(\u001b[0m\u001b[0mkeyarr\u001b[0m\u001b[1;33m)\u001b[0m\u001b[1;33m[\u001b[0m\u001b[1;36m0\u001b[0m\u001b[1;33m]\u001b[0m\u001b[1;33m\u001b[0m\u001b[1;33m\u001b[0m\u001b[0m\n\u001b[0;32m   1549\u001b[0m         \u001b[1;32melse\u001b[0m\u001b[1;33m:\u001b[0m\u001b[1;33m\u001b[0m\u001b[1;33m\u001b[0m\u001b[0m\n",
      "\u001b[1;32m~\\anaconda3\\lib\\site-packages\\pandas\\core\\indexes\\base.py\u001b[0m in \u001b[0;36mget_indexer_for\u001b[1;34m(self, target, **kwargs)\u001b[0m\n\u001b[0;32m   4500\u001b[0m         \"\"\"\n\u001b[0;32m   4501\u001b[0m         \u001b[1;32mif\u001b[0m \u001b[0mself\u001b[0m\u001b[1;33m.\u001b[0m\u001b[0mis_unique\u001b[0m\u001b[1;33m:\u001b[0m\u001b[1;33m\u001b[0m\u001b[1;33m\u001b[0m\u001b[0m\n\u001b[1;32m-> 4502\u001b[1;33m             \u001b[1;32mreturn\u001b[0m \u001b[0mself\u001b[0m\u001b[1;33m.\u001b[0m\u001b[0mget_indexer\u001b[0m\u001b[1;33m(\u001b[0m\u001b[0mtarget\u001b[0m\u001b[1;33m,\u001b[0m \u001b[1;33m**\u001b[0m\u001b[0mkwargs\u001b[0m\u001b[1;33m)\u001b[0m\u001b[1;33m\u001b[0m\u001b[1;33m\u001b[0m\u001b[0m\n\u001b[0m\u001b[0;32m   4503\u001b[0m         \u001b[0mindexer\u001b[0m\u001b[1;33m,\u001b[0m \u001b[0m_\u001b[0m \u001b[1;33m=\u001b[0m \u001b[0mself\u001b[0m\u001b[1;33m.\u001b[0m\u001b[0mget_indexer_non_unique\u001b[0m\u001b[1;33m(\u001b[0m\u001b[0mtarget\u001b[0m\u001b[1;33m,\u001b[0m \u001b[1;33m**\u001b[0m\u001b[0mkwargs\u001b[0m\u001b[1;33m)\u001b[0m\u001b[1;33m\u001b[0m\u001b[1;33m\u001b[0m\u001b[0m\n\u001b[0;32m   4504\u001b[0m         \u001b[1;32mreturn\u001b[0m \u001b[0mindexer\u001b[0m\u001b[1;33m\u001b[0m\u001b[1;33m\u001b[0m\u001b[0m\n",
      "\u001b[1;32m~\\anaconda3\\lib\\site-packages\\pandas\\core\\indexes\\base.py\u001b[0m in \u001b[0;36mget_indexer\u001b[1;34m(self, target, method, limit, tolerance)\u001b[0m\n\u001b[0;32m   2707\u001b[0m     \u001b[1;32mdef\u001b[0m \u001b[0mget_indexer\u001b[0m\u001b[1;33m(\u001b[0m\u001b[0mself\u001b[0m\u001b[1;33m,\u001b[0m \u001b[0mtarget\u001b[0m\u001b[1;33m,\u001b[0m \u001b[0mmethod\u001b[0m\u001b[1;33m=\u001b[0m\u001b[1;32mNone\u001b[0m\u001b[1;33m,\u001b[0m \u001b[0mlimit\u001b[0m\u001b[1;33m=\u001b[0m\u001b[1;32mNone\u001b[0m\u001b[1;33m,\u001b[0m \u001b[0mtolerance\u001b[0m\u001b[1;33m=\u001b[0m\u001b[1;32mNone\u001b[0m\u001b[1;33m)\u001b[0m\u001b[1;33m:\u001b[0m\u001b[1;33m\u001b[0m\u001b[1;33m\u001b[0m\u001b[0m\n\u001b[0;32m   2708\u001b[0m         \u001b[0mmethod\u001b[0m \u001b[1;33m=\u001b[0m \u001b[0mmissing\u001b[0m\u001b[1;33m.\u001b[0m\u001b[0mclean_reindex_fill_method\u001b[0m\u001b[1;33m(\u001b[0m\u001b[0mmethod\u001b[0m\u001b[1;33m)\u001b[0m\u001b[1;33m\u001b[0m\u001b[1;33m\u001b[0m\u001b[0m\n\u001b[1;32m-> 2709\u001b[1;33m         \u001b[0mtarget\u001b[0m \u001b[1;33m=\u001b[0m \u001b[0mensure_index\u001b[0m\u001b[1;33m(\u001b[0m\u001b[0mtarget\u001b[0m\u001b[1;33m)\u001b[0m\u001b[1;33m\u001b[0m\u001b[1;33m\u001b[0m\u001b[0m\n\u001b[0m\u001b[0;32m   2710\u001b[0m         \u001b[1;32mif\u001b[0m \u001b[0mtolerance\u001b[0m \u001b[1;32mis\u001b[0m \u001b[1;32mnot\u001b[0m \u001b[1;32mNone\u001b[0m\u001b[1;33m:\u001b[0m\u001b[1;33m\u001b[0m\u001b[1;33m\u001b[0m\u001b[0m\n\u001b[0;32m   2711\u001b[0m             \u001b[0mtolerance\u001b[0m \u001b[1;33m=\u001b[0m \u001b[0mself\u001b[0m\u001b[1;33m.\u001b[0m\u001b[0m_convert_tolerance\u001b[0m\u001b[1;33m(\u001b[0m\u001b[0mtolerance\u001b[0m\u001b[1;33m,\u001b[0m \u001b[0mtarget\u001b[0m\u001b[1;33m)\u001b[0m\u001b[1;33m\u001b[0m\u001b[1;33m\u001b[0m\u001b[0m\n",
      "\u001b[1;32m~\\anaconda3\\lib\\site-packages\\pandas\\core\\indexes\\base.py\u001b[0m in \u001b[0;36mensure_index\u001b[1;34m(index_like, copy)\u001b[0m\n\u001b[0;32m   5356\u001b[0m             \u001b[0mindex_like\u001b[0m \u001b[1;33m=\u001b[0m \u001b[0mcopy\u001b[0m\u001b[1;33m(\u001b[0m\u001b[0mindex_like\u001b[0m\u001b[1;33m)\u001b[0m\u001b[1;33m\u001b[0m\u001b[1;33m\u001b[0m\u001b[0m\n\u001b[0;32m   5357\u001b[0m \u001b[1;33m\u001b[0m\u001b[0m\n\u001b[1;32m-> 5358\u001b[1;33m     \u001b[1;32mreturn\u001b[0m \u001b[0mIndex\u001b[0m\u001b[1;33m(\u001b[0m\u001b[0mindex_like\u001b[0m\u001b[1;33m)\u001b[0m\u001b[1;33m\u001b[0m\u001b[1;33m\u001b[0m\u001b[0m\n\u001b[0m\u001b[0;32m   5359\u001b[0m \u001b[1;33m\u001b[0m\u001b[0m\n\u001b[0;32m   5360\u001b[0m \u001b[1;33m\u001b[0m\u001b[0m\n",
      "\u001b[1;32m~\\anaconda3\\lib\\site-packages\\pandas\\core\\indexes\\base.py\u001b[0m in \u001b[0;36m__new__\u001b[1;34m(cls, data, dtype, copy, name, tupleize_cols, **kwargs)\u001b[0m\n\u001b[0;32m    392\u001b[0m                 \u001b[1;32mreturn\u001b[0m \u001b[0mUInt64Index\u001b[0m\u001b[1;33m(\u001b[0m\u001b[0mdata\u001b[0m\u001b[1;33m,\u001b[0m \u001b[0mcopy\u001b[0m\u001b[1;33m=\u001b[0m\u001b[0mcopy\u001b[0m\u001b[1;33m,\u001b[0m \u001b[0mdtype\u001b[0m\u001b[1;33m=\u001b[0m\u001b[0mdtype\u001b[0m\u001b[1;33m,\u001b[0m \u001b[0mname\u001b[0m\u001b[1;33m=\u001b[0m\u001b[0mname\u001b[0m\u001b[1;33m)\u001b[0m\u001b[1;33m\u001b[0m\u001b[1;33m\u001b[0m\u001b[0m\n\u001b[0;32m    393\u001b[0m             \u001b[1;32melif\u001b[0m \u001b[0mis_float_dtype\u001b[0m\u001b[1;33m(\u001b[0m\u001b[0mdata\u001b[0m\u001b[1;33m.\u001b[0m\u001b[0mdtype\u001b[0m\u001b[1;33m)\u001b[0m\u001b[1;33m:\u001b[0m\u001b[1;33m\u001b[0m\u001b[1;33m\u001b[0m\u001b[0m\n\u001b[1;32m--> 394\u001b[1;33m                 \u001b[1;32mreturn\u001b[0m \u001b[0mFloat64Index\u001b[0m\u001b[1;33m(\u001b[0m\u001b[0mdata\u001b[0m\u001b[1;33m,\u001b[0m \u001b[0mcopy\u001b[0m\u001b[1;33m=\u001b[0m\u001b[0mcopy\u001b[0m\u001b[1;33m,\u001b[0m \u001b[0mdtype\u001b[0m\u001b[1;33m=\u001b[0m\u001b[0mdtype\u001b[0m\u001b[1;33m,\u001b[0m \u001b[0mname\u001b[0m\u001b[1;33m=\u001b[0m\u001b[0mname\u001b[0m\u001b[1;33m)\u001b[0m\u001b[1;33m\u001b[0m\u001b[1;33m\u001b[0m\u001b[0m\n\u001b[0m\u001b[0;32m    395\u001b[0m             \u001b[1;32melif\u001b[0m \u001b[0missubclass\u001b[0m\u001b[1;33m(\u001b[0m\u001b[0mdata\u001b[0m\u001b[1;33m.\u001b[0m\u001b[0mdtype\u001b[0m\u001b[1;33m.\u001b[0m\u001b[0mtype\u001b[0m\u001b[1;33m,\u001b[0m \u001b[0mnp\u001b[0m\u001b[1;33m.\u001b[0m\u001b[0mbool\u001b[0m\u001b[1;33m)\u001b[0m \u001b[1;32mor\u001b[0m \u001b[0mis_bool_dtype\u001b[0m\u001b[1;33m(\u001b[0m\u001b[0mdata\u001b[0m\u001b[1;33m)\u001b[0m\u001b[1;33m:\u001b[0m\u001b[1;33m\u001b[0m\u001b[1;33m\u001b[0m\u001b[0m\n\u001b[0;32m    396\u001b[0m                 \u001b[0msubarr\u001b[0m \u001b[1;33m=\u001b[0m \u001b[0mdata\u001b[0m\u001b[1;33m.\u001b[0m\u001b[0mastype\u001b[0m\u001b[1;33m(\u001b[0m\u001b[1;34m\"object\"\u001b[0m\u001b[1;33m)\u001b[0m\u001b[1;33m\u001b[0m\u001b[1;33m\u001b[0m\u001b[0m\n",
      "\u001b[1;32m~\\anaconda3\\lib\\site-packages\\pandas\\core\\indexes\\numeric.py\u001b[0m in \u001b[0;36m__new__\u001b[1;34m(cls, data, dtype, copy, name)\u001b[0m\n\u001b[0;32m     76\u001b[0m         \u001b[1;32mif\u001b[0m \u001b[0msubarr\u001b[0m\u001b[1;33m.\u001b[0m\u001b[0mndim\u001b[0m \u001b[1;33m>\u001b[0m \u001b[1;36m1\u001b[0m\u001b[1;33m:\u001b[0m\u001b[1;33m\u001b[0m\u001b[1;33m\u001b[0m\u001b[0m\n\u001b[0;32m     77\u001b[0m             \u001b[1;31m# GH#13601, GH#20285, GH#27125\u001b[0m\u001b[1;33m\u001b[0m\u001b[1;33m\u001b[0m\u001b[1;33m\u001b[0m\u001b[0m\n\u001b[1;32m---> 78\u001b[1;33m             \u001b[1;32mraise\u001b[0m \u001b[0mValueError\u001b[0m\u001b[1;33m(\u001b[0m\u001b[1;34m\"Index data must be 1-dimensional\"\u001b[0m\u001b[1;33m)\u001b[0m\u001b[1;33m\u001b[0m\u001b[1;33m\u001b[0m\u001b[0m\n\u001b[0m\u001b[0;32m     79\u001b[0m \u001b[1;33m\u001b[0m\u001b[0m\n\u001b[0;32m     80\u001b[0m         \u001b[0mname\u001b[0m \u001b[1;33m=\u001b[0m \u001b[0mmaybe_extract_name\u001b[0m\u001b[1;33m(\u001b[0m\u001b[0mname\u001b[0m\u001b[1;33m,\u001b[0m \u001b[0mdata\u001b[0m\u001b[1;33m,\u001b[0m \u001b[0mcls\u001b[0m\u001b[1;33m)\u001b[0m\u001b[1;33m\u001b[0m\u001b[1;33m\u001b[0m\u001b[0m\n",
      "\u001b[1;31mValueError\u001b[0m: Index data must be 1-dimensional"
     ]
    },
    {
     "data": {
      "image/png": "[encoded data removed]",
      "text/plain": [
       "<Figure size 432x288 with 1 Axes>"
      ]
     },
     "metadata": {},
     "output_type": "display_data"
    }
   ],
   "source": [
    "df_new.plot.scatter(X, y)\n",
    "plt.show()"
   ]
  },
  {
   "cell_type": "code",
   "execution_count": 135,
   "metadata": {},
   "outputs": [
    {
     "data": {
      "text/plain": [
       "(560, 5)"
      ]
     },
     "execution_count": 135,
     "metadata": {},
     "output_type": "execute_result"
    }
   ],
   "source": [
    "X.shape"
   ]
  },
  {
   "cell_type": "code",
   "execution_count": 158,
   "metadata": {},
   "outputs": [],
   "source": [
    "#create training and test sets \n",
    "X_train, X_test, y_train, y_test = train_test_split(X, y, test_size = 0.2, random_state=42)"
   ]
  },
  {
   "cell_type": "code",
   "execution_count": 159,
   "metadata": {},
   "outputs": [
    {
     "data": {
      "text/plain": [
       "(448, 5)"
      ]
     },
     "execution_count": 159,
     "metadata": {},
     "output_type": "execute_result"
    }
   ],
   "source": [
    "X_train.shape"
   ]
  },
  {
   "cell_type": "code",
   "execution_count": 160,
   "metadata": {},
   "outputs": [],
   "source": [
    "#create regressor\n",
    "reg = LinearRegression()"
   ]
  },
  {
   "cell_type": "code",
   "execution_count": 161,
   "metadata": {
    "scrolled": true
   },
   "outputs": [
    {
     "data": {
      "text/plain": [
       "LinearRegression()"
      ]
     },
     "execution_count": 161,
     "metadata": {},
     "output_type": "execute_result"
    }
   ],
   "source": [
    "reg.fit(X_train, y_train)"
   ]
  },
  {
   "cell_type": "code",
   "execution_count": 165,
   "metadata": {},
   "outputs": [
    {
     "name": "stdout",
     "output_type": "stream",
     "text": [
      "R^2: 0.6807662366581071\n"
     ]
    }
   ],
   "source": [
    "y_predict = reg.predict(X_test)\n",
    "\n",
    "print(\"R^2: {}\".format(reg.score(X_test, y_test)))"
   ]
  },
  {
   "cell_type": "code",
   "execution_count": 166,
   "metadata": {},
   "outputs": [
    {
     "name": "stdout",
     "output_type": "stream",
     "text": [
      "[0.68234791 0.55440367 0.70866592 0.64412774 0.59865517]\n",
      "Average 5-Fold CV Score: 0.6376400828302672\n"
     ]
    }
   ],
   "source": [
    "cv_scores = cross_val_score(reg, X_train, y_train, cv=5)\n",
    "print(cv_scores)\n",
    "print(\"Average 5-Fold CV Score: {}\".format(np.mean(cv_scores)))"
   ]
  },
  {
   "cell_type": "code",
   "execution_count": null,
   "metadata": {},
   "outputs": [],
   "source": []
  },
  {
   "cell_type": "code",
   "execution_count": 125,
   "metadata": {},
   "outputs": [],
   "source": [
    "#import gradientboosting\n",
    "from sklearn import ensemble\n",
    "clf = ensemble.GradientBoostingRegressor(n_estimators = 500, max_depth = 3, min_samples_split = 2,\n",
    "          learning_rate = 0.1, loss = 'ls')"
   ]
  },
  {
   "cell_type": "code",
   "execution_count": 126,
   "metadata": {},
   "outputs": [
    {
     "data": {
      "text/plain": [
       "GradientBoostingRegressor(n_estimators=500)"
      ]
     },
     "execution_count": 126,
     "metadata": {},
     "output_type": "execute_result"
    }
   ],
   "source": [
    "#fit the data\n",
    "clf.fit(X_train, y_train)"
   ]
  },
  {
   "cell_type": "code",
   "execution_count": 127,
   "metadata": {},
   "outputs": [
    {
     "data": {
      "text/plain": [
       "0.4913171360255073"
      ]
     },
     "execution_count": 127,
     "metadata": {},
     "output_type": "execute_result"
    }
   ],
   "source": [
    "#test the accuracy\n",
    "clf.score(X_test,y_test)"
   ]
  },
  {
   "cell_type": "code",
   "execution_count": null,
   "metadata": {},
   "outputs": [],
   "source": []
  },
  {
   "cell_type": "code",
   "execution_count": 128,
   "metadata": {},
   "outputs": [],
   "source": [
    "from sklearn.neural_network import MLPClassifier\n",
    "from sklearn.datasets import make_classification"
   ]
  },
  {
   "cell_type": "code",
   "execution_count": 164,
   "metadata": {},
   "outputs": [],
   "source": [
    "X, y = make_classification(n_samples=560, random_state=42, n_features=5)\n",
    "X_train, X_test, y_train, y_test = train_test_split(X, y, stratify=y,\n",
    "                                                    random_state=42)"
   ]
  },
  {
   "cell_type": "code",
   "execution_count": 138,
   "metadata": {
    "scrolled": false
   },
   "outputs": [
    {
     "data": {
      "text/plain": [
       "array([[8.95820878e-01, 1.04179122e-01],\n",
       "       [8.07584042e-02, 9.19241596e-01],\n",
       "       [9.93831858e-01, 6.16814159e-03],\n",
       "       [9.98226323e-01, 1.77367653e-03],\n",
       "       [2.51736806e-03, 9.97482632e-01],\n",
       "       [7.77437452e-02, 9.22256255e-01],\n",
       "       [3.52367757e-03, 9.96476322e-01],\n",
       "       [9.99992050e-01, 7.95012324e-06],\n",
       "       [8.84313933e-04, 9.99115686e-01],\n",
       "       [9.97453165e-01, 2.54683459e-03],\n",
       "       [5.19033351e-02, 9.48096665e-01],\n",
       "       [4.43288924e-02, 9.55671108e-01],\n",
       "       [9.79781082e-01, 2.02189182e-02],\n",
       "       [1.57127471e-02, 9.84287253e-01],\n",
       "       [9.21340235e-01, 7.86597653e-02],\n",
       "       [7.87722166e-03, 9.92122778e-01],\n",
       "       [8.62504932e-01, 1.37495068e-01],\n",
       "       [1.23545361e-01, 8.76454639e-01],\n",
       "       [5.42915110e-01, 4.57084890e-01],\n",
       "       [8.47833185e-02, 9.15216682e-01],\n",
       "       [1.79811407e-01, 8.20188593e-01],\n",
       "       [6.02140988e-01, 3.97859012e-01],\n",
       "       [7.55459623e-03, 9.92445404e-01],\n",
       "       [9.99488395e-02, 9.00051161e-01],\n",
       "       [5.82275228e-01, 4.17724772e-01],\n",
       "       [9.99934663e-01, 6.53366301e-05],\n",
       "       [8.51647311e-01, 1.48352689e-01],\n",
       "       [3.35443239e-01, 6.64556761e-01],\n",
       "       [9.99957340e-01, 4.26596261e-05],\n",
       "       [2.63208363e-01, 7.36791637e-01],\n",
       "       [2.35301617e-01, 7.64698383e-01],\n",
       "       [9.21146210e-01, 7.88537903e-02],\n",
       "       [9.56721040e-01, 4.32789597e-02],\n",
       "       [4.65009113e-02, 9.53499089e-01],\n",
       "       [8.05858062e-04, 9.99194142e-01],\n",
       "       [8.55566261e-01, 1.44433739e-01],\n",
       "       [9.97340101e-01, 2.65989881e-03],\n",
       "       [6.02997415e-01, 3.97002585e-01],\n",
       "       [1.17463692e-01, 8.82536308e-01],\n",
       "       [9.16139673e-01, 8.38603267e-02],\n",
       "       [9.06087521e-01, 9.39124785e-02],\n",
       "       [9.94414484e-01, 5.58551594e-03],\n",
       "       [9.69756063e-02, 9.03024394e-01],\n",
       "       [6.79254719e-01, 3.20745281e-01],\n",
       "       [9.99371039e-01, 6.28960864e-04],\n",
       "       [2.40952470e-04, 9.99759048e-01],\n",
       "       [4.73946854e-02, 9.52605315e-01],\n",
       "       [6.63821874e-02, 9.33617813e-01],\n",
       "       [9.94838029e-01, 5.16197110e-03],\n",
       "       [5.21648725e-03, 9.94783513e-01],\n",
       "       [9.79141917e-01, 2.08580835e-02],\n",
       "       [5.29088402e-02, 9.47091160e-01],\n",
       "       [2.71802418e-02, 9.72819758e-01],\n",
       "       [9.93391932e-01, 6.60806794e-03],\n",
       "       [9.96850127e-01, 3.14987318e-03],\n",
       "       [1.66916495e-01, 8.33083505e-01],\n",
       "       [8.32835633e-02, 9.16716437e-01],\n",
       "       [8.98802044e-02, 9.10119796e-01],\n",
       "       [9.99094101e-01, 9.05898587e-04],\n",
       "       [5.03507375e-01, 4.96492625e-01],\n",
       "       [9.80920911e-01, 1.90790889e-02],\n",
       "       [4.65788546e-03, 9.95342115e-01],\n",
       "       [9.98074834e-01, 1.92516611e-03],\n",
       "       [1.06858300e-01, 8.93141700e-01],\n",
       "       [9.73544556e-02, 9.02645544e-01],\n",
       "       [9.97839201e-01, 2.16079933e-03],\n",
       "       [9.97636718e-01, 2.36328250e-03],\n",
       "       [9.77604407e-01, 2.23955926e-02],\n",
       "       [9.99559355e-01, 4.40644798e-04],\n",
       "       [9.94270518e-01, 5.72948202e-03],\n",
       "       [1.54860277e-01, 8.45139723e-01],\n",
       "       [4.55307363e-01, 5.44692637e-01],\n",
       "       [2.83869661e-02, 9.71613034e-01],\n",
       "       [9.99902139e-01, 9.78610784e-05],\n",
       "       [9.95815089e-01, 4.18491118e-03],\n",
       "       [1.14351991e-01, 8.85648009e-01],\n",
       "       [9.97774979e-01, 2.22502094e-03],\n",
       "       [9.97714612e-01, 2.28538777e-03],\n",
       "       [3.62689255e-03, 9.96373107e-01],\n",
       "       [7.44007061e-01, 2.55992939e-01],\n",
       "       [1.14950357e-02, 9.88504964e-01],\n",
       "       [9.99264118e-01, 7.35882201e-04],\n",
       "       [9.90481264e-01, 9.51873592e-03],\n",
       "       [4.26597922e-01, 5.73402078e-01],\n",
       "       [9.51569897e-01, 4.84301031e-02],\n",
       "       [1.41595193e-01, 8.58404807e-01],\n",
       "       [5.47563029e-04, 9.99452437e-01],\n",
       "       [8.86483120e-01, 1.13516880e-01],\n",
       "       [2.95734192e-01, 7.04265808e-01],\n",
       "       [9.55809046e-01, 4.41909537e-02],\n",
       "       [3.61202846e-04, 9.99638797e-01],\n",
       "       [9.94335863e-01, 5.66413738e-03],\n",
       "       [1.36502071e-01, 8.63497929e-01],\n",
       "       [9.95236329e-01, 4.76367082e-03],\n",
       "       [1.14079975e-02, 9.88592003e-01],\n",
       "       [1.33453976e-01, 8.66546024e-01],\n",
       "       [9.40678680e-01, 5.93213197e-02],\n",
       "       [9.77878902e-01, 2.21210978e-02],\n",
       "       [8.29407511e-02, 9.17059249e-01],\n",
       "       [3.51331176e-02, 9.64866882e-01],\n",
       "       [9.99730399e-01, 2.69601154e-04],\n",
       "       [6.11042887e-02, 9.38895711e-01],\n",
       "       [9.92401220e-01, 7.59878009e-03],\n",
       "       [4.74725517e-02, 9.52527448e-01],\n",
       "       [9.97477049e-01, 2.52295092e-03],\n",
       "       [2.02687918e-01, 7.97312082e-01],\n",
       "       [1.22178764e-01, 8.77821236e-01],\n",
       "       [1.00416454e-01, 8.99583546e-01],\n",
       "       [1.49651429e-02, 9.85034857e-01],\n",
       "       [9.99904095e-01, 9.59047931e-05],\n",
       "       [9.87957374e-01, 1.20426261e-02],\n",
       "       [9.98081993e-01, 1.91800691e-03],\n",
       "       [9.99472710e-01, 5.27289938e-04],\n",
       "       [6.41913553e-01, 3.58086447e-01],\n",
       "       [7.37758247e-02, 9.26224175e-01],\n",
       "       [4.73582539e-02, 9.52641746e-01],\n",
       "       [6.39907469e-01, 3.60092531e-01],\n",
       "       [3.81974088e-02, 9.61802591e-01],\n",
       "       [1.78194608e-02, 9.82180539e-01],\n",
       "       [3.61203286e-02, 9.63879671e-01],\n",
       "       [2.72463013e-02, 9.72753699e-01],\n",
       "       [2.43065738e-01, 7.56934262e-01],\n",
       "       [6.15301974e-02, 9.38469803e-01],\n",
       "       [9.98708950e-01, 1.29104990e-03],\n",
       "       [9.98859152e-01, 1.14084766e-03],\n",
       "       [9.94809144e-01, 5.19085604e-03],\n",
       "       [9.12043695e-01, 8.79563054e-02],\n",
       "       [9.72984111e-01, 2.70158890e-02],\n",
       "       [1.74289289e-03, 9.98257107e-01],\n",
       "       [9.96505193e-01, 3.49480701e-03],\n",
       "       [9.96861059e-01, 3.13894104e-03],\n",
       "       [9.98008223e-01, 1.99177742e-03],\n",
       "       [8.29825128e-02, 9.17017487e-01],\n",
       "       [7.79007445e-03, 9.92209926e-01],\n",
       "       [9.99696818e-01, 3.03182412e-04],\n",
       "       [9.99050726e-01, 9.49274079e-04],\n",
       "       [1.16424928e-01, 8.83575072e-01],\n",
       "       [8.91617600e-02, 9.10838240e-01],\n",
       "       [9.99166281e-01, 8.33719143e-04],\n",
       "       [2.52629556e-01, 7.47370444e-01]])"
      ]
     },
     "execution_count": 138,
     "metadata": {},
     "output_type": "execute_result"
    }
   ],
   "source": [
    "clf2 = MLPClassifier(hidden_layer_sizes=(20,), random_state=42, max_iter=1000).fit(X_train, y_train)\n",
    "clf2.predict_proba(X_test)"
   ]
  },
  {
   "cell_type": "code",
   "execution_count": 60,
   "metadata": {},
   "outputs": [
    {
     "ename": "AttributeError",
     "evalue": "'MLPClassifier' object has no attribute 'reshape'",
     "output_type": "error",
     "traceback": [
      "\u001b[1;31m---------------------------------------------------------------------------\u001b[0m",
      "\u001b[1;31mAttributeError\u001b[0m                            Traceback (most recent call last)",
      "\u001b[1;32m<ipython-input-60-4ad0fbf60d35>\u001b[0m in \u001b[0;36m<module>\u001b[1;34m\u001b[0m\n\u001b[1;32m----> 1\u001b[1;33m \u001b[0mclf2\u001b[0m \u001b[1;33m=\u001b[0m \u001b[0mclf2\u001b[0m\u001b[1;33m.\u001b[0m\u001b[0mreshape\u001b[0m\u001b[1;33m(\u001b[0m\u001b[1;33m-\u001b[0m\u001b[1;36m1\u001b[0m\u001b[1;33m,\u001b[0m \u001b[1;36m1\u001b[0m\u001b[1;33m)\u001b[0m\u001b[1;33m\u001b[0m\u001b[1;33m\u001b[0m\u001b[0m\n\u001b[0m",
      "\u001b[1;31mAttributeError\u001b[0m: 'MLPClassifier' object has no attribute 'reshape'"
     ]
    }
   ],
   "source": [
    "clf2 = clf2.reshape(-1, 1)"
   ]
  },
  {
   "cell_type": "code",
   "execution_count": 139,
   "metadata": {},
   "outputs": [
    {
     "data": {
      "text/plain": [
       "0.9714285714285714"
      ]
     },
     "execution_count": 139,
     "metadata": {},
     "output_type": "execute_result"
    }
   ],
   "source": [
    "clf2.score(X_test, y_test)"
   ]
  },
  {
   "cell_type": "code",
   "execution_count": 148,
   "metadata": {},
   "outputs": [],
   "source": [
    "x4 = np.array([0.494764, 0.591837, 0.500000, 0.1, 0.39282])"
   ]
  },
  {
   "cell_type": "code",
   "execution_count": 149,
   "metadata": {},
   "outputs": [],
   "source": [
    "pred1 = clf2.predict(x4.reshape(1,-1))"
   ]
  },
  {
   "cell_type": "code",
   "execution_count": 153,
   "metadata": {
    "scrolled": true
   },
   "outputs": [
    {
     "data": {
      "text/plain": [
       "1"
      ]
     },
     "execution_count": 153,
     "metadata": {},
     "output_type": "execute_result"
    }
   ],
   "source": [
    "pred1[0]"
   ]
  },
  {
   "cell_type": "code",
   "execution_count": 156,
   "metadata": {},
   "outputs": [
    {
     "name": "stdout",
     "output_type": "stream",
     "text": [
      "[0.9375     0.92857143 0.97321429 0.9375     0.94642857]\n",
      "Average 5-Fold CV Score: 0.9446428571428571\n"
     ]
    }
   ],
   "source": [
    "cv_scores2 = cross_val_score(clf2, X, y, cv=5)\n",
    "print(cv_scores2)\n",
    "print(\"Average 5-Fold CV Score: {}\".format(np.mean(cv_scores2)))"
   ]
  },
  {
   "cell_type": "code",
   "execution_count": null,
   "metadata": {},
   "outputs": [],
   "source": [
    "clf.predict()"
   ]
  }
 ],
 "metadata": {
  "kernelspec": {
   "display_name": "Python 3",
   "language": "python",
   "name": "python3"
  },
  "language_info": {
   "codemirror_mode": {
    "name": "ipython",
    "version": 3
   },
   "file_extension": ".py",
   "mimetype": "text/x-python",
   "name": "python",
   "nbconvert_exporter": "python",
   "pygments_lexer": "ipython3",
   "version": "3.8.3"
  }
 },
 "nbformat": 4,
 "nbformat_minor": 4
}
