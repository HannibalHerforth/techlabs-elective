{
 "cells": [
  {
   "cell_type": "code",
   "execution_count": 2,
   "metadata": {
    "scrolled": true
   },
   "outputs": [
    {
     "data": {
      "text/html": [
       "<div>\n",
       "<style scoped>\n",
       "    .dataframe tbody tr th:only-of-type {\n",
       "        vertical-align: middle;\n",
       "    }\n",
       "\n",
       "    .dataframe tbody tr th {\n",
       "        vertical-align: top;\n",
       "    }\n",
       "\n",
       "    .dataframe thead th {\n",
       "        text-align: right;\n",
       "    }\n",
       "</style>\n",
       "<table border=\"1\" class=\"dataframe\">\n",
       "  <thead>\n",
       "    <tr style=\"text-align: right;\">\n",
       "      <th></th>\n",
       "      <th>sold.price</th>\n",
       "      <th>zip.code</th>\n",
       "      <th>overview</th>\n",
       "      <th>type</th>\n",
       "      <th>year.built</th>\n",
       "      <th>num.beds</th>\n",
       "      <th>num.baths</th>\n",
       "      <th>living.area</th>\n",
       "      <th>lot.area</th>\n",
       "      <th>masterbedroom.length</th>\n",
       "      <th>masterbedroom.width</th>\n",
       "      <th>kitchen.length</th>\n",
       "      <th>kitchen.width</th>\n",
       "      <th>rand</th>\n",
       "    </tr>\n",
       "  </thead>\n",
       "  <tbody>\n",
       "    <tr>\n",
       "      <th>0</th>\n",
       "      <td>3000000.0</td>\n",
       "      <td>2108</td>\n",
       "      <td>\\n          Property Overview - Beacon Hill gr...</td>\n",
       "      <td>Condo/Townhome/Row Home/Co-Op</td>\n",
       "      <td>1899</td>\n",
       "      <td>2</td>\n",
       "      <td>1.5</td>\n",
       "      <td>2352</td>\n",
       "      <td>NaN</td>\n",
       "      <td>15.0</td>\n",
       "      <td>15.0</td>\n",
       "      <td>12.0</td>\n",
       "      <td>10.0</td>\n",
       "      <td>0.001732</td>\n",
       "    </tr>\n",
       "    <tr>\n",
       "      <th>1</th>\n",
       "      <td>1150000.0</td>\n",
       "      <td>2476</td>\n",
       "      <td>\\n          Property Overview - Quality builde...</td>\n",
       "      <td>Single Family Home</td>\n",
       "      <td>1959</td>\n",
       "      <td>4</td>\n",
       "      <td>3.5</td>\n",
       "      <td>2713</td>\n",
       "      <td>6890.00</td>\n",
       "      <td>17.0</td>\n",
       "      <td>11.0</td>\n",
       "      <td>25.0</td>\n",
       "      <td>12.0</td>\n",
       "      <td>0.003026</td>\n",
       "    </tr>\n",
       "    <tr>\n",
       "      <th>2</th>\n",
       "      <td>1095000.0</td>\n",
       "      <td>1890</td>\n",
       "      <td>\\n          Property Overview - This surprisin...</td>\n",
       "      <td>Single Family Home</td>\n",
       "      <td>1960</td>\n",
       "      <td>4</td>\n",
       "      <td>3.5</td>\n",
       "      <td>2821</td>\n",
       "      <td>0.36</td>\n",
       "      <td>20.0</td>\n",
       "      <td>19.0</td>\n",
       "      <td>25.0</td>\n",
       "      <td>16.0</td>\n",
       "      <td>0.004115</td>\n",
       "    </tr>\n",
       "    <tr>\n",
       "      <th>3</th>\n",
       "      <td>689000.0</td>\n",
       "      <td>2118</td>\n",
       "      <td>\\n          Property Overview - Sound End Styl...</td>\n",
       "      <td>Condo/Townhome/Row Home/Co-Op</td>\n",
       "      <td>1855</td>\n",
       "      <td>1</td>\n",
       "      <td>1.0</td>\n",
       "      <td>595</td>\n",
       "      <td>NaN</td>\n",
       "      <td>13.0</td>\n",
       "      <td>12.0</td>\n",
       "      <td>8.0</td>\n",
       "      <td>8.0</td>\n",
       "      <td>0.004413</td>\n",
       "    </tr>\n",
       "    <tr>\n",
       "      <th>4</th>\n",
       "      <td>842700.0</td>\n",
       "      <td>2492</td>\n",
       "      <td>\\n          Property Overview - Welcome to thi...</td>\n",
       "      <td>Single Family Home</td>\n",
       "      <td>1974</td>\n",
       "      <td>3</td>\n",
       "      <td>2.0</td>\n",
       "      <td>1476</td>\n",
       "      <td>0.23</td>\n",
       "      <td>11.0</td>\n",
       "      <td>15.0</td>\n",
       "      <td>11.0</td>\n",
       "      <td>12.0</td>\n",
       "      <td>0.013653</td>\n",
       "    </tr>\n",
       "    <tr>\n",
       "      <th>5</th>\n",
       "      <td>300000.0</td>\n",
       "      <td>2467</td>\n",
       "      <td>\\n          Property Overview - This is a grea...</td>\n",
       "      <td>Condo/Townhome/Row Home/Co-Op</td>\n",
       "      <td>1955</td>\n",
       "      <td>2</td>\n",
       "      <td>1.0</td>\n",
       "      <td>780</td>\n",
       "      <td>NaN</td>\n",
       "      <td>12.0</td>\n",
       "      <td>12.0</td>\n",
       "      <td>13.0</td>\n",
       "      <td>9.0</td>\n",
       "      <td>0.014122</td>\n",
       "    </tr>\n",
       "    <tr>\n",
       "      <th>6</th>\n",
       "      <td>840000.0</td>\n",
       "      <td>2130</td>\n",
       "      <td>\\n          Property Overview - This beautiful...</td>\n",
       "      <td>Condo/Townhome/Row Home/Co-Op</td>\n",
       "      <td>1910</td>\n",
       "      <td>3</td>\n",
       "      <td>2.0</td>\n",
       "      <td>1133</td>\n",
       "      <td>1133.00</td>\n",
       "      <td>14.0</td>\n",
       "      <td>11.0</td>\n",
       "      <td>12.0</td>\n",
       "      <td>12.0</td>\n",
       "      <td>0.015632</td>\n",
       "    </tr>\n",
       "    <tr>\n",
       "      <th>7</th>\n",
       "      <td>751000.0</td>\n",
       "      <td>2472</td>\n",
       "      <td>\\n          Property Overview - Immaculate 3 b...</td>\n",
       "      <td>Single Family Home</td>\n",
       "      <td>1950</td>\n",
       "      <td>3</td>\n",
       "      <td>2.5</td>\n",
       "      <td>2003</td>\n",
       "      <td>5000.00</td>\n",
       "      <td>15.0</td>\n",
       "      <td>15.0</td>\n",
       "      <td>11.0</td>\n",
       "      <td>13.0</td>\n",
       "      <td>0.022707</td>\n",
       "    </tr>\n",
       "    <tr>\n",
       "      <th>8</th>\n",
       "      <td>730000.0</td>\n",
       "      <td>1945</td>\n",
       "      <td>\\n          Property Overview - Multiple Offer...</td>\n",
       "      <td>Single Family Home</td>\n",
       "      <td>1935</td>\n",
       "      <td>5</td>\n",
       "      <td>2.5</td>\n",
       "      <td>2967</td>\n",
       "      <td>7565.00</td>\n",
       "      <td>22.0</td>\n",
       "      <td>13.0</td>\n",
       "      <td>23.0</td>\n",
       "      <td>16.0</td>\n",
       "      <td>0.023967</td>\n",
       "    </tr>\n",
       "    <tr>\n",
       "      <th>9</th>\n",
       "      <td>580000.0</td>\n",
       "      <td>2128</td>\n",
       "      <td>\\n          Property Overview - Multiple offer...</td>\n",
       "      <td>Condo/Townhome/Row Home/Co-Op</td>\n",
       "      <td>2012</td>\n",
       "      <td>3</td>\n",
       "      <td>2.0</td>\n",
       "      <td>1417</td>\n",
       "      <td>NaN</td>\n",
       "      <td>15.0</td>\n",
       "      <td>14.0</td>\n",
       "      <td>12.0</td>\n",
       "      <td>17.0</td>\n",
       "      <td>0.025222</td>\n",
       "    </tr>\n",
       "  </tbody>\n",
       "</table>\n",
       "</div>"
      ],
      "text/plain": [
       "   sold.price  zip.code                                           overview  \\\n",
       "0   3000000.0      2108  \\n          Property Overview - Beacon Hill gr...   \n",
       "1   1150000.0      2476  \\n          Property Overview - Quality builde...   \n",
       "2   1095000.0      1890  \\n          Property Overview - This surprisin...   \n",
       "3    689000.0      2118  \\n          Property Overview - Sound End Styl...   \n",
       "4    842700.0      2492  \\n          Property Overview - Welcome to thi...   \n",
       "5    300000.0      2467  \\n          Property Overview - This is a grea...   \n",
       "6    840000.0      2130  \\n          Property Overview - This beautiful...   \n",
       "7    751000.0      2472  \\n          Property Overview - Immaculate 3 b...   \n",
       "8    730000.0      1945  \\n          Property Overview - Multiple Offer...   \n",
       "9    580000.0      2128  \\n          Property Overview - Multiple offer...   \n",
       "\n",
       "                            type  year.built  num.beds  num.baths  \\\n",
       "0  Condo/Townhome/Row Home/Co-Op        1899         2        1.5   \n",
       "1             Single Family Home        1959         4        3.5   \n",
       "2             Single Family Home        1960         4        3.5   \n",
       "3  Condo/Townhome/Row Home/Co-Op        1855         1        1.0   \n",
       "4             Single Family Home        1974         3        2.0   \n",
       "5  Condo/Townhome/Row Home/Co-Op        1955         2        1.0   \n",
       "6  Condo/Townhome/Row Home/Co-Op        1910         3        2.0   \n",
       "7             Single Family Home        1950         3        2.5   \n",
       "8             Single Family Home        1935         5        2.5   \n",
       "9  Condo/Townhome/Row Home/Co-Op        2012         3        2.0   \n",
       "\n",
       "   living.area  lot.area  masterbedroom.length  masterbedroom.width  \\\n",
       "0         2352       NaN                  15.0                 15.0   \n",
       "1         2713   6890.00                  17.0                 11.0   \n",
       "2         2821      0.36                  20.0                 19.0   \n",
       "3          595       NaN                  13.0                 12.0   \n",
       "4         1476      0.23                  11.0                 15.0   \n",
       "5          780       NaN                  12.0                 12.0   \n",
       "6         1133   1133.00                  14.0                 11.0   \n",
       "7         2003   5000.00                  15.0                 15.0   \n",
       "8         2967   7565.00                  22.0                 13.0   \n",
       "9         1417       NaN                  15.0                 14.0   \n",
       "\n",
       "   kitchen.length  kitchen.width      rand  \n",
       "0            12.0           10.0  0.001732  \n",
       "1            25.0           12.0  0.003026  \n",
       "2            25.0           16.0  0.004115  \n",
       "3             8.0            8.0  0.004413  \n",
       "4            11.0           12.0  0.013653  \n",
       "5            13.0            9.0  0.014122  \n",
       "6            12.0           12.0  0.015632  \n",
       "7            11.0           13.0  0.022707  \n",
       "8            23.0           16.0  0.023967  \n",
       "9            12.0           17.0  0.025222  "
      ]
     },
     "execution_count": 2,
     "metadata": {},
     "output_type": "execute_result"
    }
   ],
   "source": [
    "import pandas as pd\n",
    "import numpy as np\n",
    "import matplotlib.pyplot as plt\n",
    "import seaborn as sns\n",
    "sns.set(color_codes=True)\n",
    "df = pd.read_excel(\"../techlabs-elective/realtor.spring.2020.xlsx\")\n",
    "df.head(10)"
   ]
  },
  {
   "cell_type": "code",
   "execution_count": 3,
   "metadata": {},
   "outputs": [
    {
     "data": {
      "text/html": [
       "<div>\n",
       "<style scoped>\n",
       "    .dataframe tbody tr th:only-of-type {\n",
       "        vertical-align: middle;\n",
       "    }\n",
       "\n",
       "    .dataframe tbody tr th {\n",
       "        vertical-align: top;\n",
       "    }\n",
       "\n",
       "    .dataframe thead th {\n",
       "        text-align: right;\n",
       "    }\n",
       "</style>\n",
       "<table border=\"1\" class=\"dataframe\">\n",
       "  <thead>\n",
       "    <tr style=\"text-align: right;\">\n",
       "      <th></th>\n",
       "      <th>sold.price</th>\n",
       "      <th>zip.code</th>\n",
       "      <th>year.built</th>\n",
       "      <th>num.beds</th>\n",
       "      <th>num.baths</th>\n",
       "      <th>living.area</th>\n",
       "      <th>lot.area</th>\n",
       "      <th>masterbedroom.length</th>\n",
       "      <th>masterbedroom.width</th>\n",
       "      <th>kitchen.length</th>\n",
       "      <th>kitchen.width</th>\n",
       "      <th>rand</th>\n",
       "    </tr>\n",
       "  </thead>\n",
       "  <tbody>\n",
       "    <tr>\n",
       "      <th>count</th>\n",
       "      <td>5.500000e+02</td>\n",
       "      <td>566.000000</td>\n",
       "      <td>566.000000</td>\n",
       "      <td>566.000000</td>\n",
       "      <td>566.000000</td>\n",
       "      <td>566.000000</td>\n",
       "      <td>268.000000</td>\n",
       "      <td>566.000000</td>\n",
       "      <td>566.000000</td>\n",
       "      <td>566.000000</td>\n",
       "      <td>566.000000</td>\n",
       "      <td>566.000000</td>\n",
       "    </tr>\n",
       "    <tr>\n",
       "      <th>mean</th>\n",
       "      <td>7.858710e+05</td>\n",
       "      <td>2138.909894</td>\n",
       "      <td>1937.653710</td>\n",
       "      <td>2.660777</td>\n",
       "      <td>1.835689</td>\n",
       "      <td>1551.920495</td>\n",
       "      <td>2680.015410</td>\n",
       "      <td>14.743516</td>\n",
       "      <td>13.141343</td>\n",
       "      <td>13.263198</td>\n",
       "      <td>11.426378</td>\n",
       "      <td>0.516508</td>\n",
       "    </tr>\n",
       "    <tr>\n",
       "      <th>std</th>\n",
       "      <td>5.637090e+05</td>\n",
       "      <td>116.886257</td>\n",
       "      <td>48.165903</td>\n",
       "      <td>1.048277</td>\n",
       "      <td>0.847400</td>\n",
       "      <td>891.972413</td>\n",
       "      <td>2633.832448</td>\n",
       "      <td>3.543703</td>\n",
       "      <td>2.820309</td>\n",
       "      <td>4.083784</td>\n",
       "      <td>3.276509</td>\n",
       "      <td>0.289633</td>\n",
       "    </tr>\n",
       "    <tr>\n",
       "      <th>min</th>\n",
       "      <td>1.600000e+05</td>\n",
       "      <td>1730.000000</td>\n",
       "      <td>1725.000000</td>\n",
       "      <td>1.000000</td>\n",
       "      <td>1.000000</td>\n",
       "      <td>410.000000</td>\n",
       "      <td>0.230000</td>\n",
       "      <td>8.000000</td>\n",
       "      <td>6.000000</td>\n",
       "      <td>5.000000</td>\n",
       "      <td>5.000000</td>\n",
       "      <td>0.001732</td>\n",
       "    </tr>\n",
       "    <tr>\n",
       "      <th>25%</th>\n",
       "      <td>4.900000e+05</td>\n",
       "      <td>2124.000000</td>\n",
       "      <td>1900.000000</td>\n",
       "      <td>2.000000</td>\n",
       "      <td>1.000000</td>\n",
       "      <td>1007.250000</td>\n",
       "      <td>707.000000</td>\n",
       "      <td>12.000000</td>\n",
       "      <td>11.000000</td>\n",
       "      <td>10.000000</td>\n",
       "      <td>9.000000</td>\n",
       "      <td>0.252851</td>\n",
       "    </tr>\n",
       "    <tr>\n",
       "      <th>50%</th>\n",
       "      <td>6.430000e+05</td>\n",
       "      <td>2130.000000</td>\n",
       "      <td>1921.000000</td>\n",
       "      <td>3.000000</td>\n",
       "      <td>2.000000</td>\n",
       "      <td>1297.000000</td>\n",
       "      <td>1299.000000</td>\n",
       "      <td>14.000000</td>\n",
       "      <td>12.415000</td>\n",
       "      <td>13.000000</td>\n",
       "      <td>11.000000</td>\n",
       "      <td>0.529830</td>\n",
       "    </tr>\n",
       "    <tr>\n",
       "      <th>75%</th>\n",
       "      <td>8.400000e+05</td>\n",
       "      <td>2132.000000</td>\n",
       "      <td>1976.750000</td>\n",
       "      <td>3.000000</td>\n",
       "      <td>2.000000</td>\n",
       "      <td>1849.750000</td>\n",
       "      <td>5000.000000</td>\n",
       "      <td>16.000000</td>\n",
       "      <td>14.000000</td>\n",
       "      <td>15.000000</td>\n",
       "      <td>13.000000</td>\n",
       "      <td>0.770276</td>\n",
       "    </tr>\n",
       "    <tr>\n",
       "      <th>max</th>\n",
       "      <td>6.700000e+06</td>\n",
       "      <td>2494.000000</td>\n",
       "      <td>2019.000000</td>\n",
       "      <td>7.000000</td>\n",
       "      <td>6.000000</td>\n",
       "      <td>6537.000000</td>\n",
       "      <td>9583.000000</td>\n",
       "      <td>36.000000</td>\n",
       "      <td>29.000000</td>\n",
       "      <td>34.000000</td>\n",
       "      <td>26.000000</td>\n",
       "      <td>0.997843</td>\n",
       "    </tr>\n",
       "  </tbody>\n",
       "</table>\n",
       "</div>"
      ],
      "text/plain": [
       "         sold.price     zip.code   year.built    num.beds   num.baths  \\\n",
       "count  5.500000e+02   566.000000   566.000000  566.000000  566.000000   \n",
       "mean   7.858710e+05  2138.909894  1937.653710    2.660777    1.835689   \n",
       "std    5.637090e+05   116.886257    48.165903    1.048277    0.847400   \n",
       "min    1.600000e+05  1730.000000  1725.000000    1.000000    1.000000   \n",
       "25%    4.900000e+05  2124.000000  1900.000000    2.000000    1.000000   \n",
       "50%    6.430000e+05  2130.000000  1921.000000    3.000000    2.000000   \n",
       "75%    8.400000e+05  2132.000000  1976.750000    3.000000    2.000000   \n",
       "max    6.700000e+06  2494.000000  2019.000000    7.000000    6.000000   \n",
       "\n",
       "       living.area     lot.area  masterbedroom.length  masterbedroom.width  \\\n",
       "count   566.000000   268.000000            566.000000           566.000000   \n",
       "mean   1551.920495  2680.015410             14.743516            13.141343   \n",
       "std     891.972413  2633.832448              3.543703             2.820309   \n",
       "min     410.000000     0.230000              8.000000             6.000000   \n",
       "25%    1007.250000   707.000000             12.000000            11.000000   \n",
       "50%    1297.000000  1299.000000             14.000000            12.415000   \n",
       "75%    1849.750000  5000.000000             16.000000            14.000000   \n",
       "max    6537.000000  9583.000000             36.000000            29.000000   \n",
       "\n",
       "       kitchen.length  kitchen.width        rand  \n",
       "count      566.000000     566.000000  566.000000  \n",
       "mean        13.263198      11.426378    0.516508  \n",
       "std          4.083784       3.276509    0.289633  \n",
       "min          5.000000       5.000000    0.001732  \n",
       "25%         10.000000       9.000000    0.252851  \n",
       "50%         13.000000      11.000000    0.529830  \n",
       "75%         15.000000      13.000000    0.770276  \n",
       "max         34.000000      26.000000    0.997843  "
      ]
     },
     "execution_count": 3,
     "metadata": {},
     "output_type": "execute_result"
    }
   ],
   "source": [
    "df.describe()\n"
   ]
  },
  {
   "cell_type": "code",
   "execution_count": 4,
   "metadata": {},
   "outputs": [
    {
     "name": "stdout",
     "output_type": "stream",
     "text": [
      "<class 'pandas.core.frame.DataFrame'>\n",
      "RangeIndex: 566 entries, 0 to 565\n",
      "Data columns (total 14 columns):\n",
      " #   Column                Non-Null Count  Dtype  \n",
      "---  ------                --------------  -----  \n",
      " 0   sold.price            550 non-null    float64\n",
      " 1   zip.code              566 non-null    int64  \n",
      " 2   overview              566 non-null    object \n",
      " 3   type                  566 non-null    object \n",
      " 4   year.built            566 non-null    int64  \n",
      " 5   num.beds              566 non-null    int64  \n",
      " 6   num.baths             566 non-null    float64\n",
      " 7   living.area           566 non-null    int64  \n",
      " 8   lot.area              268 non-null    float64\n",
      " 9   masterbedroom.length  566 non-null    float64\n",
      " 10  masterbedroom.width   566 non-null    float64\n",
      " 11  kitchen.length        566 non-null    float64\n",
      " 12  kitchen.width         566 non-null    float64\n",
      " 13  rand                  566 non-null    float64\n",
      "dtypes: float64(8), int64(4), object(2)\n",
      "memory usage: 62.0+ KB\n"
     ]
    }
   ],
   "source": [
    "df.info()"
   ]
  },
  {
   "cell_type": "code",
   "execution_count": 5,
   "metadata": {
    "scrolled": true
   },
   "outputs": [
    {
     "data": {
      "text/html": [
       "<div>\n",
       "<style scoped>\n",
       "    .dataframe tbody tr th:only-of-type {\n",
       "        vertical-align: middle;\n",
       "    }\n",
       "\n",
       "    .dataframe tbody tr th {\n",
       "        vertical-align: top;\n",
       "    }\n",
       "\n",
       "    .dataframe thead th {\n",
       "        text-align: right;\n",
       "    }\n",
       "</style>\n",
       "<table border=\"1\" class=\"dataframe\">\n",
       "  <thead>\n",
       "    <tr style=\"text-align: right;\">\n",
       "      <th></th>\n",
       "      <th>sold.price</th>\n",
       "      <th>zip.code</th>\n",
       "      <th>year.built</th>\n",
       "      <th>num.beds</th>\n",
       "      <th>num.baths</th>\n",
       "      <th>living.area</th>\n",
       "      <th>lot.area</th>\n",
       "      <th>masterbedroom.length</th>\n",
       "      <th>masterbedroom.width</th>\n",
       "      <th>kitchen.length</th>\n",
       "      <th>kitchen.width</th>\n",
       "      <th>rand</th>\n",
       "    </tr>\n",
       "  </thead>\n",
       "  <tbody>\n",
       "    <tr>\n",
       "      <th>sold.price</th>\n",
       "      <td>1.000000</td>\n",
       "      <td>0.105761</td>\n",
       "      <td>-0.038248</td>\n",
       "      <td>0.365549</td>\n",
       "      <td>0.586637</td>\n",
       "      <td>0.608972</td>\n",
       "      <td>-0.136665</td>\n",
       "      <td>0.272642</td>\n",
       "      <td>0.364221</td>\n",
       "      <td>0.142907</td>\n",
       "      <td>0.123579</td>\n",
       "      <td>0.040459</td>\n",
       "    </tr>\n",
       "    <tr>\n",
       "      <th>zip.code</th>\n",
       "      <td>0.105761</td>\n",
       "      <td>1.000000</td>\n",
       "      <td>-0.001838</td>\n",
       "      <td>0.093165</td>\n",
       "      <td>0.135127</td>\n",
       "      <td>0.133452</td>\n",
       "      <td>0.001942</td>\n",
       "      <td>0.088436</td>\n",
       "      <td>0.082734</td>\n",
       "      <td>0.037911</td>\n",
       "      <td>-0.001571</td>\n",
       "      <td>-0.061418</td>\n",
       "    </tr>\n",
       "    <tr>\n",
       "      <th>year.built</th>\n",
       "      <td>-0.038248</td>\n",
       "      <td>-0.001838</td>\n",
       "      <td>1.000000</td>\n",
       "      <td>0.016493</td>\n",
       "      <td>0.213447</td>\n",
       "      <td>0.118654</td>\n",
       "      <td>-0.033867</td>\n",
       "      <td>0.097843</td>\n",
       "      <td>0.144678</td>\n",
       "      <td>-0.012121</td>\n",
       "      <td>0.073516</td>\n",
       "      <td>0.003257</td>\n",
       "    </tr>\n",
       "    <tr>\n",
       "      <th>num.beds</th>\n",
       "      <td>0.365549</td>\n",
       "      <td>0.093165</td>\n",
       "      <td>0.016493</td>\n",
       "      <td>1.000000</td>\n",
       "      <td>0.630515</td>\n",
       "      <td>0.779764</td>\n",
       "      <td>0.234472</td>\n",
       "      <td>0.236122</td>\n",
       "      <td>0.287139</td>\n",
       "      <td>0.307283</td>\n",
       "      <td>0.311860</td>\n",
       "      <td>-0.023947</td>\n",
       "    </tr>\n",
       "    <tr>\n",
       "      <th>num.baths</th>\n",
       "      <td>0.586637</td>\n",
       "      <td>0.135127</td>\n",
       "      <td>0.213447</td>\n",
       "      <td>0.630515</td>\n",
       "      <td>1.000000</td>\n",
       "      <td>0.806117</td>\n",
       "      <td>-0.050603</td>\n",
       "      <td>0.346406</td>\n",
       "      <td>0.406436</td>\n",
       "      <td>0.311682</td>\n",
       "      <td>0.313565</td>\n",
       "      <td>0.031538</td>\n",
       "    </tr>\n",
       "    <tr>\n",
       "      <th>living.area</th>\n",
       "      <td>0.608972</td>\n",
       "      <td>0.133452</td>\n",
       "      <td>0.118654</td>\n",
       "      <td>0.779764</td>\n",
       "      <td>0.806117</td>\n",
       "      <td>1.000000</td>\n",
       "      <td>0.006187</td>\n",
       "      <td>0.407422</td>\n",
       "      <td>0.473938</td>\n",
       "      <td>0.376574</td>\n",
       "      <td>0.376289</td>\n",
       "      <td>0.009879</td>\n",
       "    </tr>\n",
       "    <tr>\n",
       "      <th>lot.area</th>\n",
       "      <td>-0.136665</td>\n",
       "      <td>0.001942</td>\n",
       "      <td>-0.033867</td>\n",
       "      <td>0.234472</td>\n",
       "      <td>-0.050603</td>\n",
       "      <td>0.006187</td>\n",
       "      <td>1.000000</td>\n",
       "      <td>-0.030497</td>\n",
       "      <td>-0.064725</td>\n",
       "      <td>-0.033112</td>\n",
       "      <td>0.062658</td>\n",
       "      <td>0.099040</td>\n",
       "    </tr>\n",
       "    <tr>\n",
       "      <th>masterbedroom.length</th>\n",
       "      <td>0.272642</td>\n",
       "      <td>0.088436</td>\n",
       "      <td>0.097843</td>\n",
       "      <td>0.236122</td>\n",
       "      <td>0.346406</td>\n",
       "      <td>0.407422</td>\n",
       "      <td>-0.030497</td>\n",
       "      <td>1.000000</td>\n",
       "      <td>0.143000</td>\n",
       "      <td>0.225887</td>\n",
       "      <td>0.158815</td>\n",
       "      <td>0.042012</td>\n",
       "    </tr>\n",
       "    <tr>\n",
       "      <th>masterbedroom.width</th>\n",
       "      <td>0.364221</td>\n",
       "      <td>0.082734</td>\n",
       "      <td>0.144678</td>\n",
       "      <td>0.287139</td>\n",
       "      <td>0.406436</td>\n",
       "      <td>0.473938</td>\n",
       "      <td>-0.064725</td>\n",
       "      <td>0.143000</td>\n",
       "      <td>1.000000</td>\n",
       "      <td>0.103536</td>\n",
       "      <td>0.219367</td>\n",
       "      <td>0.014108</td>\n",
       "    </tr>\n",
       "    <tr>\n",
       "      <th>kitchen.length</th>\n",
       "      <td>0.142907</td>\n",
       "      <td>0.037911</td>\n",
       "      <td>-0.012121</td>\n",
       "      <td>0.307283</td>\n",
       "      <td>0.311682</td>\n",
       "      <td>0.376574</td>\n",
       "      <td>-0.033112</td>\n",
       "      <td>0.225887</td>\n",
       "      <td>0.103536</td>\n",
       "      <td>1.000000</td>\n",
       "      <td>0.323506</td>\n",
       "      <td>-0.061353</td>\n",
       "    </tr>\n",
       "    <tr>\n",
       "      <th>kitchen.width</th>\n",
       "      <td>0.123579</td>\n",
       "      <td>-0.001571</td>\n",
       "      <td>0.073516</td>\n",
       "      <td>0.311860</td>\n",
       "      <td>0.313565</td>\n",
       "      <td>0.376289</td>\n",
       "      <td>0.062658</td>\n",
       "      <td>0.158815</td>\n",
       "      <td>0.219367</td>\n",
       "      <td>0.323506</td>\n",
       "      <td>1.000000</td>\n",
       "      <td>-0.015092</td>\n",
       "    </tr>\n",
       "    <tr>\n",
       "      <th>rand</th>\n",
       "      <td>0.040459</td>\n",
       "      <td>-0.061418</td>\n",
       "      <td>0.003257</td>\n",
       "      <td>-0.023947</td>\n",
       "      <td>0.031538</td>\n",
       "      <td>0.009879</td>\n",
       "      <td>0.099040</td>\n",
       "      <td>0.042012</td>\n",
       "      <td>0.014108</td>\n",
       "      <td>-0.061353</td>\n",
       "      <td>-0.015092</td>\n",
       "      <td>1.000000</td>\n",
       "    </tr>\n",
       "  </tbody>\n",
       "</table>\n",
       "</div>"
      ],
      "text/plain": [
       "                      sold.price  zip.code  year.built  num.beds  num.baths  \\\n",
       "sold.price              1.000000  0.105761   -0.038248  0.365549   0.586637   \n",
       "zip.code                0.105761  1.000000   -0.001838  0.093165   0.135127   \n",
       "year.built             -0.038248 -0.001838    1.000000  0.016493   0.213447   \n",
       "num.beds                0.365549  0.093165    0.016493  1.000000   0.630515   \n",
       "num.baths               0.586637  0.135127    0.213447  0.630515   1.000000   \n",
       "living.area             0.608972  0.133452    0.118654  0.779764   0.806117   \n",
       "lot.area               -0.136665  0.001942   -0.033867  0.234472  -0.050603   \n",
       "masterbedroom.length    0.272642  0.088436    0.097843  0.236122   0.346406   \n",
       "masterbedroom.width     0.364221  0.082734    0.144678  0.287139   0.406436   \n",
       "kitchen.length          0.142907  0.037911   -0.012121  0.307283   0.311682   \n",
       "kitchen.width           0.123579 -0.001571    0.073516  0.311860   0.313565   \n",
       "rand                    0.040459 -0.061418    0.003257 -0.023947   0.031538   \n",
       "\n",
       "                      living.area  lot.area  masterbedroom.length  \\\n",
       "sold.price               0.608972 -0.136665              0.272642   \n",
       "zip.code                 0.133452  0.001942              0.088436   \n",
       "year.built               0.118654 -0.033867              0.097843   \n",
       "num.beds                 0.779764  0.234472              0.236122   \n",
       "num.baths                0.806117 -0.050603              0.346406   \n",
       "living.area              1.000000  0.006187              0.407422   \n",
       "lot.area                 0.006187  1.000000             -0.030497   \n",
       "masterbedroom.length     0.407422 -0.030497              1.000000   \n",
       "masterbedroom.width      0.473938 -0.064725              0.143000   \n",
       "kitchen.length           0.376574 -0.033112              0.225887   \n",
       "kitchen.width            0.376289  0.062658              0.158815   \n",
       "rand                     0.009879  0.099040              0.042012   \n",
       "\n",
       "                      masterbedroom.width  kitchen.length  kitchen.width  \\\n",
       "sold.price                       0.364221        0.142907       0.123579   \n",
       "zip.code                         0.082734        0.037911      -0.001571   \n",
       "year.built                       0.144678       -0.012121       0.073516   \n",
       "num.beds                         0.287139        0.307283       0.311860   \n",
       "num.baths                        0.406436        0.311682       0.313565   \n",
       "living.area                      0.473938        0.376574       0.376289   \n",
       "lot.area                        -0.064725       -0.033112       0.062658   \n",
       "masterbedroom.length             0.143000        0.225887       0.158815   \n",
       "masterbedroom.width              1.000000        0.103536       0.219367   \n",
       "kitchen.length                   0.103536        1.000000       0.323506   \n",
       "kitchen.width                    0.219367        0.323506       1.000000   \n",
       "rand                             0.014108       -0.061353      -0.015092   \n",
       "\n",
       "                          rand  \n",
       "sold.price            0.040459  \n",
       "zip.code             -0.061418  \n",
       "year.built            0.003257  \n",
       "num.beds             -0.023947  \n",
       "num.baths             0.031538  \n",
       "living.area           0.009879  \n",
       "lot.area              0.099040  \n",
       "masterbedroom.length  0.042012  \n",
       "masterbedroom.width   0.014108  \n",
       "kitchen.length       -0.061353  \n",
       "kitchen.width        -0.015092  \n",
       "rand                  1.000000  "
      ]
     },
     "execution_count": 5,
     "metadata": {},
     "output_type": "execute_result"
    }
   ],
   "source": [
    "df.corr()\n"
   ]
  },
  {
   "cell_type": "code",
   "execution_count": 6,
   "metadata": {},
   "outputs": [
    {
     "data": {
      "text/html": [
       "<div>\n",
       "<style scoped>\n",
       "    .dataframe tbody tr th:only-of-type {\n",
       "        vertical-align: middle;\n",
       "    }\n",
       "\n",
       "    .dataframe tbody tr th {\n",
       "        vertical-align: top;\n",
       "    }\n",
       "\n",
       "    .dataframe thead th {\n",
       "        text-align: right;\n",
       "    }\n",
       "</style>\n",
       "<table border=\"1\" class=\"dataframe\">\n",
       "  <thead>\n",
       "    <tr style=\"text-align: right;\">\n",
       "      <th></th>\n",
       "      <th>sold.price</th>\n",
       "      <th>zip.code</th>\n",
       "      <th>overview</th>\n",
       "      <th>type</th>\n",
       "      <th>year.built</th>\n",
       "      <th>num.beds</th>\n",
       "      <th>num.baths</th>\n",
       "      <th>living.area</th>\n",
       "    </tr>\n",
       "  </thead>\n",
       "  <tbody>\n",
       "    <tr>\n",
       "      <th>0</th>\n",
       "      <td>3000000.0</td>\n",
       "      <td>2108</td>\n",
       "      <td>\\n          Property Overview - Beacon Hill gr...</td>\n",
       "      <td>Condo/Townhome/Row Home/Co-Op</td>\n",
       "      <td>1899</td>\n",
       "      <td>2</td>\n",
       "      <td>1.5</td>\n",
       "      <td>2352</td>\n",
       "    </tr>\n",
       "    <tr>\n",
       "      <th>1</th>\n",
       "      <td>1150000.0</td>\n",
       "      <td>2476</td>\n",
       "      <td>\\n          Property Overview - Quality builde...</td>\n",
       "      <td>Single Family Home</td>\n",
       "      <td>1959</td>\n",
       "      <td>4</td>\n",
       "      <td>3.5</td>\n",
       "      <td>2713</td>\n",
       "    </tr>\n",
       "    <tr>\n",
       "      <th>2</th>\n",
       "      <td>1095000.0</td>\n",
       "      <td>1890</td>\n",
       "      <td>\\n          Property Overview - This surprisin...</td>\n",
       "      <td>Single Family Home</td>\n",
       "      <td>1960</td>\n",
       "      <td>4</td>\n",
       "      <td>3.5</td>\n",
       "      <td>2821</td>\n",
       "    </tr>\n",
       "    <tr>\n",
       "      <th>3</th>\n",
       "      <td>689000.0</td>\n",
       "      <td>2118</td>\n",
       "      <td>\\n          Property Overview - Sound End Styl...</td>\n",
       "      <td>Condo/Townhome/Row Home/Co-Op</td>\n",
       "      <td>1855</td>\n",
       "      <td>1</td>\n",
       "      <td>1.0</td>\n",
       "      <td>595</td>\n",
       "    </tr>\n",
       "    <tr>\n",
       "      <th>4</th>\n",
       "      <td>842700.0</td>\n",
       "      <td>2492</td>\n",
       "      <td>\\n          Property Overview - Welcome to thi...</td>\n",
       "      <td>Single Family Home</td>\n",
       "      <td>1974</td>\n",
       "      <td>3</td>\n",
       "      <td>2.0</td>\n",
       "      <td>1476</td>\n",
       "    </tr>\n",
       "  </tbody>\n",
       "</table>\n",
       "</div>"
      ],
      "text/plain": [
       "   sold.price  zip.code                                           overview  \\\n",
       "0   3000000.0      2108  \\n          Property Overview - Beacon Hill gr...   \n",
       "1   1150000.0      2476  \\n          Property Overview - Quality builde...   \n",
       "2   1095000.0      1890  \\n          Property Overview - This surprisin...   \n",
       "3    689000.0      2118  \\n          Property Overview - Sound End Styl...   \n",
       "4    842700.0      2492  \\n          Property Overview - Welcome to thi...   \n",
       "\n",
       "                            type  year.built  num.beds  num.baths  living.area  \n",
       "0  Condo/Townhome/Row Home/Co-Op        1899         2        1.5         2352  \n",
       "1             Single Family Home        1959         4        3.5         2713  \n",
       "2             Single Family Home        1960         4        3.5         2821  \n",
       "3  Condo/Townhome/Row Home/Co-Op        1855         1        1.0          595  \n",
       "4             Single Family Home        1974         3        2.0         1476  "
      ]
     },
     "execution_count": 6,
     "metadata": {},
     "output_type": "execute_result"
    }
   ],
   "source": [
    "df.drop(df.columns[[ 8,9, 10,11,12,13]], axis=1, inplace=True)\n",
    "df.head()"
   ]
  },
  {
   "cell_type": "code",
   "execution_count": 7,
   "metadata": {},
   "outputs": [],
   "source": [
    "df['sold.price'] = df['sold.price'].fillna((df['sold.price'].mean()))"
   ]
  },
  {
   "cell_type": "code",
   "execution_count": 8,
   "metadata": {},
   "outputs": [
    {
     "data": {
      "text/plain": [
       "sold.price                                                785871\n",
       "zip.code                                                    2134\n",
       "overview       \\n          Property Overview - Welcome to the...\n",
       "type                               Condo/Townhome/Row Home/Co-Op\n",
       "year.built                                                  1989\n",
       "num.beds                                                       1\n",
       "num.baths                                                      1\n",
       "living.area                                                  771\n",
       "Name: 115, dtype: object"
      ]
     },
     "execution_count": 8,
     "metadata": {},
     "output_type": "execute_result"
    }
   ],
   "source": [
    "df.iloc[115]"
   ]
  },
  {
   "cell_type": "code",
   "execution_count": 9,
   "metadata": {},
   "outputs": [],
   "source": [
    "heatmap1_data = pd.pivot_table(df, values='sold.price', \n",
    "                     index=['num.baths'], \n",
    "                     columns='living.area')"
   ]
  },
  {
   "cell_type": "code",
   "execution_count": 10,
   "metadata": {},
   "outputs": [
    {
     "data": {
      "text/plain": [
       "<matplotlib.axes._subplots.AxesSubplot at 0x103063250>"
      ]
     },
     "execution_count": 10,
     "metadata": {},
     "output_type": "execute_result"
    },
    {
     "data": {
      "image/png": "[encoded data removed]",
      "text/plain": [
       "<Figure size 432x288 with 2 Axes>"
      ]
     },
     "metadata": {},
     "output_type": "display_data"
    }
   ],
   "source": [
    "sns.heatmap(heatmap1_data, cmap=\"YlGnBu\")"
   ]
  },
  {
   "cell_type": "code",
   "execution_count": 11,
   "metadata": {},
   "outputs": [
    {
     "data": {
      "text/plain": [
       "<matplotlib.axes._subplots.AxesSubplot at 0x11727fbe0>"
      ]
     },
     "execution_count": 11,
     "metadata": {},
     "output_type": "execute_result"
    },
    {
     "data": {
      "image/png": "[encoded data removed]",
      "text/plain": [
       "<Figure size 432x288 with 1 Axes>"
      ]
     },
     "metadata": {},
     "output_type": "display_data"
    }
   ],
   "source": [
    "sns.distplot(df['zip.code'])"
   ]
  },
  {
   "cell_type": "code",
   "execution_count": 12,
   "metadata": {},
   "outputs": [
    {
     "data": {
      "text/plain": [
       "<matplotlib.axes._subplots.AxesSubplot at 0x1174d1730>"
      ]
     },
     "execution_count": 12,
     "metadata": {},
     "output_type": "execute_result"
    },
    {
     "data": {
      "image/png": "[encoded data removed]",
      "text/plain": [
       "<Figure size 432x288 with 1 Axes>"
      ]
     },
     "metadata": {},
     "output_type": "display_data"
    }
   ],
   "source": [
    "sns.distplot(df['num.baths'])"
   ]
  },
  {
   "cell_type": "code",
   "execution_count": 13,
   "metadata": {},
   "outputs": [
    {
     "data": {
      "text/plain": [
       "(array([415., 112.,  24.,   6.,   2.,   6.,   0.,   0.,   0.,   1.]),\n",
       " array([ 160000.,  814000., 1468000., 2122000., 2776000., 3430000.,\n",
       "        4084000., 4738000., 5392000., 6046000., 6700000.]),\n",
       " <a list of 10 Patch objects>)"
      ]
     },
     "execution_count": 13,
     "metadata": {},
     "output_type": "execute_result"
    },
    {
     "data": {
      "image/png": "[encoded data removed]",
      "text/plain": [
       "<Figure size 432x288 with 1 Axes>"
      ]
     },
     "metadata": {},
     "output_type": "display_data"
    }
   ],
   "source": [
    "plt.hist(df[\"sold.price\"].dropna())"
   ]
  },
  {
   "cell_type": "code",
   "execution_count": 14,
   "metadata": {},
   "outputs": [
    {
     "ename": "TypeError",
     "evalue": "'>' not supported between instances of 'str' and 'int'",
     "output_type": "error",
     "traceback": [
      "\u001b[0;31m---------------------------------------------------------------------------\u001b[0m",
      "\u001b[0;31mTypeError\u001b[0m                                 Traceback (most recent call last)",
      "\u001b[0;32m<ipython-input-14-df89a9fee351>\u001b[0m in \u001b[0;36m<module>\u001b[0;34m\u001b[0m\n\u001b[0;32m----> 1\u001b[0;31m \u001b[0mdf\u001b[0m\u001b[0;34m.\u001b[0m\u001b[0mtype\u001b[0m \u001b[0;34m>\u001b[0m \u001b[0;36m0\u001b[0m\u001b[0;34m\u001b[0m\u001b[0;34m\u001b[0m\u001b[0m\n\u001b[0m",
      "\u001b[0;32m/opt/anaconda3/lib/python3.8/site-packages/pandas/core/ops/common.py\u001b[0m in \u001b[0;36mnew_method\u001b[0;34m(self, other)\u001b[0m\n\u001b[1;32m     62\u001b[0m         \u001b[0mother\u001b[0m \u001b[0;34m=\u001b[0m \u001b[0mitem_from_zerodim\u001b[0m\u001b[0;34m(\u001b[0m\u001b[0mother\u001b[0m\u001b[0;34m)\u001b[0m\u001b[0;34m\u001b[0m\u001b[0;34m\u001b[0m\u001b[0m\n\u001b[1;32m     63\u001b[0m \u001b[0;34m\u001b[0m\u001b[0m\n\u001b[0;32m---> 64\u001b[0;31m         \u001b[0;32mreturn\u001b[0m \u001b[0mmethod\u001b[0m\u001b[0;34m(\u001b[0m\u001b[0mself\u001b[0m\u001b[0;34m,\u001b[0m \u001b[0mother\u001b[0m\u001b[0;34m)\u001b[0m\u001b[0;34m\u001b[0m\u001b[0;34m\u001b[0m\u001b[0m\n\u001b[0m\u001b[1;32m     65\u001b[0m \u001b[0;34m\u001b[0m\u001b[0m\n\u001b[1;32m     66\u001b[0m     \u001b[0;32mreturn\u001b[0m \u001b[0mnew_method\u001b[0m\u001b[0;34m\u001b[0m\u001b[0;34m\u001b[0m\u001b[0m\n",
      "\u001b[0;32m/opt/anaconda3/lib/python3.8/site-packages/pandas/core/ops/__init__.py\u001b[0m in \u001b[0;36mwrapper\u001b[0;34m(self, other)\u001b[0m\n\u001b[1;32m    527\u001b[0m         \u001b[0mrvalues\u001b[0m \u001b[0;34m=\u001b[0m \u001b[0mextract_array\u001b[0m\u001b[0;34m(\u001b[0m\u001b[0mother\u001b[0m\u001b[0;34m,\u001b[0m \u001b[0mextract_numpy\u001b[0m\u001b[0;34m=\u001b[0m\u001b[0;32mTrue\u001b[0m\u001b[0;34m)\u001b[0m\u001b[0;34m\u001b[0m\u001b[0;34m\u001b[0m\u001b[0m\n\u001b[1;32m    528\u001b[0m \u001b[0;34m\u001b[0m\u001b[0m\n\u001b[0;32m--> 529\u001b[0;31m         \u001b[0mres_values\u001b[0m \u001b[0;34m=\u001b[0m \u001b[0mcomparison_op\u001b[0m\u001b[0;34m(\u001b[0m\u001b[0mlvalues\u001b[0m\u001b[0;34m,\u001b[0m \u001b[0mrvalues\u001b[0m\u001b[0;34m,\u001b[0m \u001b[0mop\u001b[0m\u001b[0;34m)\u001b[0m\u001b[0;34m\u001b[0m\u001b[0;34m\u001b[0m\u001b[0m\n\u001b[0m\u001b[1;32m    530\u001b[0m \u001b[0;34m\u001b[0m\u001b[0m\n\u001b[1;32m    531\u001b[0m         \u001b[0;32mreturn\u001b[0m \u001b[0m_construct_result\u001b[0m\u001b[0;34m(\u001b[0m\u001b[0mself\u001b[0m\u001b[0;34m,\u001b[0m \u001b[0mres_values\u001b[0m\u001b[0;34m,\u001b[0m \u001b[0mindex\u001b[0m\u001b[0;34m=\u001b[0m\u001b[0mself\u001b[0m\u001b[0;34m.\u001b[0m\u001b[0mindex\u001b[0m\u001b[0;34m,\u001b[0m \u001b[0mname\u001b[0m\u001b[0;34m=\u001b[0m\u001b[0mres_name\u001b[0m\u001b[0;34m)\u001b[0m\u001b[0;34m\u001b[0m\u001b[0;34m\u001b[0m\u001b[0m\n",
      "\u001b[0;32m/opt/anaconda3/lib/python3.8/site-packages/pandas/core/ops/array_ops.py\u001b[0m in \u001b[0;36mcomparison_op\u001b[0;34m(left, right, op)\u001b[0m\n\u001b[1;32m    245\u001b[0m \u001b[0;34m\u001b[0m\u001b[0m\n\u001b[1;32m    246\u001b[0m     \u001b[0;32melif\u001b[0m \u001b[0mis_object_dtype\u001b[0m\u001b[0;34m(\u001b[0m\u001b[0mlvalues\u001b[0m\u001b[0;34m.\u001b[0m\u001b[0mdtype\u001b[0m\u001b[0;34m)\u001b[0m\u001b[0;34m:\u001b[0m\u001b[0;34m\u001b[0m\u001b[0;34m\u001b[0m\u001b[0m\n\u001b[0;32m--> 247\u001b[0;31m         \u001b[0mres_values\u001b[0m \u001b[0;34m=\u001b[0m \u001b[0mcomp_method_OBJECT_ARRAY\u001b[0m\u001b[0;34m(\u001b[0m\u001b[0mop\u001b[0m\u001b[0;34m,\u001b[0m \u001b[0mlvalues\u001b[0m\u001b[0;34m,\u001b[0m \u001b[0mrvalues\u001b[0m\u001b[0;34m)\u001b[0m\u001b[0;34m\u001b[0m\u001b[0;34m\u001b[0m\u001b[0m\n\u001b[0m\u001b[1;32m    248\u001b[0m \u001b[0;34m\u001b[0m\u001b[0m\n\u001b[1;32m    249\u001b[0m     \u001b[0;32melse\u001b[0m\u001b[0;34m:\u001b[0m\u001b[0;34m\u001b[0m\u001b[0;34m\u001b[0m\u001b[0m\n",
      "\u001b[0;32m/opt/anaconda3/lib/python3.8/site-packages/pandas/core/ops/array_ops.py\u001b[0m in \u001b[0;36mcomp_method_OBJECT_ARRAY\u001b[0;34m(op, x, y)\u001b[0m\n\u001b[1;32m     55\u001b[0m         \u001b[0mresult\u001b[0m \u001b[0;34m=\u001b[0m \u001b[0mlibops\u001b[0m\u001b[0;34m.\u001b[0m\u001b[0mvec_compare\u001b[0m\u001b[0;34m(\u001b[0m\u001b[0mx\u001b[0m\u001b[0;34m.\u001b[0m\u001b[0mravel\u001b[0m\u001b[0;34m(\u001b[0m\u001b[0;34m)\u001b[0m\u001b[0;34m,\u001b[0m \u001b[0my\u001b[0m\u001b[0;34m,\u001b[0m \u001b[0mop\u001b[0m\u001b[0;34m)\u001b[0m\u001b[0;34m\u001b[0m\u001b[0;34m\u001b[0m\u001b[0m\n\u001b[1;32m     56\u001b[0m     \u001b[0;32melse\u001b[0m\u001b[0;34m:\u001b[0m\u001b[0;34m\u001b[0m\u001b[0;34m\u001b[0m\u001b[0m\n\u001b[0;32m---> 57\u001b[0;31m         \u001b[0mresult\u001b[0m \u001b[0;34m=\u001b[0m \u001b[0mlibops\u001b[0m\u001b[0;34m.\u001b[0m\u001b[0mscalar_compare\u001b[0m\u001b[0;34m(\u001b[0m\u001b[0mx\u001b[0m\u001b[0;34m.\u001b[0m\u001b[0mravel\u001b[0m\u001b[0;34m(\u001b[0m\u001b[0;34m)\u001b[0m\u001b[0;34m,\u001b[0m \u001b[0my\u001b[0m\u001b[0;34m,\u001b[0m \u001b[0mop\u001b[0m\u001b[0;34m)\u001b[0m\u001b[0;34m\u001b[0m\u001b[0;34m\u001b[0m\u001b[0m\n\u001b[0m\u001b[1;32m     58\u001b[0m     \u001b[0;32mreturn\u001b[0m \u001b[0mresult\u001b[0m\u001b[0;34m.\u001b[0m\u001b[0mreshape\u001b[0m\u001b[0;34m(\u001b[0m\u001b[0mx\u001b[0m\u001b[0;34m.\u001b[0m\u001b[0mshape\u001b[0m\u001b[0;34m)\u001b[0m\u001b[0;34m\u001b[0m\u001b[0;34m\u001b[0m\u001b[0m\n\u001b[1;32m     59\u001b[0m \u001b[0;34m\u001b[0m\u001b[0m\n",
      "\u001b[0;32mpandas/_libs/ops.pyx\u001b[0m in \u001b[0;36mpandas._libs.ops.scalar_compare\u001b[0;34m()\u001b[0m\n",
      "\u001b[0;31mTypeError\u001b[0m: '>' not supported between instances of 'str' and 'int'"
     ]
    }
   ],
   "source": [
    "df.type > 0"
   ]
  },
  {
   "cell_type": "code",
   "execution_count": 15,
   "metadata": {},
   "outputs": [
    {
     "name": "stdout",
     "output_type": "stream",
     "text": [
      "<class 'pandas.core.frame.DataFrame'>\n",
      "RangeIndex: 566 entries, 0 to 565\n",
      "Data columns (total 8 columns):\n",
      " #   Column       Non-Null Count  Dtype  \n",
      "---  ------       --------------  -----  \n",
      " 0   sold.price   566 non-null    float64\n",
      " 1   zip.code     566 non-null    int64  \n",
      " 2   overview     566 non-null    object \n",
      " 3   type         566 non-null    object \n",
      " 4   year.built   566 non-null    int64  \n",
      " 5   num.beds     566 non-null    int64  \n",
      " 6   num.baths    566 non-null    float64\n",
      " 7   living.area  566 non-null    int64  \n",
      "dtypes: float64(2), int64(4), object(2)\n",
      "memory usage: 35.5+ KB\n"
     ]
    }
   ],
   "source": [
    "df.info()\n"
   ]
  },
  {
   "cell_type": "code",
   "execution_count": 16,
   "metadata": {},
   "outputs": [
    {
     "data": {
      "text/plain": [
       "<matplotlib.axes._subplots.AxesSubplot at 0x1174d1070>"
      ]
     },
     "execution_count": 16,
     "metadata": {},
     "output_type": "execute_result"
    },
    {
     "data": {
      "image/png": "[encoded data removed]",
      "text/plain": [
       "<Figure size 432x288 with 1 Axes>"
      ]
     },
     "metadata": {},
     "output_type": "display_data"
    }
   ],
   "source": [
    "sns.distplot(df['sold.price'])"
   ]
  },
  {
   "cell_type": "code",
   "execution_count": 17,
   "metadata": {},
   "outputs": [
    {
     "data": {
      "text/plain": [
       "count    5.660000e+02\n",
       "mean     7.858710e+05\n",
       "std      5.556699e+05\n",
       "min      1.600000e+05\n",
       "25%      4.950000e+05\n",
       "50%      6.500000e+05\n",
       "75%      8.290000e+05\n",
       "max      6.700000e+06\n",
       "Name: sold.price, dtype: float64"
      ]
     },
     "execution_count": 17,
     "metadata": {},
     "output_type": "execute_result"
    }
   ],
   "source": [
    "df['sold.price'].describe()"
   ]
  },
  {
   "cell_type": "code",
   "execution_count": 18,
   "metadata": {},
   "outputs": [
    {
     "ename": "AttributeError",
     "evalue": "'DataFrame' object has no attribute 'sold'",
     "output_type": "error",
     "traceback": [
      "\u001b[0;31m---------------------------------------------------------------------------\u001b[0m",
      "\u001b[0;31mAttributeError\u001b[0m                            Traceback (most recent call last)",
      "\u001b[0;32m<ipython-input-18-6a380fb77635>\u001b[0m in \u001b[0;36m<module>\u001b[0;34m\u001b[0m\n\u001b[0;32m----> 1\u001b[0;31m \u001b[0mdf\u001b[0m\u001b[0;34m.\u001b[0m\u001b[0msold\u001b[0m\u001b[0;34m.\u001b[0m\u001b[0mprice\u001b[0m\u001b[0;34m.\u001b[0m\u001b[0mvalue_counts\u001b[0m\u001b[0;34m(\u001b[0m\u001b[0mnormalize\u001b[0m\u001b[0;34m=\u001b[0m\u001b[0;32mTrue\u001b[0m\u001b[0;34m)\u001b[0m\u001b[0;34m.\u001b[0m\u001b[0mplot\u001b[0m\u001b[0;34m.\u001b[0m\u001b[0mbarh\u001b[0m\u001b[0;34m(\u001b[0m\u001b[0;34m)\u001b[0m\u001b[0;34m\u001b[0m\u001b[0;34m\u001b[0m\u001b[0m\n\u001b[0m\u001b[1;32m      2\u001b[0m \u001b[0mplt\u001b[0m\u001b[0;34m.\u001b[0m\u001b[0mshow\u001b[0m\u001b[0;34m(\u001b[0m\u001b[0;34m)\u001b[0m\u001b[0;34m\u001b[0m\u001b[0;34m\u001b[0m\u001b[0m\n",
      "\u001b[0;32m/opt/anaconda3/lib/python3.8/site-packages/pandas/core/generic.py\u001b[0m in \u001b[0;36m__getattr__\u001b[0;34m(self, name)\u001b[0m\n\u001b[1;32m   5272\u001b[0m             \u001b[0;32mif\u001b[0m \u001b[0mself\u001b[0m\u001b[0;34m.\u001b[0m\u001b[0m_info_axis\u001b[0m\u001b[0;34m.\u001b[0m\u001b[0m_can_hold_identifiers_and_holds_name\u001b[0m\u001b[0;34m(\u001b[0m\u001b[0mname\u001b[0m\u001b[0;34m)\u001b[0m\u001b[0;34m:\u001b[0m\u001b[0;34m\u001b[0m\u001b[0;34m\u001b[0m\u001b[0m\n\u001b[1;32m   5273\u001b[0m                 \u001b[0;32mreturn\u001b[0m \u001b[0mself\u001b[0m\u001b[0;34m[\u001b[0m\u001b[0mname\u001b[0m\u001b[0;34m]\u001b[0m\u001b[0;34m\u001b[0m\u001b[0;34m\u001b[0m\u001b[0m\n\u001b[0;32m-> 5274\u001b[0;31m             \u001b[0;32mreturn\u001b[0m \u001b[0mobject\u001b[0m\u001b[0;34m.\u001b[0m\u001b[0m__getattribute__\u001b[0m\u001b[0;34m(\u001b[0m\u001b[0mself\u001b[0m\u001b[0;34m,\u001b[0m \u001b[0mname\u001b[0m\u001b[0;34m)\u001b[0m\u001b[0;34m\u001b[0m\u001b[0;34m\u001b[0m\u001b[0m\n\u001b[0m\u001b[1;32m   5275\u001b[0m \u001b[0;34m\u001b[0m\u001b[0m\n\u001b[1;32m   5276\u001b[0m     \u001b[0;32mdef\u001b[0m \u001b[0m__setattr__\u001b[0m\u001b[0;34m(\u001b[0m\u001b[0mself\u001b[0m\u001b[0;34m,\u001b[0m \u001b[0mname\u001b[0m\u001b[0;34m:\u001b[0m \u001b[0mstr\u001b[0m\u001b[0;34m,\u001b[0m \u001b[0mvalue\u001b[0m\u001b[0;34m)\u001b[0m \u001b[0;34m->\u001b[0m \u001b[0;32mNone\u001b[0m\u001b[0;34m:\u001b[0m\u001b[0;34m\u001b[0m\u001b[0;34m\u001b[0m\u001b[0m\n",
      "\u001b[0;31mAttributeError\u001b[0m: 'DataFrame' object has no attribute 'sold'"
     ]
    }
   ],
   "source": [
    "df.sold.price.value_counts(normalize=True).plot.barh()\n",
    "plt.show()"
   ]
  },
  {
   "cell_type": "code",
   "execution_count": 19,
   "metadata": {},
   "outputs": [
    {
     "data": {
      "image/png": "[encoded data removed]",
      "text/plain": [
       "<Figure size 432x288 with 2 Axes>"
      ]
     },
     "metadata": {},
     "output_type": "display_data"
    }
   ],
   "source": [
    "sns.heatmap(df[['sold.price','living.area','num.baths', 'zip.code', 'num.beds']].corr(), annot=True, cmap = 'Reds')\n",
    "plt.show()"
   ]
  },
  {
   "cell_type": "code",
   "execution_count": 20,
   "metadata": {},
   "outputs": [
    {
     "data": {
      "image/png": "[encoded data removed]",
      "text/plain": [
       "<Figure size 432x288 with 1 Axes>"
      ]
     },
     "metadata": {},
     "output_type": "display_data"
    }
   ],
   "source": [
    "df.groupby('sold.price').mean().plot.bar()\n",
    "plt.show()"
   ]
  },
  {
   "cell_type": "code",
   "execution_count": 21,
   "metadata": {},
   "outputs": [
    {
     "name": "stderr",
     "output_type": "stream",
     "text": [
      "*c* argument looks like a single numeric RGB or RGBA sequence, which should be avoided as value-mapping will have precedence in case its length matches with *x* & *y*.  Please use the *color* keyword-argument or provide a 2-D array with a single row if you intend to specify the same RGB or RGBA value for all points.\n"
     ]
    },
    {
     "data": {
      "image/png": "[encoded data removed]",
      "text/plain": [
       "<Figure size 432x288 with 1 Axes>"
      ]
     },
     "metadata": {},
     "output_type": "display_data"
    }
   ],
   "source": [
    "df.plot.scatter(x='zip.code', y='sold.price')\n",
    "plt.show()"
   ]
  },
  {
   "cell_type": "code",
   "execution_count": 22,
   "metadata": {},
   "outputs": [
    {
     "name": "stderr",
     "output_type": "stream",
     "text": [
      "*c* argument looks like a single numeric RGB or RGBA sequence, which should be avoided as value-mapping will have precedence in case its length matches with *x* & *y*.  Please use the *color* keyword-argument or provide a 2-D array with a single row if you intend to specify the same RGB or RGBA value for all points.\n"
     ]
    },
    {
     "data": {
      "image/png": "[encoded data removed]",
      "text/plain": [
       "<Figure size 432x288 with 1 Axes>"
      ]
     },
     "metadata": {},
     "output_type": "display_data"
    }
   ],
   "source": [
    "df.plot.scatter(x='living.area', y='sold.price')\n",
    "plt.show()"
   ]
  },
  {
   "cell_type": "code",
   "execution_count": 23,
   "metadata": {},
   "outputs": [
    {
     "name": "stderr",
     "output_type": "stream",
     "text": [
      "*c* argument looks like a single numeric RGB or RGBA sequence, which should be avoided as value-mapping will have precedence in case its length matches with *x* & *y*.  Please use the *color* keyword-argument or provide a 2-D array with a single row if you intend to specify the same RGB or RGBA value for all points.\n"
     ]
    },
    {
     "data": {
      "image/png": "[encoded data removed]",
      "text/plain": [
       "<Figure size 432x288 with 1 Axes>"
      ]
     },
     "metadata": {},
     "output_type": "display_data"
    }
   ],
   "source": [
    "df.plot.scatter(x='num.baths', y='sold.price')\n",
    "plt.show()"
   ]
  },
  {
   "cell_type": "code",
   "execution_count": 24,
   "metadata": {},
   "outputs": [
    {
     "data": {
      "image/png": "[encoded data removed]",
      "text/plain": [
       "<Figure size 432x288 with 2 Axes>"
      ]
     },
     "metadata": {},
     "output_type": "display_data"
    }
   ],
   "source": [
    "sns.heatmap(df.corr(), annot=True, cmap = 'Reds')\n",
    "plt.show()"
   ]
  },
  {
   "cell_type": "code",
   "execution_count": null,
   "metadata": {},
   "outputs": [],
   "source": []
  }
 ],
 "metadata": {
  "kernelspec": {
   "display_name": "Python 3",
   "language": "python",
   "name": "python3"
  },
  "language_info": {
   "codemirror_mode": {
    "name": "ipython",
    "version": 3
   },
   "file_extension": ".py",
   "mimetype": "text/x-python",
   "name": "python",
   "nbconvert_exporter": "python",
   "pygments_lexer": "ipython3",
   "version": "3.8.3"
  }
 },
 "nbformat": 4,
 "nbformat_minor": 4
}
